{
 "cells": [
  {
   "cell_type": "code",
   "execution_count": 90,
   "metadata": {
    "collapsed": true,
    "jupyter": {
     "outputs_hidden": true
    }
   },
   "outputs": [],
   "source": [
    "%matplotlib inline\n",
    "\n",
    "import seaborn as sns\n",
    "\n",
    "plt.style.use('ggplot')"
   ]
  },
  {
   "cell_type": "code",
   "execution_count": 91,
   "metadata": {
    "collapsed": true,
    "jupyter": {
     "outputs_hidden": true
    }
   },
   "outputs": [],
   "source": [
    "url = 'https://www.kba.de/DE/Statistik/Fahrzeuge/Neuzulassungen/Motorisierung/motorisierung_node.html'"
   ]
  },
  {
   "cell_type": "code",
   "execution_count": 92,
   "metadata": {
    "collapsed": true,
    "jupyter": {
     "outputs_hidden": true
    }
   },
   "outputs": [],
   "source": [
    "df = pd.read_html(url)"
   ]
  },
  {
   "cell_type": "code",
   "execution_count": 93,
   "metadata": {},
   "outputs": [
    {
     "data": {
      "text/plain": [
       "<matplotlib.axes._subplots.AxesSubplot at 0x114c68470>"
      ]
     },
     "execution_count": 93,
     "metadata": {},
     "output_type": "execute_result"
    },
    {
     "data": {
      "image/png": "[encoded data removed]",
      "text/plain": [
       "<matplotlib.figure.Figure at 0x114c85898>"
      ]
     },
     "metadata": {},
     "output_type": "display_data"
    }
   ],
   "source": [
    "df[0].iloc[13:21].plot.bar(\"Merkmal\", \"Jahr\\n2015\")"
   ]
  },
  {
   "cell_type": "code",
   "execution_count": 104,
   "metadata": {},
   "outputs": [],
   "source": [
    "url = 'https://www.kba.de/DE/Statistik/Fahrzeuge/Bestand/Ueberblick/2016/2016_b_barometer.html'\n",
    "url = 'https://www.kba.de/DE/Statistik/Fahrzeuge/Bestand/Ueberblick/2017_b_barometer.html'\n",
    "\n",
    "bestand = pd.read_html(url, index_col=0)"
   ]
  },
  {
   "cell_type": "code",
   "execution_count": 111,
   "metadata": {},
   "outputs": [
    {
     "data": {
      "text/html": [
       "<div>\n",
       "<style>\n",
       "    .dataframe thead tr:only-child th {\n",
       "        text-align: right;\n",
       "    }\n",
       "\n",
       "    .dataframe thead th {\n",
       "        text-align: left;\n",
       "    }\n",
       "\n",
       "    .dataframe tbody tr th {\n",
       "        vertical-align: top;\n",
       "    }\n",
       "</style>\n",
       "<table border=\"1\" class=\"dataframe\">\n",
       "  <thead>\n",
       "    <tr style=\"text-align: right;\">\n",
       "      <th></th>\n",
       "      <th>Anzahl\n",
       "am\n",
       "1. Januar 2017</th>\n",
       "      <th>Anteil\n",
       "in %</th>\n",
       "      <th>Anzahl\n",
       "am\n",
       "1. Januar 2016</th>\n",
       "      <th>Anteil\n",
       "in %.1</th>\n",
       "      <th>Veränderung\n",
       "gegenüber dem\n",
       "1. Januar 2016\n",
       "in %</th>\n",
       "    </tr>\n",
       "    <tr>\n",
       "      <th>Emissionsgruppe</th>\n",
       "      <th></th>\n",
       "      <th></th>\n",
       "      <th></th>\n",
       "      <th></th>\n",
       "      <th></th>\n",
       "    </tr>\n",
       "  </thead>\n",
       "  <tbody>\n",
       "    <tr>\n",
       "      <th>Euro 4</th>\n",
       "      <td>15.224.324</td>\n",
       "      <td>332</td>\n",
       "      <td>16.002.343</td>\n",
       "      <td>355</td>\n",
       "      <td>-49</td>\n",
       "    </tr>\n",
       "    <tr>\n",
       "      <th>Euro 5</th>\n",
       "      <td>13.464.430</td>\n",
       "      <td>294</td>\n",
       "      <td>13.631.604</td>\n",
       "      <td>302</td>\n",
       "      <td>-12</td>\n",
       "    </tr>\n",
       "    <tr>\n",
       "      <th>Euro 6</th>\n",
       "      <td>6.138.974</td>\n",
       "      <td>134</td>\n",
       "      <td>3.129.196</td>\n",
       "      <td>69</td>\n",
       "      <td>+96,2</td>\n",
       "    </tr>\n",
       "  </tbody>\n",
       "</table>\n",
       "</div>"
      ],
      "text/plain": [
       "                Anzahl\\nam\\n1. Januar 2017  Anteil\\nin %  \\\n",
       "Emissionsgruppe                                            \n",
       "Euro 4                          15.224.324           332   \n",
       "Euro 5                          13.464.430           294   \n",
       "Euro 6                           6.138.974           134   \n",
       "\n",
       "                Anzahl\\nam\\n1. Januar 2016  Anteil\\nin %.1  \\\n",
       "Emissionsgruppe                                              \n",
       "Euro 4                          16.002.343             355   \n",
       "Euro 5                          13.631.604             302   \n",
       "Euro 6                           3.129.196              69   \n",
       "\n",
       "                Veränderung\\ngegenüber dem\\n1. Januar 2016\\nin %  \n",
       "Emissionsgruppe                                                   \n",
       "Euro 4                                                       -49  \n",
       "Euro 5                                                       -12  \n",
       "Euro 6                                                     +96,2  "
      ]
     },
     "execution_count": 111,
     "metadata": {},
     "output_type": "execute_result"
    }
   ],
   "source": [
    "bestand[3]"
   ]
  },
  {
   "cell_type": "code",
   "execution_count": null,
   "metadata": {
    "collapsed": true,
    "jupyter": {
     "outputs_hidden": true
    }
   },
   "outputs": [],
   "source": []
  }
 ],
 "metadata": {
  "kernelspec": {
   "display_name": "Python 3",
   "language": "python",
   "name": "python3"
  },
  "language_info": {
   "codemirror_mode": {
    "name": "ipython",
    "version": 3
   },
   "file_extension": ".py",
   "mimetype": "text/x-python",
   "name": "python",
   "nbconvert_exporter": "python",
   "pygments_lexer": "ipython3",
   "version": "3.7.3"
  },
  "toc": {
   "colors": {
    "hover_highlight": "#DAA520",
    "running_highlight": "#FF0000",
    "selected_highlight": "#FFD700"
   },
   "moveMenuLeft": true,
   "nav_menu": {
    "height": "12px",
    "width": "252px"
   },
   "navigate_menu": true,
   "number_sections": true,
   "sideBar": true,
   "threshold": 4,
   "toc_cell": false,
   "toc_section_display": "block",
   "toc_window_display": false,
   "widenNotebook": false
  }
 },
 "nbformat": 4,
 "nbformat_minor": 4
}
