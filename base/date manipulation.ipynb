{
 "cells": [
  {
   "cell_type": "markdown",
   "metadata": {},
   "source": [
    "## Python standard library"
   ]
  },
  {
   "cell_type": "markdown",
   "metadata": {},
   "source": [
    "First some environment variables must be set in order to set localtime"
   ]
  },
  {
   "cell_type": "code",
   "execution_count": 2,
   "metadata": {},
   "outputs": [],
   "source": [
    "from os import environ\n",
    "\n",
    "environ['LC_ALL'] = 'fr_FR.UTF-8'\n",
    "environ['TZ'] = 'Europe/Paris'"
   ]
  },
  {
   "cell_type": "markdown",
   "metadata": {},
   "source": [
    "## `time` module"
   ]
  },
  {
   "cell_type": "code",
   "execution_count": 3,
   "metadata": {},
   "outputs": [],
   "source": [
    "import time"
   ]
  },
  {
   "cell_type": "markdown",
   "metadata": {},
   "source": [
    "This module provides various time-related functions. It is based on `sys/times.h` and coded in C. Important terminology and conventions from the [python documentation](https://docs.python.org/3/library/time.html):\n",
    "\n",
    "* The epoch is the point where the time starts, and is platform dependent.  \n",
    "\n",
    "* UTC is Coordinated Universal Time, compromise between English and French.\n",
    "\n",
    "* DST is Daylight Saving Time, an adjustment of the timezone during part of the year."
   ]
  },
  {
   "cell_type": "markdown",
   "metadata": {},
   "source": [
    "`time` specificities:\n",
    "\n",
    "* To find out what the epoch is on a given platform, look at `time.gmtime(0)`. For Unix, the epoch is January 1, 1970, 00:00:00 (UTC). \n",
    "\n",
    "* DST rules are determined by local law and can change from year to year. The C library has a table containing those and is the only source of True Wisdom in this respect.\n",
    "\n",
    "* The functions in this module may not handle dates and times before the epoch or far in the future. The cut-off point in the future is determined by the C library; for 32-bit systems, it is typically in 2038.\n",
    "\n",
    "* Function strptime() can parse 2-digit years when given %y format code. When 2-digit years are parsed, they are converted according to the POSIX and ISO C standards: values 69–99 are mapped to 1969–1999, and values 0–68 are mapped to 2000–2068.\n",
    "\n",
    "* The precision of the various real-time functions may be less than suggested by the units in which their value or argument is expressed. E.g. on most Unix systems, the clock “ticks” only 50 or 100 times a second.\n",
    "\n",
    "* On the other hand, the precision of `time()` and `sleep()` is better than their Unix equivalents: times are expressed as floating point numbers, time() returns the most accurate time available (using Unix gettimeofday() where available), and sleep() will accept a time with a nonzero fraction (Unix select() is used to implement this, where available).\n",
    "\n",
    "* The time value as returned by `gmtime()`, `localtime()`, and `strptime()`, and accepted by `asctime()`, `mktime()` and `strftime()`, is a sequence of 9 integers. The return values of `gmtime()`, `localtime()`, and `strptime()` also offer attribute names for individual fields."
   ]
  },
  {
   "cell_type": "markdown",
   "metadata": {},
   "source": [
    "Use the following functions to convert between time representations:"
   ]
  },
  {
   "cell_type": "markdown",
   "metadata": {},
   "source": [
    "<table class=\"docutils align-center\">\n",
    "<colgroup>\n",
    "<col style=\"width: 33%\">\n",
    "<col style=\"width: 33%\">\n",
    "<col style=\"width: 33%\">\n",
    "</colgroup>\n",
    "<thead>\n",
    "<tr class=\"row-odd\"><th class=\"head\"><p>From</p></th>\n",
    "<th class=\"head\"><p>To</p></th>\n",
    "<th class=\"head\"><p>Use</p></th>\n",
    "</tr>\n",
    "</thead>\n",
    "<tbody>\n",
    "<tr class=\"row-even\"><td><p>seconds since the epoch</p></td>\n",
    "<td><p><a class=\"reference internal\" href=\"#time.struct_time\" title=\"time.struct_time\"><code class=\"xref py py-class docutils literal notranslate\"><span class=\"pre\">struct_time</span></code></a> in\n",
    "UTC</p></td>\n",
    "<td><p><a class=\"reference internal\" href=\"#time.gmtime\" title=\"time.gmtime\"><code class=\"xref py py-func docutils literal notranslate\"><span class=\"pre\">gmtime()</span></code></a></p></td>\n",
    "</tr>\n",
    "<tr class=\"row-odd\"><td><p>seconds since the epoch</p></td>\n",
    "<td><p><a class=\"reference internal\" href=\"#time.struct_time\" title=\"time.struct_time\"><code class=\"xref py py-class docutils literal notranslate\"><span class=\"pre\">struct_time</span></code></a> in\n",
    "local time</p></td>\n",
    "<td><p><a class=\"reference internal\" href=\"#time.localtime\" title=\"time.localtime\"><code class=\"xref py py-func docutils literal notranslate\"><span class=\"pre\">localtime()</span></code></a></p></td>\n",
    "</tr>\n",
    "<tr class=\"row-even\"><td><p><a class=\"reference internal\" href=\"#time.struct_time\" title=\"time.struct_time\"><code class=\"xref py py-class docutils literal notranslate\"><span class=\"pre\">struct_time</span></code></a> in\n",
    "UTC</p></td>\n",
    "<td><p>seconds since the epoch</p></td>\n",
    "<td><p><a class=\"reference internal\" href=\"calendar.html#calendar.timegm\" title=\"calendar.timegm\"><code class=\"xref py py-func docutils literal notranslate\"><span class=\"pre\">calendar.timegm()</span></code></a></p></td>\n",
    "</tr>\n",
    "<tr class=\"row-odd\"><td><p><a class=\"reference internal\" href=\"#time.struct_time\" title=\"time.struct_time\"><code class=\"xref py py-class docutils literal notranslate\"><span class=\"pre\">struct_time</span></code></a> in\n",
    "local time</p></td>\n",
    "<td><p>seconds since the epoch</p></td>\n",
    "<td><p><a class=\"reference internal\" href=\"#time.mktime\" title=\"time.mktime\"><code class=\"xref py py-func docutils literal notranslate\"><span class=\"pre\">mktime()</span></code></a></p></td>\n",
    "</tr>\n",
    "</tbody>\n",
    "</table>"
   ]
  },
  {
   "cell_type": "code",
   "execution_count": 4,
   "metadata": {},
   "outputs": [],
   "source": [
    "import sys"
   ]
  },
  {
   "cell_type": "code",
   "execution_count": 5,
   "metadata": {},
   "outputs": [
    {
     "data": {
      "text/plain": [
       "time.struct_time(tm_year=1970, tm_mon=1, tm_mday=1, tm_hour=0, tm_min=0, tm_sec=0, tm_wday=3, tm_yday=1, tm_isdst=0)"
      ]
     },
     "execution_count": 5,
     "metadata": {},
     "output_type": "execute_result"
    }
   ],
   "source": [
    "time.gmtime(0)"
   ]
  },
  {
   "cell_type": "markdown",
   "metadata": {},
   "source": [
    "### Naive/Aware time zone"
   ]
  },
  {
   "cell_type": "markdown",
   "metadata": {},
   "source": [
    "Python/Pandas timestamp types without a associated time zone are referred to as “Time Zone Naive”. Python/Pandas timestamp types with an associated time zone are referred to as “Time Zone Aware”."
   ]
  },
  {
   "cell_type": "markdown",
   "metadata": {},
   "source": [
    "### locale"
   ]
  },
  {
   "cell_type": "markdown",
   "metadata": {},
   "source": [
    "Locale are usually set at the operating system level, in containerized system, the must be eventualy set manualy\n",
    "\n",
    "[Understanding locale environment variables](https://www.ibm.com/support/knowledgecenter/en/ssw_aix_72/globalization/understand_locale_environ_var.html) and [table](https://www.ibm.com/support/knowledgecenter/en/ssw_aix_72/globalization/environ_var_precedence_exmp.html).   \n",
    "\n",
    "Example:\n",
    "\n",
    "<table summary=\"\" class=\"defaultstyle ibm-grid\"><colgroup><col style=\"width:33.22147651006711%\"><col style=\"width:29.86577181208054%\"><col style=\"width:36.91275167785235%\"></colgroup><thead style=\"text-align:left;\">\n",
    "<tr style=\"vertical-align:bottom;\">\n",
    "<th id=\"d14428e62\" class=\"thbot\">Environment Variable and Category Names</th>\n",
    "\n",
    "<th id=\"d14428e65\" class=\"thleft thbot\">Value of Environment Variables</th>\n",
    "\n",
    "<th id=\"d14428e68\" class=\"thleft thbot\">Value of Category after Call to\n",
    "setlocale (LC_ALL,\"\")</th>\n",
    "\n",
    "</tr>\n",
    "\n",
    "</thead>\n",
    "<tbody>\n",
    "<tr>\n",
    "<td headers=\"d14428e62 \"><strong>LC_COLLATE</strong></td>\n",
    "\n",
    "<td headers=\"d14428e65 \" class=\"tdleft\">de_DE</td>\n",
    "\n",
    "<td headers=\"d14428e68 \" class=\"tdleft\">de_DE</td>\n",
    "\n",
    "</tr>\n",
    "\n",
    "<tr>\n",
    "<td headers=\"d14428e62 \"><strong>LC_CTYPE</strong></td>\n",
    "\n",
    "<td headers=\"d14428e65 \" class=\"tdleft\">de_DE</td>\n",
    "\n",
    "<td headers=\"d14428e68 \" class=\"tdleft\">de_DE</td>\n",
    "\n",
    "</tr>\n",
    "\n",
    "<tr>\n",
    "<td headers=\"d14428e62 \"><strong>LC_MONETARY</strong></td>\n",
    "\n",
    "<td headers=\"d14428e65 \">en_US</td>\n",
    "\n",
    "<td headers=\"d14428e68 \">en_US</td>\n",
    "\n",
    "</tr>\n",
    "\n",
    "<tr>\n",
    "<td headers=\"d14428e62 \"><strong>LC_NUMERIC</strong></td>\n",
    "\n",
    "<td headers=\"d14428e65 \">(unset)</td>\n",
    "\n",
    "<td headers=\"d14428e68 \">da_DK</td>\n",
    "\n",
    "</tr>\n",
    "\n",
    "<tr>\n",
    "<td headers=\"d14428e62 \"><strong>LC_TIME</strong></td>\n",
    "\n",
    "<td headers=\"d14428e65 \">(unset)</td>\n",
    "\n",
    "<td headers=\"d14428e68 \">da_DK</td>\n",
    "\n",
    "</tr>\n",
    "\n",
    "<tr>\n",
    "<td headers=\"d14428e62 \"><strong>LC_MESSAGES</strong></td>\n",
    "\n",
    "<td headers=\"d14428e65 \">(unset)</td>\n",
    "\n",
    "<td headers=\"d14428e68 \">da_DK</td>\n",
    "\n",
    "</tr>\n",
    "\n",
    "<tr>\n",
    "<td headers=\"d14428e62 \"><strong>LC_ALL</strong></td>\n",
    "\n",
    "<td headers=\"d14428e65 \">(unset)</td>\n",
    "\n",
    "<td headers=\"d14428e68 \">(not applicable)</td>\n",
    "\n",
    "</tr>\n",
    "\n",
    "<tr>\n",
    "<td headers=\"d14428e62 \"><strong>LANG</strong></td>\n",
    "\n",
    "<td headers=\"d14428e65 \">da_DK</td>\n",
    "\n",
    "<td headers=\"d14428e68 \">(not applicable)</td>\n",
    "\n",
    "</tr>\n",
    "\n",
    "</tbody>\n",
    "</table>"
   ]
  },
  {
   "cell_type": "code",
   "execution_count": 6,
   "metadata": {},
   "outputs": [],
   "source": [
    "import locale"
   ]
  },
  {
   "cell_type": "code",
   "execution_count": 7,
   "metadata": {},
   "outputs": [
    {
     "data": {
      "text/plain": [
       "('fr_FR', 'UTF-8')"
      ]
     },
     "execution_count": 7,
     "metadata": {},
     "output_type": "execute_result"
    }
   ],
   "source": [
    "locale.getdefaultlocale()"
   ]
  },
  {
   "cell_type": "code",
   "execution_count": 8,
   "metadata": {},
   "outputs": [
    {
     "data": {
      "text/plain": [
       "(None, None)"
      ]
     },
     "execution_count": 8,
     "metadata": {},
     "output_type": "execute_result"
    }
   ],
   "source": [
    "locale.getlocale()"
   ]
  },
  {
   "cell_type": "code",
   "execution_count": 9,
   "metadata": {},
   "outputs": [
    {
     "data": {
      "text/plain": [
       "'fr_FR.UTF-8'"
      ]
     },
     "execution_count": 9,
     "metadata": {},
     "output_type": "execute_result"
    }
   ],
   "source": [
    "locale.setlocale(locale.LC_ALL, 'fr_FR.UTF-8')"
   ]
  },
  {
   "cell_type": "markdown",
   "metadata": {},
   "source": [
    "Time zone is beeing set according to TZ environment variable"
   ]
  },
  {
   "cell_type": "code",
   "execution_count": 10,
   "metadata": {},
   "outputs": [],
   "source": [
    "time.tzset()"
   ]
  },
  {
   "cell_type": "code",
   "execution_count": 11,
   "metadata": {},
   "outputs": [
    {
     "data": {
      "text/plain": [
       "time.struct_time(tm_year=2020, tm_mon=2, tm_mday=19, tm_hour=10, tm_min=23, tm_sec=43, tm_wday=2, tm_yday=50, tm_isdst=0)"
      ]
     },
     "execution_count": 11,
     "metadata": {},
     "output_type": "execute_result"
    }
   ],
   "source": [
    "time.localtime()"
   ]
  },
  {
   "cell_type": "code",
   "execution_count": 12,
   "metadata": {},
   "outputs": [
    {
     "data": {
      "text/plain": [
       "'CET'"
      ]
     },
     "execution_count": 12,
     "metadata": {},
     "output_type": "execute_result"
    }
   ],
   "source": [
    "time.localtime().tm_zone"
   ]
  },
  {
   "cell_type": "code",
   "execution_count": 13,
   "metadata": {},
   "outputs": [
    {
     "data": {
      "text/plain": [
       "1582104223312507367"
      ]
     },
     "execution_count": 13,
     "metadata": {},
     "output_type": "execute_result"
    }
   ],
   "source": [
    "time.time_ns()"
   ]
  },
  {
   "cell_type": "code",
   "execution_count": 14,
   "metadata": {},
   "outputs": [
    {
     "data": {
      "text/plain": [
       "'Wed Feb 19 10:23:43 2020'"
      ]
     },
     "execution_count": 14,
     "metadata": {},
     "output_type": "execute_result"
    }
   ],
   "source": [
    "time.ctime()"
   ]
  },
  {
   "cell_type": "markdown",
   "metadata": {},
   "source": [
    "## `datetime` module"
   ]
  },
  {
   "cell_type": "markdown",
   "metadata": {},
   "source": [
    "The `datetime` module uses the `time` module, is coded in Python and supplies classes for manipulating dates and times.\n",
    "\n",
    "* [ISO 8601](https://en.wikipedia.org/wiki/ISO_8601)\n",
    "* Python official [documentation](https://docs.python.org/fr/3/library/datetime.html)"
   ]
  },
  {
   "cell_type": "code",
   "execution_count": 15,
   "metadata": {},
   "outputs": [],
   "source": [
    "import datetime as dt\n",
    "from datetime import datetime"
   ]
  },
  {
   "cell_type": "markdown",
   "metadata": {},
   "source": [
    "### Subclasses"
   ]
  },
  {
   "cell_type": "markdown",
   "metadata": {},
   "source": [
    "Subclass relationships:\n",
    "\n",
    "<pre>\n",
    "object\n",
    "    timedelta\n",
    "    tzinfo\n",
    "        timezone\n",
    "    time\n",
    "    date\n",
    "        datetime \n",
    "</pre>"
   ]
  },
  {
   "cell_type": "markdown",
   "metadata": {},
   "source": [
    "Python/Pandas timestamp types without a associated time zone are referred to as “Time Zone Naive”. Python/Pandas timestamp types with an associated time zone are referred to as “Time Zone Aware”.\n",
    "\n",
    "- All these types are immuables\n",
    "- `date` objects are always *naives*\n",
    "- `time` or `datetime` types can be either *naive* or *aware* (such an object d must success `(d.tzinfo != None) & (d.tzinfo.utcoffset(d) ! None)`"
   ]
  },
  {
   "cell_type": "code",
   "execution_count": 16,
   "metadata": {},
   "outputs": [
    {
     "data": {
      "text/plain": [
       "\u001b[0;31mInit signature:\u001b[0m \u001b[0mdt\u001b[0m\u001b[0;34m.\u001b[0m\u001b[0mtimedelta\u001b[0m\u001b[0;34m(\u001b[0m\u001b[0mself\u001b[0m\u001b[0;34m,\u001b[0m \u001b[0;34m/\u001b[0m\u001b[0;34m,\u001b[0m \u001b[0;34m*\u001b[0m\u001b[0margs\u001b[0m\u001b[0;34m,\u001b[0m \u001b[0;34m**\u001b[0m\u001b[0mkwargs\u001b[0m\u001b[0;34m)\u001b[0m\u001b[0;34m\u001b[0m\u001b[0;34m\u001b[0m\u001b[0m\n",
       "\u001b[0;31mDocstring:\u001b[0m     \n",
       "Difference between two datetime values.\n",
       "\n",
       "timedelta(days=0, seconds=0, microseconds=0, milliseconds=0, minutes=0, hours=0, weeks=0)\n",
       "\n",
       "All arguments are optional and default to 0.\n",
       "Arguments may be integers or floats, and may be positive or negative.\n",
       "\u001b[0;31mFile:\u001b[0m           /opt/conda/lib/python3.7/datetime.py\n",
       "\u001b[0;31mType:\u001b[0m           type\n",
       "\u001b[0;31mSubclasses:\u001b[0m     \n"
      ]
     },
     "metadata": {},
     "output_type": "display_data"
    }
   ],
   "source": [
    "dt.timedelta?"
   ]
  },
  {
   "cell_type": "code",
   "execution_count": 17,
   "metadata": {},
   "outputs": [
    {
     "data": {
      "text/plain": [
       "\u001b[0;31mInit signature:\u001b[0m \u001b[0mdt\u001b[0m\u001b[0;34m.\u001b[0m\u001b[0mtzinfo\u001b[0m\u001b[0;34m(\u001b[0m\u001b[0mself\u001b[0m\u001b[0;34m,\u001b[0m \u001b[0;34m/\u001b[0m\u001b[0;34m,\u001b[0m \u001b[0;34m*\u001b[0m\u001b[0margs\u001b[0m\u001b[0;34m,\u001b[0m \u001b[0;34m**\u001b[0m\u001b[0mkwargs\u001b[0m\u001b[0;34m)\u001b[0m\u001b[0;34m\u001b[0m\u001b[0;34m\u001b[0m\u001b[0m\n",
       "\u001b[0;31mDocstring:\u001b[0m      Abstract base class for time zone info objects.\n",
       "\u001b[0;31mFile:\u001b[0m           /opt/conda/lib/python3.7/datetime.py\n",
       "\u001b[0;31mType:\u001b[0m           type\n",
       "\u001b[0;31mSubclasses:\u001b[0m     timezone, _tzinfo, tzutc, tzoffset\n"
      ]
     },
     "metadata": {},
     "output_type": "display_data"
    }
   ],
   "source": [
    "dt.tzinfo?"
   ]
  },
  {
   "cell_type": "code",
   "execution_count": 18,
   "metadata": {},
   "outputs": [
    {
     "data": {
      "text/plain": [
       "\u001b[0;31mInit signature:\u001b[0m \u001b[0mdt\u001b[0m\u001b[0;34m.\u001b[0m\u001b[0mtimezone\u001b[0m\u001b[0;34m(\u001b[0m\u001b[0mself\u001b[0m\u001b[0;34m,\u001b[0m \u001b[0;34m/\u001b[0m\u001b[0;34m,\u001b[0m \u001b[0;34m*\u001b[0m\u001b[0margs\u001b[0m\u001b[0;34m,\u001b[0m \u001b[0;34m**\u001b[0m\u001b[0mkwargs\u001b[0m\u001b[0;34m)\u001b[0m\u001b[0;34m\u001b[0m\u001b[0;34m\u001b[0m\u001b[0m\n",
       "\u001b[0;31mDocstring:\u001b[0m      Fixed offset from UTC implementation of tzinfo.\n",
       "\u001b[0;31mFile:\u001b[0m           /opt/conda/lib/python3.7/datetime.py\n",
       "\u001b[0;31mType:\u001b[0m           type\n",
       "\u001b[0;31mSubclasses:\u001b[0m     \n"
      ]
     },
     "metadata": {},
     "output_type": "display_data"
    }
   ],
   "source": [
    "dt.timezone?"
   ]
  },
  {
   "cell_type": "code",
   "execution_count": 19,
   "metadata": {},
   "outputs": [
    {
     "data": {
      "text/plain": [
       "\u001b[0;31mInit signature:\u001b[0m \u001b[0mdt\u001b[0m\u001b[0;34m.\u001b[0m\u001b[0mdate\u001b[0m\u001b[0;34m(\u001b[0m\u001b[0mself\u001b[0m\u001b[0;34m,\u001b[0m \u001b[0;34m/\u001b[0m\u001b[0;34m,\u001b[0m \u001b[0;34m*\u001b[0m\u001b[0margs\u001b[0m\u001b[0;34m,\u001b[0m \u001b[0;34m**\u001b[0m\u001b[0mkwargs\u001b[0m\u001b[0;34m)\u001b[0m\u001b[0;34m\u001b[0m\u001b[0;34m\u001b[0m\u001b[0m\n",
       "\u001b[0;31mDocstring:\u001b[0m      date(year, month, day) --> date object\n",
       "\u001b[0;31mFile:\u001b[0m           /opt/conda/lib/python3.7/datetime.py\n",
       "\u001b[0;31mType:\u001b[0m           type\n",
       "\u001b[0;31mSubclasses:\u001b[0m     datetime\n"
      ]
     },
     "metadata": {},
     "output_type": "display_data"
    }
   ],
   "source": [
    "dt.date?"
   ]
  },
  {
   "cell_type": "code",
   "execution_count": 20,
   "metadata": {},
   "outputs": [
    {
     "data": {
      "text/plain": [
       "\u001b[0;31mInit signature:\u001b[0m \u001b[0mdt\u001b[0m\u001b[0;34m.\u001b[0m\u001b[0mdatetime\u001b[0m\u001b[0;34m(\u001b[0m\u001b[0mself\u001b[0m\u001b[0;34m,\u001b[0m \u001b[0;34m/\u001b[0m\u001b[0;34m,\u001b[0m \u001b[0;34m*\u001b[0m\u001b[0margs\u001b[0m\u001b[0;34m,\u001b[0m \u001b[0;34m**\u001b[0m\u001b[0mkwargs\u001b[0m\u001b[0;34m)\u001b[0m\u001b[0;34m\u001b[0m\u001b[0;34m\u001b[0m\u001b[0m\n",
       "\u001b[0;31mDocstring:\u001b[0m     \n",
       "datetime(year, month, day[, hour[, minute[, second[, microsecond[,tzinfo]]]]])\n",
       "\n",
       "The year, month and day arguments are required. tzinfo may be None, or an\n",
       "instance of a tzinfo subclass. The remaining arguments may be ints.\n",
       "\u001b[0;31mFile:\u001b[0m           /opt/conda/lib/python3.7/datetime.py\n",
       "\u001b[0;31mType:\u001b[0m           type\n",
       "\u001b[0;31mSubclasses:\u001b[0m     \n"
      ]
     },
     "metadata": {},
     "output_type": "display_data"
    }
   ],
   "source": [
    "dt.datetime?"
   ]
  },
  {
   "cell_type": "code",
   "execution_count": 21,
   "metadata": {},
   "outputs": [
    {
     "data": {
      "text/plain": [
       "\u001b[0;31mInit signature:\u001b[0m \u001b[0mdt\u001b[0m\u001b[0;34m.\u001b[0m\u001b[0mtime\u001b[0m\u001b[0;34m(\u001b[0m\u001b[0mself\u001b[0m\u001b[0;34m,\u001b[0m \u001b[0;34m/\u001b[0m\u001b[0;34m,\u001b[0m \u001b[0;34m*\u001b[0m\u001b[0margs\u001b[0m\u001b[0;34m,\u001b[0m \u001b[0;34m**\u001b[0m\u001b[0mkwargs\u001b[0m\u001b[0;34m)\u001b[0m\u001b[0;34m\u001b[0m\u001b[0;34m\u001b[0m\u001b[0m\n",
       "\u001b[0;31mDocstring:\u001b[0m     \n",
       "time([hour[, minute[, second[, microsecond[, tzinfo]]]]]) --> a time object\n",
       "\n",
       "All arguments are optional. tzinfo may be None, or an instance of\n",
       "a tzinfo subclass. The remaining arguments may be ints.\n",
       "\u001b[0;31mFile:\u001b[0m           /opt/conda/lib/python3.7/datetime.py\n",
       "\u001b[0;31mType:\u001b[0m           type\n",
       "\u001b[0;31mSubclasses:\u001b[0m     \n"
      ]
     },
     "metadata": {},
     "output_type": "display_data"
    }
   ],
   "source": [
    "dt.time?"
   ]
  },
  {
   "cell_type": "markdown",
   "metadata": {},
   "source": [
    "### `datetime` constructors"
   ]
  },
  {
   "cell_type": "markdown",
   "metadata": {},
   "source": [
    "Constructors are:\n",
    "- `datetime.datetime(*pargs, **kwargs)`\n",
    "- `datetime.today(*pargs, **kwargs)`\n",
    "- `datetime.now(*pargs, **kwargs)`\n",
    "- `datetime.utcnow(*pargs, **kwargs)`\n",
    "- `datetime.fromtimestamp(*pargs, **kwargs)`\n",
    "- `datetime.fromordinal(*pargs, **kwargs)`\n",
    "- `datetime.combine(*pargs, **kwargs)`\n",
    "- `datetime.fromisoformat(*pargs, **kwargs)`\n",
    "- `datetime.strptime(*pargs, **kwargs)`\n",
    "\n",
    "`Datetime` objects have:\n",
    "- class attributes `min`, `max` an `resolution`\n",
    "- instance attributes `year`, `month`, `day`, `hour`, `minute`, `second`, `microsecond`, `tzinfo`, `fold`\n",
    "\n",
    "\n",
    "See the documentation for usage."
   ]
  },
  {
   "cell_type": "code",
   "execution_count": 22,
   "metadata": {},
   "outputs": [
    {
     "data": {
      "text/plain": [
       "datetime.datetime(2019, 1, 1, 0, 0)"
      ]
     },
     "execution_count": 22,
     "metadata": {},
     "output_type": "execute_result"
    }
   ],
   "source": [
    "t1 = dt.datetime(2019, 1, 1, 0, 0, 0, 0)\n",
    "t1"
   ]
  },
  {
   "cell_type": "code",
   "execution_count": 23,
   "metadata": {},
   "outputs": [
    {
     "data": {
      "text/plain": [
       "datetime.datetime(2020, 2, 19, 10, 23, 43, 452652)"
      ]
     },
     "execution_count": 23,
     "metadata": {},
     "output_type": "execute_result"
    }
   ],
   "source": [
    "now = dt.datetime.now()\n",
    "now"
   ]
  },
  {
   "cell_type": "code",
   "execution_count": 24,
   "metadata": {},
   "outputs": [
    {
     "data": {
      "text/plain": [
       "datetime.timedelta(days=414, seconds=37423, microseconds=452652)"
      ]
     },
     "execution_count": 24,
     "metadata": {},
     "output_type": "execute_result"
    }
   ],
   "source": [
    "now - t1"
   ]
  },
  {
   "cell_type": "code",
   "execution_count": 25,
   "metadata": {},
   "outputs": [
    {
     "data": {
      "text/plain": [
       "datetime.datetime(2020, 2, 19, 10, 23, 43, 469193)"
      ]
     },
     "execution_count": 25,
     "metadata": {},
     "output_type": "execute_result"
    }
   ],
   "source": [
    "today = dt.datetime.today()\n",
    "today"
   ]
  },
  {
   "cell_type": "code",
   "execution_count": 26,
   "metadata": {},
   "outputs": [
    {
     "data": {
      "text/plain": [
       "'19.02.2020'"
      ]
     },
     "execution_count": 26,
     "metadata": {},
     "output_type": "execute_result"
    }
   ],
   "source": [
    "today.strftime('%d.%m.%Y')"
   ]
  },
  {
   "cell_type": "markdown",
   "metadata": {},
   "source": [
    "## Numpy datetime64"
   ]
  },
  {
   "cell_type": "markdown",
   "metadata": {},
   "source": [
    "The data type is called “datetime64”, so named because “datetime” is already taken by the datetime library included in Python.\n",
    "\n",
    "* [ISO 8601](https://en.wikipedia.org/wiki/ISO_8601)\n",
    "* [Datetimes and Timedeltas](https://docs.scipy.org/doc/numpy/reference/arrays.datetime.html?highlight=numpy%20datetime64)\n",
    "* [Datetime Support Functions](https://docs.scipy.org/doc/numpy/reference/routines.datetime.html)"
   ]
  },
  {
   "cell_type": "code",
   "execution_count": 27,
   "metadata": {},
   "outputs": [],
   "source": [
    "import numpy as np\n",
    "from numpy import datetime64"
   ]
  },
  {
   "cell_type": "code",
   "execution_count": 28,
   "metadata": {},
   "outputs": [],
   "source": [
    "d0 = datetime64('2002-10-27T04:30', '10s')"
   ]
  },
  {
   "cell_type": "code",
   "execution_count": 29,
   "metadata": {},
   "outputs": [
    {
     "data": {
      "text/plain": [
       "numpy.datetime64('2002-10-27T04:30:10','10s')"
      ]
     },
     "execution_count": 29,
     "metadata": {},
     "output_type": "execute_result"
    }
   ],
   "source": [
    "d0 + 1"
   ]
  },
  {
   "cell_type": "code",
   "execution_count": 30,
   "metadata": {},
   "outputs": [
    {
     "data": {
      "text/plain": [
       "('s', 10)"
      ]
     },
     "execution_count": 30,
     "metadata": {},
     "output_type": "execute_result"
    }
   ],
   "source": [
    "np.datetime_data(d0)"
   ]
  },
  {
   "cell_type": "code",
   "execution_count": 31,
   "metadata": {},
   "outputs": [
    {
     "data": {
      "text/plain": [
       "array(['1979-03-22T15:00'], dtype='datetime64[m]')"
      ]
     },
     "execution_count": 31,
     "metadata": {},
     "output_type": "execute_result"
    }
   ],
   "source": [
    "a = np.array(['1979-03-22T12'], dtype='M8[h]')\n",
    "b = np.array([3*60], dtype='m8[m]')\n",
    "a + b"
   ]
  },
  {
   "cell_type": "code",
   "execution_count": 32,
   "metadata": {},
   "outputs": [],
   "source": [
    "a = np.timedelta64(1, 'Y')"
   ]
  },
  {
   "cell_type": "code",
   "execution_count": 33,
   "metadata": {},
   "outputs": [
    {
     "data": {
      "text/plain": [
       "numpy.timedelta64(1,'Y')"
      ]
     },
     "execution_count": 33,
     "metadata": {},
     "output_type": "execute_result"
    }
   ],
   "source": [
    "a"
   ]
  },
  {
   "cell_type": "code",
   "execution_count": 34,
   "metadata": {},
   "outputs": [
    {
     "data": {
      "text/plain": [
       "('Y', 1)"
      ]
     },
     "execution_count": 34,
     "metadata": {},
     "output_type": "execute_result"
    }
   ],
   "source": [
    "np.datetime_data(a)"
   ]
  },
  {
   "cell_type": "code",
   "execution_count": 35,
   "metadata": {},
   "outputs": [
    {
     "data": {
      "text/plain": [
       "array(['2002-10-27T07:30:00'], dtype='datetime64[10s]')"
      ]
     },
     "execution_count": 35,
     "metadata": {},
     "output_type": "execute_result"
    }
   ],
   "source": [
    "d0 + b"
   ]
  },
  {
   "cell_type": "code",
   "execution_count": 36,
   "metadata": {},
   "outputs": [
    {
     "name": "stderr",
     "output_type": "stream",
     "text": [
      "/opt/conda/lib/python3.7/site-packages/ipykernel_launcher.py:4: UserWarning: Cannot get a common metadata divisor for NumPy datetime metadata [10s] and [Y] because they have incompatible nonlinear base time units\n",
      "  after removing the cwd from sys.path.\n"
     ]
    }
   ],
   "source": [
    "from warnings import\n",
    "\n",
    "try:\n",
    "    d0 + a\n",
    "except TypeError as e:\n",
    "    warn(str(e), UserWarning)"
   ]
  },
  {
   "cell_type": "code",
   "execution_count": 37,
   "metadata": {},
   "outputs": [],
   "source": [
    "c = np.timedelta64(1, 's')"
   ]
  },
  {
   "cell_type": "code",
   "execution_count": 38,
   "metadata": {},
   "outputs": [
    {
     "data": {
      "text/plain": [
       "numpy.datetime64('2002-10-27T04:30:01')"
      ]
     },
     "execution_count": 38,
     "metadata": {},
     "output_type": "execute_result"
    }
   ],
   "source": [
    "d0 + c"
   ]
  },
  {
   "cell_type": "code",
   "execution_count": 39,
   "metadata": {},
   "outputs": [
    {
     "data": {
      "text/plain": [
       "103569300"
      ]
     },
     "execution_count": 39,
     "metadata": {},
     "output_type": "execute_result"
    }
   ],
   "source": [
    "d0.astype(int)"
   ]
  },
  {
   "cell_type": "code",
   "execution_count": 40,
   "metadata": {},
   "outputs": [
    {
     "data": {
      "text/plain": [
       "datetime.datetime(1973, 4, 13, 17, 15)"
      ]
     },
     "execution_count": 40,
     "metadata": {},
     "output_type": "execute_result"
    }
   ],
   "source": [
    "datetime.utcfromtimestamp(d0.astype(int))"
   ]
  },
  {
   "cell_type": "code",
   "execution_count": 41,
   "metadata": {},
   "outputs": [
    {
     "data": {
      "text/plain": [
       "datetime.datetime(1973, 4, 13, 17, 15)"
      ]
     },
     "execution_count": 41,
     "metadata": {},
     "output_type": "execute_result"
    }
   ],
   "source": [
    "datetime.utcfromtimestamp(d0.astype(int))"
   ]
  },
  {
   "cell_type": "code",
   "execution_count": 42,
   "metadata": {},
   "outputs": [],
   "source": [
    "d = np.arange('2002-10-27T04:30', 10, 1, dtype='M8[ns]')"
   ]
  },
  {
   "cell_type": "code",
   "execution_count": 43,
   "metadata": {},
   "outputs": [],
   "source": [
    "date2int = lambda elt: np.datetime64(elt, 's', dtype='datetime64[s]').astype(np.int64)\n",
    "\n",
    "randomDates = np.random.RandomState(42).randint(date2int('2002-10-27T04:30'),\n",
    "                                                date2int('2003-10-27T04:30'),\n",
    "                                                10,\n",
    "                                                dtype='i8')\n",
    "dates = np.sort(randomDates).astype('datetime64[s]')"
   ]
  },
  {
   "cell_type": "code",
   "execution_count": 44,
   "metadata": {},
   "outputs": [
    {
     "data": {
      "text/plain": [
       "array(['2002-11-22T01:11:29', '2003-03-30T07:08:12',\n",
       "       '2003-04-14T00:13:06', '2003-05-01T11:11:18',\n",
       "       '2003-06-28T04:33:08', '2003-07-22T17:06:44',\n",
       "       '2003-07-24T04:27:30', '2003-08-27T14:34:58',\n",
       "       '2003-09-01T15:07:10', '2003-09-03T01:12:47'],\n",
       "      dtype='datetime64[s]')"
      ]
     },
     "execution_count": 44,
     "metadata": {},
     "output_type": "execute_result"
    }
   ],
   "source": [
    "dates"
   ]
  },
  {
   "cell_type": "code",
   "execution_count": 45,
   "metadata": {},
   "outputs": [
    {
     "data": {
      "text/plain": [
       "numpy.datetime64('2002-10-27T04:30:00.000000001')"
      ]
     },
     "execution_count": 45,
     "metadata": {},
     "output_type": "execute_result"
    }
   ],
   "source": [
    "d[1].astype(int).astype('M8[ns]')"
   ]
  },
  {
   "cell_type": "code",
   "execution_count": 46,
   "metadata": {},
   "outputs": [
    {
     "data": {
      "text/plain": [
       "80"
      ]
     },
     "execution_count": 46,
     "metadata": {},
     "output_type": "execute_result"
    }
   ],
   "source": [
    "# equals d.size * d.itemsize\n",
    "d.nbytes"
   ]
  },
  {
   "cell_type": "markdown",
   "metadata": {},
   "source": [
    "## Pandas "
   ]
  },
  {
   "cell_type": "markdown",
   "metadata": {},
   "source": [
    "Pandas [time series documentation](https://pandas.pydata.org/pandas-docs/stable/user_guide/timeseries.html)"
   ]
  },
  {
   "cell_type": "code",
   "execution_count": 47,
   "metadata": {},
   "outputs": [],
   "source": [
    "import pandas as pd\n",
    "from pandas import (\n",
    "    date_range,\n",
    "    DataFrame,\n",
    "    Timestamp\n",
    ")\n",
    "from datetime import (\n",
    "    timezone,\n",
    "    timedelta\n",
    ")"
   ]
  },
  {
   "cell_type": "code",
   "execution_count": 48,
   "metadata": {},
   "outputs": [],
   "source": [
    "dti = date_range('2018-01-01', periods=3, freq='H')"
   ]
  },
  {
   "cell_type": "code",
   "execution_count": 49,
   "metadata": {},
   "outputs": [
    {
     "data": {
      "text/plain": [
       "DatetimeIndex([       '2012-01-01 00:00:00', '2012-01-01 00:00:00.000100',\n",
       "               '2012-01-01 00:00:00.000200', '2012-01-01 00:00:00.000300',\n",
       "               '2012-01-01 00:00:00.000400', '2012-01-01 00:00:00.000500',\n",
       "               '2012-01-01 00:00:00.000600', '2012-01-01 00:00:00.000700',\n",
       "               '2012-01-01 00:00:00.000800', '2012-01-01 00:00:00.000900',\n",
       "               ...\n",
       "               '2012-01-01 00:00:00.099000', '2012-01-01 00:00:00.099100',\n",
       "               '2012-01-01 00:00:00.099200', '2012-01-01 00:00:00.099300',\n",
       "               '2012-01-01 00:00:00.099400', '2012-01-01 00:00:00.099500',\n",
       "               '2012-01-01 00:00:00.099600', '2012-01-01 00:00:00.099700',\n",
       "               '2012-01-01 00:00:00.099800', '2012-01-01 00:00:00.099900'],\n",
       "              dtype='datetime64[ns]', length=1000, freq='100U')"
      ]
     },
     "execution_count": 49,
     "metadata": {},
     "output_type": "execute_result"
    }
   ],
   "source": [
    "date_range('1/1/2012', freq='0.1ms', periods=1000)"
   ]
  },
  {
   "cell_type": "code",
   "execution_count": 50,
   "metadata": {},
   "outputs": [
    {
     "data": {
      "text/html": [
       "<div>\n",
       "<style scoped>\n",
       "    .dataframe tbody tr th:only-of-type {\n",
       "        vertical-align: middle;\n",
       "    }\n",
       "\n",
       "    .dataframe tbody tr th {\n",
       "        vertical-align: top;\n",
       "    }\n",
       "\n",
       "    .dataframe thead th {\n",
       "        text-align: right;\n",
       "    }\n",
       "</style>\n",
       "<table border=\"1\" class=\"dataframe\">\n",
       "  <thead>\n",
       "    <tr style=\"text-align: right;\">\n",
       "      <th></th>\n",
       "      <th>naive</th>\n",
       "      <th>aware</th>\n",
       "    </tr>\n",
       "  </thead>\n",
       "  <tbody>\n",
       "    <tr>\n",
       "      <th>0</th>\n",
       "      <td>2019-01-01</td>\n",
       "      <td>2019-01-01 00:00:00.000000500-08:00</td>\n",
       "    </tr>\n",
       "  </tbody>\n",
       "</table>\n",
       "</div>"
      ],
      "text/plain": [
       "       naive                               aware\n",
       "0 2019-01-01 2019-01-01 00:00:00.000000500-08:00"
      ]
     },
     "execution_count": 50,
     "metadata": {},
     "output_type": "execute_result"
    }
   ],
   "source": [
    "pdf = DataFrame({'naive': [datetime(2019, 1, 1, 0)],\n",
    "                 'aware': [Timestamp(year=2019, month=1, day=1,\n",
    "                           nanosecond=500, tz=dt.timezone(dt.timedelta(hours=-8)))]})\n",
    "pdf"
   ]
  },
  {
   "cell_type": "markdown",
   "metadata": {},
   "source": [
    "## Pyarrow"
   ]
  },
  {
   "cell_type": "markdown",
   "metadata": {},
   "source": [
    "* https://arrow.apache.org/docs/python/timestamps.html\n",
    "* https://github.com/apache/parquet-format/blob/master/LogicalTypes.md#datetime-types"
   ]
  },
  {
   "cell_type": "markdown",
   "metadata": {},
   "source": [
    "## Spark"
   ]
  },
  {
   "cell_type": "markdown",
   "metadata": {},
   "source": [
    "Spark stores timestamps as 64-bit integers representing microseconds since the UNIX epoch. It does not store any metadata about time zones with its timestamps.\n",
    "\n",
    "Spark interprets timestamps with the session local time zone, (i.e. `spark.sql.session.timeZone`). If that time zone is undefined, Spark turns to the default system time zone."
   ]
  },
  {
   "cell_type": "code",
   "execution_count": 51,
   "metadata": {},
   "outputs": [],
   "source": [
    "from pyspark.sql import SparkSession\n",
    "from pyarrow import TimestampValue"
   ]
  },
  {
   "cell_type": "code",
   "execution_count": 52,
   "metadata": {},
   "outputs": [],
   "source": [
    "spark = ( \n",
    "    SparkSession.builder\n",
    "        .master(\"local\")\n",
    "        .appName(\"time\")\n",
    "        .getOrCreate()\n",
    ")"
   ]
  },
  {
   "cell_type": "code",
   "execution_count": 53,
   "metadata": {},
   "outputs": [],
   "source": [
    "sc = spark.sparkContext"
   ]
  },
  {
   "cell_type": "code",
   "execution_count": 54,
   "metadata": {},
   "outputs": [],
   "source": [
    "coll = sc.parallelize(np.arange(100_000))"
   ]
  },
  {
   "cell_type": "code",
   "execution_count": 55,
   "metadata": {},
   "outputs": [
    {
     "data": {
      "text/plain": [
       "100000"
      ]
     },
     "execution_count": 55,
     "metadata": {},
     "output_type": "execute_result"
    }
   ],
   "source": [
    "coll.count()"
   ]
  },
  {
   "cell_type": "code",
   "execution_count": 56,
   "metadata": {},
   "outputs": [
    {
     "data": {
      "text/plain": [
       "(count: 100000, mean: 49999.5, stdev: 28867.513458037913, max: 99999.0, min: 0.0)"
      ]
     },
     "execution_count": 56,
     "metadata": {},
     "output_type": "execute_result"
    }
   ],
   "source": [
    "coll.stats()"
   ]
  },
  {
   "cell_type": "code",
   "execution_count": 57,
   "metadata": {},
   "outputs": [],
   "source": [
    "coll2 = coll.flatMap(lambda x: (x * 2, 1))"
   ]
  },
  {
   "cell_type": "code",
   "execution_count": 58,
   "metadata": {},
   "outputs": [
    {
     "data": {
      "text/plain": [
       "(count: 200000, mean: 50000.0, stdev: 64548.94784193651, max: 199998.0, min: 0.0)"
      ]
     },
     "execution_count": 58,
     "metadata": {},
     "output_type": "execute_result"
    }
   ],
   "source": [
    "coll2.stats()"
   ]
  }
 ],
 "metadata": {
  "kernelspec": {
   "display_name": "Python 3",
   "language": "python",
   "name": "python3"
  },
  "language_info": {
   "codemirror_mode": {
    "name": "ipython",
    "version": 3
   },
   "file_extension": ".py",
   "mimetype": "text/x-python",
   "name": "python",
   "nbconvert_exporter": "python",
   "pygments_lexer": "ipython3",
   "version": "3.9.0"
  }
 },
 "nbformat": 4,
 "nbformat_minor": 4
}
