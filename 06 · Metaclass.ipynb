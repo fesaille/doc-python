{
 "cells": [
  {
   "cell_type": "code",
   "execution_count": 84,
   "metadata": {},
   "outputs": [
    {
     "name": "stdout",
     "output_type": "stream",
     "text": [
      "2018-11-19 \n",
      "\n",
      "CPython 3.7.1\n",
      "IPython 7.1.1\n",
      "\n",
      "compiler   : Clang 4.0.1 (tags/RELEASE_401/final)\n",
      "system     : Darwin\n",
      "release    : 15.6.0\n",
      "machine    : x86_64\n",
      "processor  : i386\n",
      "CPU cores  : 2\n",
      "interpreter: 64bit\n"
     ]
    }
   ],
   "source": [
    "%watermark -mdv"
   ]
  },
  {
   "cell_type": "markdown",
   "metadata": {},
   "source": [
    "[Documentation](https://docs.python.org/3/reference/datamodel.html#invoking-descriptors)  "
   ]
  },
  {
   "cell_type": "markdown",
   "metadata": {},
   "source": [
    "# Metaclasses"
   ]
  },
  {
   "cell_type": "markdown",
   "metadata": {},
   "source": [
    "Some example from https://www.learning-python.com/about-lp5e.html"
   ]
  },
  {
   "cell_type": "code",
   "execution_count": 85,
   "metadata": {},
   "outputs": [],
   "source": [
    "import requests\n",
    "from zipfile import ZipFile\n",
    "from io import BytesIO\n",
    "\n",
    "# Retrieve zip file from website\n",
    "zip_url = \"https://www.learning-python.com/lp5e-code-1.0-jun1813.zip\"\n",
    "r = requests.get(zip_url, stream=True)\n",
    "\n",
    "# Get zip and get metaclass examples\n",
    "z = ZipFile(BytesIO(r.content), mode=\"r\")\n",
    "\n",
    "examples = [f for f in z.filelist if \"metaclass\" in f.filename]"
   ]
  },
  {
   "cell_type": "markdown",
   "metadata": {},
   "source": [
    "## Simple metaclass"
   ]
  },
  {
   "cell_type": "code",
   "execution_count": 86,
   "metadata": {},
   "outputs": [],
   "source": [
    "def get_code_from_(example_number: int):\n",
    "    with z.open(examples[example_number]) as myfile:\n",
    "        print(myfile.read().decode())"
   ]
  },
  {
   "cell_type": "code",
   "execution_count": 95,
   "metadata": {},
   "outputs": [],
   "source": [
    "from abc import ABC, abstractclassmethod"
   ]
  },
  {
   "cell_type": "code",
   "execution_count": 118,
   "metadata": {},
   "outputs": [
    {
     "name": "stdout",
     "output_type": "stream",
     "text": [
      "making class\n",
      "In MetaOne.__prepare__:\n",
      "...Spam\n",
      "...()\n",
      "In MetaOne.__new__:\n",
      "...<class '__main__.MetaOne'>\n",
      "...Spam\n",
      "...()\n",
      "...{'__module__': '__main__', '__qualname__': 'Spam', 'data': 1, 'meth': <function Spam.meth at 0x316d05158>, '__init__': <function Spam.__init__ at 0x316d050d0>, 'my_method': <function Spam.my_method at 0x316d05048>}\n",
      "In MetaOne.__init__:\n",
      "...<class '__main__.Spam'>\n",
      "...Spam\n",
      "...()\n",
      "...{'__module__': '__main__', '__qualname__': 'Spam', 'data': 1, 'meth': <function Spam.meth at 0x316d05158>, '__init__': <function Spam.__init__ at 0x316d050d0>, 'my_method': <function Spam.my_method at 0x316d05048>}\n",
      "making instance\n",
      "In Spam.__init__:\n",
      "...<__main__.Spam object at 0x316d04668>\n",
      "data: 1 3\n",
      "(<class 'object'>,) <method-wrapper '__getattribute__' of Spam object at 0x316d04668> (<class '__main__.Spam'>, <class 'object'>)\n"
     ]
    }
   ],
   "source": [
    "class MetaOne(type):\n",
    "    def __prepare__(cls, classname):  # , supers, classdict):\n",
    "        print('In MetaOne.__prepare__:', cls, classname, sep='\\n...')\n",
    "        return dict()\n",
    "    def __new__(cls, classname, supers, classdict):\n",
    "        print('In MetaOne.__new__:', cls, classname, supers, classdict, sep='\\n...')\n",
    "        return super().__new__(cls, classname, supers, classdict)\n",
    "    def __init__(self, classname, supers, classdict):\n",
    "        self.print = print\n",
    "        print('In MetaOne.__init__:', self, classname, supers, classdict, sep='\\n...')\n",
    "\n",
    "class myABC(ABC):\n",
    "    @abstractclassmethod\n",
    "    def my_method(self):\n",
    "        pass\n",
    "\n",
    "print('making class')\n",
    "class Spam(metaclass=MetaOne):          # Inherits from none, instance of MetaOne\n",
    "    data = 1                              # Class data attribute\n",
    "    def meth(self, arg):                  # Class method attribute\n",
    "        return self.data + arg\n",
    "    def __init__(self):\n",
    "        print('In Spam.__init__:', self, sep='\\n...')\n",
    "    def my_method(self):\n",
    "        print(\"My method\")\n",
    "\n",
    "\n",
    "\n",
    "print('making instance')\n",
    "X = Spam()\n",
    "print('data:', X.data, X.meth(2))\n",
    "print(Spam.__bases__, X.__getattribute__, Spam.__mro__)"
   ]
  },
  {
   "cell_type": "code",
   "execution_count": 119,
   "metadata": {},
   "outputs": [],
   "source": [
    "# https://stackoverflow.com/a/1840466"
   ]
  },
  {
   "cell_type": "code",
   "execution_count": 120,
   "metadata": {},
   "outputs": [
    {
     "name": "stdout",
     "output_type": "stream",
     "text": [
      "ouasi\n"
     ]
    }
   ],
   "source": [
    "Spam.print(\"ouasi\")"
   ]
  },
  {
   "cell_type": "markdown",
   "metadata": {},
   "source": [
    "## Example 2"
   ]
  },
  {
   "cell_type": "code",
   "execution_count": 75,
   "metadata": {},
   "outputs": [
    {
     "name": "stdout",
     "output_type": "stream",
     "text": [
      "making class\n",
      "In MetaOne.new:\n",
      "...<class '__main__.MetaOne'>\n",
      "...Spam\n",
      "...(<class '__main__.Eggs'>,)\n",
      "...{'__module__': '__main__', '__qualname__': 'Spam', 'data': 1, 'meth': <function Spam.meth at 0x316dabbf8>}\n",
      "making instance\n",
      "data: 5 7\n"
     ]
    }
   ],
   "source": [
    "class MetaOne(type):\n",
    "    def __new__(meta, classname, supers, classdict):\n",
    "        print('In MetaOne.new:', meta, classname, supers, classdict, sep='\\n...')\n",
    "        _super = supers[0]\n",
    "#        _super.data = 100\n",
    "        classdict['data'] = 5\n",
    "        return type.__new__(meta, classname, supers, classdict)\n",
    "\n",
    "class Eggs(object):\n",
    "    data = 10\n",
    "    pass\n",
    "\n",
    "print('making class')\n",
    "class Spam(Eggs, metaclass=MetaOne):                 # Inherits from Eggs, instance of MetaOne\n",
    "    data = 1                              # Class data attribute\n",
    "    def meth(self, arg):                  # Class method attribute\n",
    "        return self.data + arg\n",
    "\n",
    "print('making instance')\n",
    "X = Spam()\n",
    "print('data:', X.data, X.meth(2))"
   ]
  },
  {
   "cell_type": "code",
   "execution_count": 76,
   "metadata": {},
   "outputs": [],
   "source": [
    "class QSD(Eggs):\n",
    "    pass"
   ]
  },
  {
   "cell_type": "code",
   "execution_count": 77,
   "metadata": {},
   "outputs": [
    {
     "data": {
      "text/plain": [
       "10"
      ]
     },
     "execution_count": 77,
     "metadata": {},
     "output_type": "execute_result"
    }
   ],
   "source": [
    "QSD().data"
   ]
  },
  {
   "cell_type": "code",
   "execution_count": 78,
   "metadata": {},
   "outputs": [
    {
     "data": {
      "text/plain": [
       "10"
      ]
     },
     "execution_count": 78,
     "metadata": {},
     "output_type": "execute_result"
    }
   ],
   "source": [
    "Eggs.data"
   ]
  },
  {
   "cell_type": "code",
   "execution_count": 80,
   "metadata": {},
   "outputs": [
    {
     "data": {
      "text/plain": [
       "5"
      ]
     },
     "execution_count": 80,
     "metadata": {},
     "output_type": "execute_result"
    }
   ],
   "source": [
    "Spam.data"
   ]
  },
  {
   "cell_type": "code",
   "execution_count": 28,
   "metadata": {},
   "outputs": [
    {
     "name": "stdout",
     "output_type": "stream",
     "text": [
      "from __future__ import print_function\n",
      "\n",
      "class MetaOne(type):\n",
      "    def __new__(meta, classname, supers, classdict):\n",
      "        print('In MetaOne.new:', meta, classname, supers, classdict, sep='\\n...')\n",
      "        return type.__new__(meta, classname, supers, classdict)\n",
      "\n",
      "class Eggs(object):\n",
      "    pass\n",
      "\n",
      "print('making class')\n",
      "class Spam(Eggs, object):                 # Inherits from Eggs, instance of MetaOne\n",
      "    __metaclass__ = MetaOne\n",
      "    data = 1                              # Class data attribute\n",
      "    def meth(self, arg):                  # Class method attribute\n",
      "        return self.data + arg\n",
      "\n",
      "print('making instance')\n",
      "X = Spam()\n",
      "print('data:', X.data, X.meth(2))\n",
      "\n"
     ]
    }
   ],
   "source": [
    "get_code_from_(1)"
   ]
  },
  {
   "cell_type": "code",
   "execution_count": 52,
   "metadata": {},
   "outputs": [],
   "source": [
    "class A(type):\n",
    "    def __new__(cls, clsname, bases, methods):\n",
    "        print(f\"Dans A {cls.__mro__}\")\n",
    "        return super().__new__(cls, clsname, bases, methods)"
   ]
  },
  {
   "cell_type": "code",
   "execution_count": 53,
   "metadata": {},
   "outputs": [
    {
     "name": "stdout",
     "output_type": "stream",
     "text": [
      "Dans A (<class '__main__.A'>, <class 'type'>, <class 'object'>)\n"
     ]
    }
   ],
   "source": [
    "class B(metaclass=A):\n",
    "    def __new__(cls, arg=\"default\"):\n",
    "        print(arg)\n",
    "        return super().__new__(cls)"
   ]
  },
  {
   "cell_type": "code",
   "execution_count": 54,
   "metadata": {},
   "outputs": [
    {
     "name": "stdout",
     "output_type": "stream",
     "text": [
      "argument\n"
     ]
    },
    {
     "data": {
      "text/plain": [
       "<__main__.B at 0x31ecb1cc0>"
      ]
     },
     "execution_count": 54,
     "metadata": {},
     "output_type": "execute_result"
    }
   ],
   "source": [
    "B(arg=\"argument\")"
   ]
  },
  {
   "cell_type": "code",
   "execution_count": 148,
   "metadata": {},
   "outputs": [],
   "source": [
    "class B:\n",
    "    def __new__(cls):\n",
    "        print(cls.__bases__)\n",
    "        return super().__new__(cls)\n",
    "    def aze(self):\n",
    "        print(\"B\")\n",
    "    def meth(self):\n",
    "        print(\"B\")         \n",
    "class C:\n",
    "    def __new__(cls):\n",
    "        return super().__new__(cls)\n",
    "    def aze(self):\n",
    "        print(\"C\") \n",
    "    def meth(self):\n",
    "        print(\"C\") "
   ]
  },
  {
   "cell_type": "code",
   "execution_count": 149,
   "metadata": {},
   "outputs": [],
   "source": [
    "class A(B, C):\n",
    "\n",
    "    def __new__(cls, arg=\"default\"):\n",
    "        print(cls.__mro__)\n",
    "        if arg == \"default\":\n",
    "            return super().__new__(cls)\n",
    "        else:\n",
    "            return super().__new__(cls)\n",
    "    def aze(self):\n",
    "        print(\"A\")"
   ]
  },
  {
   "cell_type": "code",
   "execution_count": 150,
   "metadata": {},
   "outputs": [
    {
     "name": "stdout",
     "output_type": "stream",
     "text": [
      "(<class '__main__.A'>, <class '__main__.B'>, <class '__main__.C'>, <class 'object'>)\n",
      "(<class '__main__.B'>, <class '__main__.C'>)\n"
     ]
    }
   ],
   "source": [
    "a = A(arg=\"default\")"
   ]
  },
  {
   "cell_type": "code",
   "execution_count": 151,
   "metadata": {},
   "outputs": [
    {
     "name": "stdout",
     "output_type": "stream",
     "text": [
      "A\n",
      "B\n"
     ]
    }
   ],
   "source": [
    "a.aze()\n",
    "a.meth()"
   ]
  },
  {
   "cell_type": "code",
   "execution_count": 303,
   "metadata": {},
   "outputs": [
    {
     "name": "stdout",
     "output_type": "stream",
     "text": [
      "Creating my MRO\n",
      "{'__module__': '__main__', 'mro': <function MyMRO.mro at 0x31ec88a60>, '__new__': <staticmethod object at 0x31eda2588>, '__doc__': None}\n",
      "Enumerating MRO\n",
      "[<class 'object'>]\n"
     ]
    }
   ],
   "source": [
    "import itertools\n",
    "class MyMRO(type): \n",
    "    def mro(cls):\n",
    "        if hasattr(cls, \"arg\"):\n",
    "            print(cls.arg)\n",
    "        print(\"Enumerating MRO\")\n",
    "        print([b for b in cls.__bases__])\n",
    "        return tuple([cls] +\n",
    "                list(itertools.chain.from_iterable(base.__mro__[:-1] for base in cls.__bases__)) +\n",
    "                [object])\n",
    "    def __new__(cls, clsname, bases, methods):\n",
    "        print(\"Creating my MRO\")\n",
    "        print(cls.__dict__)\n",
    "        \n",
    "        return super().__new__(cls, clsname, bases, methods)\n",
    "class Mixin(metaclass=MyMRO): pass"
   ]
  },
  {
   "cell_type": "code",
   "execution_count": 304,
   "metadata": {},
   "outputs": [],
   "source": [
    "class A:\n",
    "    pass\n",
    "class B:\n",
    "    pass"
   ]
  },
  {
   "cell_type": "code",
   "execution_count": 305,
   "metadata": {},
   "outputs": [
    {
     "name": "stdout",
     "output_type": "stream",
     "text": [
      "Creating my MRO\n",
      "{'__module__': '__main__', 'mro': <function MyMRO.mro at 0x31ec88a60>, '__new__': <staticmethod object at 0x31eda2588>, '__doc__': None}\n",
      "Enumerating MRO\n",
      "[<class '__main__.Mixin'>, <class '__main__.A'>, <class '__main__.B'>]\n"
     ]
    }
   ],
   "source": [
    "class C(Mixin, A, B):\n",
    "    def __new__(cls, arg=\"default\"):\n",
    "        print(\"Creating C\")\n",
    "        print(cls.__mro__)\n",
    "        setattr(cls, \"arg\", arg)\n",
    "        print(f\"in C: {cls.__dict__}\")\n",
    "        return super().__new__(cls)\n",
    "    def aze(self):\n",
    "        print(\"A\")"
   ]
  },
  {
   "cell_type": "code",
   "execution_count": 306,
   "metadata": {},
   "outputs": [
    {
     "name": "stdout",
     "output_type": "stream",
     "text": [
      "Creating C\n",
      "(<class '__main__.C'>, <class '__main__.Mixin'>, <class '__main__.A'>, <class '__main__.B'>, <class 'object'>)\n",
      "in C: {'__module__': '__main__', '__new__': <staticmethod object at 0x31eda15c0>, 'aze': <function C.aze at 0x31eccdc80>, '__doc__': None, 'arg': 'A'}\n"
     ]
    },
    {
     "data": {
      "text/plain": [
       "<__main__.C at 0x31eda2be0>"
      ]
     },
     "execution_count": 306,
     "metadata": {},
     "output_type": "execute_result"
    }
   ],
   "source": [
    "C(arg=\"A\")"
   ]
  },
  {
   "cell_type": "code",
   "execution_count": 254,
   "metadata": {},
   "outputs": [
    {
     "data": {
      "text/plain": [
       "'A'"
      ]
     },
     "execution_count": 254,
     "metadata": {},
     "output_type": "execute_result"
    }
   ],
   "source": [
    "C.arg"
   ]
  },
  {
   "cell_type": "code",
   "execution_count": 240,
   "metadata": {},
   "outputs": [
    {
     "data": {
      "text/plain": [
       "(__main__.C, __main__.Mixin, __main__.A, __main__.B, object)"
      ]
     },
     "execution_count": 240,
     "metadata": {},
     "output_type": "execute_result"
    }
   ],
   "source": [
    "C.__mro__"
   ]
  },
  {
   "cell_type": "code",
   "execution_count": 295,
   "metadata": {},
   "outputs": [],
   "source": [
    "class D(A, B):\n",
    "    def __new__(cls, arg=\"default\"):\n",
    "        if arg == \"A\":\n",
    "            return type('Person', tuple(list(A.__mro__)), dict(A.__dict__))\n",
    "        else:\n",
    "            return type('Person', (B) + B.__mro__, dict(B.__dict__))\n",
    "    def aze(self):\n",
    "        print(\"D\")"
   ]
  },
  {
   "cell_type": "code",
   "execution_count": 297,
   "metadata": {},
   "outputs": [
    {
     "ename": "AttributeError",
     "evalue": "type object 'Person' has no attribute 'aze'",
     "output_type": "error",
     "traceback": [
      "\u001b[0;31m---------------------------------------------------------------------------\u001b[0m",
      "\u001b[0;31mAttributeError\u001b[0m                            Traceback (most recent call last)",
      "\u001b[0;32m<ipython-input-297-793615b73ba6>\u001b[0m in \u001b[0;36m<module>\u001b[0;34m()\u001b[0m\n\u001b[0;32m----> 1\u001b[0;31m \u001b[0mD\u001b[0m\u001b[0;34m(\u001b[0m\u001b[0marg\u001b[0m\u001b[0;34m=\u001b[0m\u001b[0;34m\"A\"\u001b[0m\u001b[0;34m)\u001b[0m\u001b[0;34m.\u001b[0m\u001b[0maze\u001b[0m\u001b[0;34m(\u001b[0m\u001b[0;34m)\u001b[0m\u001b[0;34m\u001b[0m\u001b[0m\n\u001b[0m",
      "\u001b[0;31mAttributeError\u001b[0m: type object 'Person' has no attribute 'aze'"
     ]
    }
   ],
   "source": [
    "D(arg=\"A\")"
   ]
  },
  {
   "cell_type": "markdown",
   "metadata": {},
   "source": [
    "# super()"
   ]
  },
  {
   "cell_type": "markdown",
   "metadata": {},
   "source": [
    "See https://rhettinger.wordpress.com/2011/05/26/super-considered-super/"
   ]
  },
  {
   "cell_type": "code",
   "execution_count": 93,
   "metadata": {},
   "outputs": [],
   "source": [
    "from collections import OrderedDict\n",
    "\n",
    "class LoggingDict(dict):\n",
    "    def __setitem__(self, key, value):\n",
    "        logging.info('Setting %r to %r' % (key, value))\n",
    "        super().__setitem__(key, value)\n",
    "class LoggingOD(LoggingDict, OrderedDict):\n",
    "    pass"
   ]
  },
  {
   "cell_type": "code",
   "execution_count": 92,
   "metadata": {},
   "outputs": [
    {
     "data": {
      "text/plain": [
       "(__main__.LoggingOD,\n",
       " __main__.LoggingDict,\n",
       " collections.OrderedDict,\n",
       " dict,\n",
       " object)"
      ]
     },
     "execution_count": 92,
     "metadata": {},
     "output_type": "execute_result"
    }
   ],
   "source": [
    "LoggingOD.__mro__"
   ]
  },
  {
   "cell_type": "markdown",
   "metadata": {},
   "source": [
    "The MRO shown above is the one order that follows from those constraints:\n",
    "\n",
    "- LoggingOD precedes its parents, LoggingDict and OrderedDict\n",
    "- LoggingDict precedes OrderedDict because LoggingOD.__bases__ is (LoggingDict, OrderedDict)\n",
    "- LoggingDict precedes its parent which is dict\n",
    "- OrderedDict precedes its parent which is dict\n",
    "- dict precedes its parent which is object"
   ]
  },
  {
   "cell_type": "code",
   "execution_count": null,
   "metadata": {},
   "outputs": [],
   "source": []
  }
 ],
 "metadata": {
  "kernelspec": {
   "display_name": "Python 3.7",
   "language": "python",
   "name": "python3"
  },
  "language_info": {
   "codemirror_mode": {
    "name": "ipython",
    "version": 3
   },
   "file_extension": ".py",
   "mimetype": "text/x-python",
   "name": "python",
   "nbconvert_exporter": "python",
   "pygments_lexer": "ipython3",
   "version": "3.7.1"
  },
  "toc-autonumbering": true,
  "toc-showcode": false,
  "toc-showmarkdowntxt": false
 },
 "nbformat": 4,
 "nbformat_minor": 2
}
