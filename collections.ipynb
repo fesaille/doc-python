{
 "cells": [
  {
   "cell_type": "markdown",
   "metadata": {},
   "source": [
    "# collections — Container datatypes"
   ]
  },
  {
   "cell_type": "markdown",
   "metadata": {},
   "source": [
    "<table border=\"1\" class=\"docutils\">\n",
    "<colgroup>\n",
    "<col width=\"24%\">\n",
    "<col width=\"76%\">\n",
    "</colgroup>\n",
    "<tbody valign=\"top\">\n",
    "<tr class=\"row-odd\"><td><a class=\"reference internal\" href=\"#collections.namedtuple\" title=\"collections.namedtuple\"><code class=\"xref py py-func docutils literal\"><span class=\"pre\">namedtuple()</span></code></a></td>\n",
    "<td>factory function for creating tuple subclasses with named fields</td>\n",
    "</tr>\n",
    "<tr class=\"row-even\"><td><a class=\"reference internal\" href=\"#collections.deque\" title=\"collections.deque\"><code class=\"xref py py-class docutils literal\"><span class=\"pre\">deque</span></code></a></td>\n",
    "<td>list-like container with fast appends and pops on either end</td>\n",
    "</tr>\n",
    "<tr class=\"row-odd\"><td><a class=\"reference internal\" href=\"#collections.ChainMap\" title=\"collections.ChainMap\"><code class=\"xref py py-class docutils literal\"><span class=\"pre\">ChainMap</span></code></a></td>\n",
    "<td>dict-like class for creating a single view of multiple mappings</td>\n",
    "</tr>\n",
    "<tr class=\"row-even\"><td><a class=\"reference internal\" href=\"#collections.Counter\" title=\"collections.Counter\"><code class=\"xref py py-class docutils literal\"><span class=\"pre\">Counter</span></code></a></td>\n",
    "<td>dict subclass for counting hashable objects</td>\n",
    "</tr>\n",
    "<tr class=\"row-odd\"><td><a class=\"reference internal\" href=\"#collections.OrderedDict\" title=\"collections.OrderedDict\"><code class=\"xref py py-class docutils literal\"><span class=\"pre\">OrderedDict</span></code></a></td>\n",
    "<td>dict subclass that remembers the order entries were added</td>\n",
    "</tr>\n",
    "<tr class=\"row-even\"><td><a class=\"reference internal\" href=\"#collections.defaultdict\" title=\"collections.defaultdict\"><code class=\"xref py py-class docutils literal\"><span class=\"pre\">defaultdict</span></code></a></td>\n",
    "<td>dict subclass that calls a factory function to supply missing values</td>\n",
    "</tr>\n",
    "<tr class=\"row-odd\"><td><a class=\"reference internal\" href=\"#collections.UserDict\" title=\"collections.UserDict\"><code class=\"xref py py-class docutils literal\"><span class=\"pre\">UserDict</span></code></a></td>\n",
    "<td>wrapper around dictionary objects for easier dict subclassing</td>\n",
    "</tr>\n",
    "<tr class=\"row-even\"><td><a class=\"reference internal\" href=\"#collections.UserList\" title=\"collections.UserList\"><code class=\"xref py py-class docutils literal\"><span class=\"pre\">UserList</span></code></a></td>\n",
    "<td>wrapper around list objects for easier list subclassing</td>\n",
    "</tr>\n",
    "<tr class=\"row-odd\"><td><a class=\"reference internal\" href=\"#collections.UserString\" title=\"collections.UserString\"><code class=\"xref py py-class docutils literal\"><span class=\"pre\">UserString</span></code></a></td>\n",
    "<td>wrapper around string objects for easier string subclassing</td>\n",
    "</tr>\n",
    "</tbody>\n",
    "</table>"
   ]
  },
  {
   "cell_type": "markdown",
   "metadata": {},
   "source": [
    "##  ChainMap objects\n",
    "\n",
    "A ChainMap class is provided for quickly linking a number of mappings so they can be treated as a single unit. It is often much faster than creating a new dictionary and running multiple update() calls.\n",
    "\n"
   ]
  },
  {
   "cell_type": "code",
   "execution_count": 3,
   "metadata": {
    "collapsed": true
   },
   "outputs": [],
   "source": [
    "from collections import ChainMap"
   ]
  },
  {
   "cell_type": "code",
   "execution_count": 4,
   "metadata": {
    "collapsed": true
   },
   "outputs": [],
   "source": [
    "d1 = {'a': 10, 'b': 20, 'c': 30}\n",
    "d2 = {'a': 15, 'd': 50}"
   ]
  },
  {
   "cell_type": "code",
   "execution_count": 6,
   "metadata": {},
   "outputs": [
    {
     "data": {
      "text/plain": [
       "ChainMap({'a': 10, 'b': 20, 'c': 30}, {'a': 15, 'd': 50})"
      ]
     },
     "execution_count": 6,
     "metadata": {},
     "output_type": "execute_result"
    }
   ],
   "source": [
    "cm = ChainMap(d1, d2)\n",
    "cm"
   ]
  },
  {
   "cell_type": "code",
   "execution_count": 11,
   "metadata": {},
   "outputs": [
    {
     "data": {
      "text/plain": [
       "KeysView(ChainMap({'a': 10, 'b': 20, 'c': 30}, {'a': 15, 'd': 50}))"
      ]
     },
     "execution_count": 11,
     "metadata": {},
     "output_type": "execute_result"
    }
   ],
   "source": [
    "cm.keys()"
   ]
  },
  {
   "cell_type": "code",
   "execution_count": null,
   "metadata": {
    "collapsed": true
   },
   "outputs": [],
   "source": []
  }
 ],
 "metadata": {
  "kernelspec": {
   "display_name": "Python 3",
   "language": "python",
   "name": "python3"
  },
  "language_info": {
   "codemirror_mode": {
    "name": "ipython",
    "version": 3
   },
   "file_extension": ".py",
   "mimetype": "text/x-python",
   "name": "python",
   "nbconvert_exporter": "python",
   "pygments_lexer": "ipython3",
   "version": "3.6.2"
  },
  "toc": {
   "colors": {
    "hover_highlight": "#DAA520",
    "navigate_num": "#000000",
    "navigate_text": "#333333",
    "running_highlight": "#FF0000",
    "selected_highlight": "#FFD700",
    "sidebar_border": "#EEEEEE",
    "wrapper_background": "#FFFFFF"
   },
   "moveMenuLeft": true,
   "nav_menu": {
    "height": "48px",
    "width": "252px"
   },
   "navigate_menu": true,
   "number_sections": true,
   "sideBar": true,
   "threshold": 4,
   "toc_cell": false,
   "toc_section_display": "block",
   "toc_window_display": true,
   "widenNotebook": false
  }
 },
 "nbformat": 4,
 "nbformat_minor": 2
}
