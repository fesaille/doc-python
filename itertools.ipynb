{
 "cells": [
  {
   "cell_type": "code",
   "execution_count": 4,
   "metadata": {},
   "outputs": [],
   "source": [
    "import collections"
   ]
  },
  {
   "cell_type": "markdown",
   "metadata": {},
   "source": [
    "\n",
    "## tee"
   ]
  },
  {
   "cell_type": "code",
   "execution_count": 15,
   "metadata": {},
   "outputs": [],
   "source": [
    "A = range(10)\n",
    "it = iter(A)"
   ]
  },
  {
   "cell_type": "code",
   "execution_count": 16,
   "metadata": {},
   "outputs": [],
   "source": [
    "def tee(iterable, n=2):\n",
    "    it = iter(iterable)\n",
    "    deques = [collections.deque() for i in range(n)]\n",
    "    def gen(mydeque):\n",
    "        while True:\n",
    "            if not mydeque:             # when the local deque is empty\n",
    "                try:\n",
    "                    newval = next(it)   # fetch a new value and\n",
    "                except StopIteration:\n",
    "                    return\n",
    "                for d in deques:        # load it to all the deques\n",
    "                    d.append(newval)\n",
    "            yield mydeque.popleft()\n",
    "    return tuple(gen(d) for d in deques)"
   ]
  },
  {
   "cell_type": "code",
   "execution_count": 21,
   "metadata": {},
   "outputs": [],
   "source": [
    "n = 2\n",
    "deques = [collections.deque() for i in range(n)]"
   ]
  },
  {
   "cell_type": "code",
   "execution_count": 22,
   "metadata": {},
   "outputs": [],
   "source": [
    "def gen(mydeque):\n",
    "        while True:\n",
    "            if not mydeque:             # when the local deque is empty\n",
    "                try:\n",
    "                    newval = next(it)   # fetch a new value and\n",
    "                except StopIteration:\n",
    "                    return\n",
    "                for d in deques:        # load it to all the deques\n",
    "                    d.append(newval)\n",
    "            yield mydeque.popleft()"
   ]
  },
  {
   "cell_type": "code",
   "execution_count": 23,
   "metadata": {},
   "outputs": [],
   "source": [
    "_gen = gen(collections.deque())"
   ]
  },
  {
   "cell_type": "code",
   "execution_count": 27,
   "metadata": {},
   "outputs": [
    {
     "data": {
      "text/plain": [
       "[<generator object tee.<locals>.gen at 0x30f19eb48>,\n",
       " <generator object tee.<locals>.gen at 0x30f19eaf0>]"
      ]
     },
     "execution_count": 27,
     "metadata": {},
     "output_type": "execute_result"
    }
   ],
   "source": [
    "list(tee(A))"
   ]
  },
  {
   "cell_type": "code",
   "execution_count": null,
   "metadata": {},
   "outputs": [],
   "source": []
  }
 ],
 "metadata": {
  "kernelspec": {
   "display_name": "Python 3",
   "language": "python",
   "name": "python3"
  },
  "language_info": {
   "codemirror_mode": {
    "name": "ipython",
    "version": 3
   },
   "file_extension": ".py",
   "mimetype": "text/x-python",
   "name": "python",
   "nbconvert_exporter": "python",
   "pygments_lexer": "ipython3",
   "version": "3.7.6"
  }
 },
 "nbformat": 4,
 "nbformat_minor": 4
}
