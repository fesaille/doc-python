{
 "cells": [
  {
   "cell_type": "markdown",
   "metadata": {},
   "source": [
    "An enumeration is a set of symbolic names (members) bound to unique, constant values. Within an enumeration, the members can be compared by identity, and the enumeration itself can be iterated over."
   ]
  },
  {
   "cell_type": "markdown",
   "metadata": {},
   "source": [
    "As reported in https://stackoverflow.com/questions/702834/, enumerations can be creatded using a simple class, assigning attributes to a range"
   ]
  },
  {
   "cell_type": "code",
   "execution_count": 1,
   "metadata": {},
   "outputs": [],
   "source": [
    "class Materials:\n",
    "    Shaded, Shiny, Transparent, Matte = range(1, 5)"
   ]
  },
  {
   "cell_type": "code",
   "execution_count": 3,
   "metadata": {},
   "outputs": [
    {
     "data": {
      "text/plain": [
       "1"
      ]
     },
     "execution_count": 3,
     "metadata": {},
     "output_type": "execute_result"
    }
   ],
   "source": [
    "Materials.Shaded"
   ]
  },
  {
   "cell_type": "markdown",
   "metadata": {},
   "source": [
    "# Module `enum`"
   ]
  },
  {
   "cell_type": "markdown",
   "metadata": {},
   "source": [
    "The module provides 4 enumeration classes : `Enum`, `IntEnum`, `IntFlag`, `Flag`, a decorator `@unique` and a helper function `auto()`"
   ]
  },
  {
   "cell_type": "markdown",
   "metadata": {},
   "source": [
    "enum are created using the `class` statement, subclassing `Enum`<br/>\n",
    "enum values can be anything. If value is unimportant, use the module provided `enum.auto`"
   ]
  },
  {
   "cell_type": "code",
   "execution_count": 4,
   "metadata": {},
   "outputs": [],
   "source": [
    "from enum import Enum, IntEnum, IntFlag, Flag, auto, unique"
   ]
  },
  {
   "cell_type": "markdown",
   "metadata": {},
   "source": [
    "`Enum` members values can be anything: `int`, `str`, etc..  \n",
    "`IntEnum` are strict `int`. A `ValueError` in raised if attempting to set anything else"
   ]
  },
  {
   "cell_type": "code",
   "execution_count": 5,
   "metadata": {},
   "outputs": [],
   "source": [
    "class URL0(Enum):\n",
    "    CULTURE = \"http://www.franceculture.fr\"\n",
    "    INTER = \"http://www.franceinter.fr\"\n",
    "    MUSIQUE = \"https://www.francemusique.fr\"\n",
    "    INFO = \"https://www.francetvinfo.fr\""
   ]
  },
  {
   "cell_type": "code",
   "execution_count": 6,
   "metadata": {},
   "outputs": [
    {
     "data": {
      "text/plain": [
       "<URL0.CULTURE: 'http://www.franceculture.fr'>"
      ]
     },
     "execution_count": 6,
     "metadata": {},
     "output_type": "execute_result"
    }
   ],
   "source": [
    "URL0.CULTURE"
   ]
  },
  {
   "cell_type": "code",
   "execution_count": 7,
   "metadata": {},
   "outputs": [
    {
     "name": "stdout",
     "output_type": "stream",
     "text": [
      "URL0.CULTURE ->  name: CULTURE  / value: http://www.franceculture.fr\n",
      "URL0.INTER   ->  name: INTER    / value: http://www.franceinter.fr\n",
      "URL0.MUSIQUE ->  name: MUSIQUE  / value: https://www.francemusique.fr\n",
      "URL0.INFO    ->  name: INFO     / value: https://www.francetvinfo.fr\n"
     ]
    }
   ],
   "source": [
    "# Enum are iterable\n",
    "for station in URL0:\n",
    "    print(f\"{station:12}\", f\"name: {station.name:8} / value: {station.value}\", sep=\" ->  \")"
   ]
  },
  {
   "cell_type": "markdown",
   "metadata": {},
   "source": [
    "Call of an Enum passing by value returns the Enum element"
   ]
  },
  {
   "cell_type": "code",
   "execution_count": 8,
   "metadata": {},
   "outputs": [
    {
     "data": {
      "text/plain": [
       "<URL0.CULTURE: 'http://www.franceculture.fr'>"
      ]
     },
     "execution_count": 8,
     "metadata": {},
     "output_type": "execute_result"
    }
   ],
   "source": [
    "URL0(\"http://www.franceculture.fr\")"
   ]
  },
  {
   "cell_type": "markdown",
   "metadata": {},
   "source": [
    "## Enum derived class: `IntEnum`"
   ]
  },
  {
   "cell_type": "markdown",
   "metadata": {},
   "source": [
    "With usage of `auto()` for automatic value completion"
   ]
  },
  {
   "cell_type": "code",
   "execution_count": 9,
   "metadata": {},
   "outputs": [],
   "source": [
    "class URL1(IntEnum):\n",
    "    CULTURE = 1\n",
    "    INTER = 2\n",
    "    MUSIQUE = auto()\n",
    "    INFO = auto()"
   ]
  },
  {
   "cell_type": "markdown",
   "metadata": {},
   "source": [
    "Comparison to int is granted"
   ]
  },
  {
   "cell_type": "code",
   "execution_count": 10,
   "metadata": {},
   "outputs": [
    {
     "data": {
      "text/plain": [
       "<URL1.INFO: 4>"
      ]
     },
     "execution_count": 10,
     "metadata": {},
     "output_type": "execute_result"
    }
   ],
   "source": [
    "URL1.INFO"
   ]
  },
  {
   "cell_type": "code",
   "execution_count": 11,
   "metadata": {},
   "outputs": [
    {
     "data": {
      "text/plain": [
       "False"
      ]
     },
     "execution_count": 11,
     "metadata": {},
     "output_type": "execute_result"
    }
   ],
   "source": [
    "URL1.INFO == 1"
   ]
  },
  {
   "cell_type": "markdown",
   "metadata": {},
   "source": [
    "`IntEnum` can very easily recreated"
   ]
  },
  {
   "cell_type": "code",
   "execution_count": 12,
   "metadata": {},
   "outputs": [
    {
     "data": {
      "text/plain": [
       "\u001b[0;31mInit signature:\u001b[0m\n",
       "\u001b[0mIntEnum\u001b[0m\u001b[0;34m(\u001b[0m\u001b[0;34m\u001b[0m\n",
       "\u001b[0;34m\u001b[0m    \u001b[0mvalue\u001b[0m\u001b[0;34m,\u001b[0m\u001b[0;34m\u001b[0m\n",
       "\u001b[0;34m\u001b[0m    \u001b[0mnames\u001b[0m\u001b[0;34m=\u001b[0m\u001b[0;32mNone\u001b[0m\u001b[0;34m,\u001b[0m\u001b[0;34m\u001b[0m\n",
       "\u001b[0;34m\u001b[0m    \u001b[0;34m*\u001b[0m\u001b[0;34m,\u001b[0m\u001b[0;34m\u001b[0m\n",
       "\u001b[0;34m\u001b[0m    \u001b[0mmodule\u001b[0m\u001b[0;34m=\u001b[0m\u001b[0;32mNone\u001b[0m\u001b[0;34m,\u001b[0m\u001b[0;34m\u001b[0m\n",
       "\u001b[0;34m\u001b[0m    \u001b[0mqualname\u001b[0m\u001b[0;34m=\u001b[0m\u001b[0;32mNone\u001b[0m\u001b[0;34m,\u001b[0m\u001b[0;34m\u001b[0m\n",
       "\u001b[0;34m\u001b[0m    \u001b[0mtype\u001b[0m\u001b[0;34m=\u001b[0m\u001b[0;32mNone\u001b[0m\u001b[0;34m,\u001b[0m\u001b[0;34m\u001b[0m\n",
       "\u001b[0;34m\u001b[0m    \u001b[0mstart\u001b[0m\u001b[0;34m=\u001b[0m\u001b[0;36m1\u001b[0m\u001b[0;34m,\u001b[0m\u001b[0;34m\u001b[0m\n",
       "\u001b[0;34m\u001b[0m\u001b[0;34m)\u001b[0m\u001b[0;34m\u001b[0m\u001b[0;34m\u001b[0m\u001b[0m\n",
       "\u001b[0;31mSource:\u001b[0m        \n",
       "\u001b[0;32mclass\u001b[0m \u001b[0mIntEnum\u001b[0m\u001b[0;34m(\u001b[0m\u001b[0mint\u001b[0m\u001b[0;34m,\u001b[0m \u001b[0mEnum\u001b[0m\u001b[0;34m)\u001b[0m\u001b[0;34m:\u001b[0m\u001b[0;34m\u001b[0m\n",
       "\u001b[0;34m\u001b[0m    \u001b[0;34m\"\"\"Enum where members are also (and must be) ints\"\"\"\u001b[0m\u001b[0;34m\u001b[0m\u001b[0;34m\u001b[0m\u001b[0m\n",
       "\u001b[0;31mFile:\u001b[0m           /opt/conda/lib/python3.7/enum.py\n",
       "\u001b[0;31mType:\u001b[0m           EnumMeta\n",
       "\u001b[0;31mSubclasses:\u001b[0m     Signals, Handlers, Sigmasks, _ParameterKind, AddressFamily, SocketKind, _SSLMethod, AlertDescription, SSLErrorNumber, VerifyMode, ...\n"
      ]
     },
     "metadata": {},
     "output_type": "display_data"
    }
   ],
   "source": [
    "IntEnum??"
   ]
  },
  {
   "cell_type": "markdown",
   "metadata": {},
   "source": [
    "Subclassing an enumeration is allowed only if the enumeration does not define any members."
   ]
  },
  {
   "cell_type": "code",
   "execution_count": 13,
   "metadata": {},
   "outputs": [],
   "source": [
    "class StrEnum(str, Enum):\n",
    "    \"\"\"Enum where members are str\"\"\""
   ]
  },
  {
   "cell_type": "code",
   "execution_count": 14,
   "metadata": {},
   "outputs": [],
   "source": [
    "class URL2(StrEnum):\n",
    "    CULTURE = \"http://www.franceculture.fr\"\n",
    "    INTER = \"http://www.franceinter.fr\"\n",
    "    MUSIQUE = \"https://www.francemusique.fr\"\n",
    "    INFO = \"https://www.francetvinfo.fr\""
   ]
  },
  {
   "cell_type": "markdown",
   "metadata": {},
   "source": [
    "Direct comparison to `str`is possible"
   ]
  },
  {
   "cell_type": "code",
   "execution_count": 15,
   "metadata": {},
   "outputs": [
    {
     "data": {
      "text/plain": [
       "True"
      ]
     },
     "execution_count": 15,
     "metadata": {},
     "output_type": "execute_result"
    }
   ],
   "source": [
    "URL2.CULTURE == \"http://www.franceculture.fr\""
   ]
  },
  {
   "cell_type": "markdown",
   "metadata": {},
   "source": [
    "## Programmatic access to enumeration members and their attributes"
   ]
  },
  {
   "cell_type": "code",
   "execution_count": 16,
   "metadata": {},
   "outputs": [
    {
     "name": "stdout",
     "output_type": "stream",
     "text": [
      "__init__ is ran with postional arguments ('http://www.franceculture.fr',) and keyword arguments {}\n",
      "__init__ is ran with postional arguments ('http://www.franceinter.fr',) and keyword arguments {}\n",
      "__init__ is ran with postional arguments ('https://www.francemusique.fr',) and keyword arguments {}\n",
      "__init__ is ran with postional arguments ('https://www.francetvinfo.fr',) and keyword arguments {}\n"
     ]
    }
   ],
   "source": [
    "class URL3(Enum):\n",
    "    CULTURE = \"http://www.franceculture.fr\"\n",
    "    INTER = \"http://www.franceinter.fr\"\n",
    "    MUSIQUE = \"https://www.francemusique.fr\"\n",
    "    INFO = \"https://www.francetvinfo.fr\"\n",
    "    \n",
    "    def __init__(self, *pargs, **kwargs):\n",
    "        print(f\"__init__ is ran with postional arguments {pargs} and keyword arguments {kwargs}\")\n",
    "        self.scheme = pargs[0].split(\":\")[0]\n",
    "        \n",
    "    def method(self):\n",
    "        print(f\"A method is called, applied on {self} with value {self.value}\")\n",
    "    \n",
    "    @property\n",
    "    def prop(self):\n",
    "        print(f\"A dynamic property, applied on {self} with value {self.value}\")\n",
    "    \n",
    "    @classmethod\n",
    "    def favorite_station(cls):\n",
    "        # cls here is the enumeration\n",
    "        return cls.CULTURE"
   ]
  },
  {
   "cell_type": "code",
   "execution_count": 17,
   "metadata": {},
   "outputs": [
    {
     "data": {
      "text/plain": [
       "'http'"
      ]
     },
     "execution_count": 17,
     "metadata": {},
     "output_type": "execute_result"
    }
   ],
   "source": [
    "URL3.CULTURE.scheme"
   ]
  },
  {
   "cell_type": "code",
   "execution_count": 18,
   "metadata": {},
   "outputs": [
    {
     "name": "stdout",
     "output_type": "stream",
     "text": [
      "A method is called, applied on URL3.CULTURE with value http://www.franceculture.fr\n"
     ]
    }
   ],
   "source": [
    "URL3.CULTURE.method()"
   ]
  },
  {
   "cell_type": "code",
   "execution_count": 19,
   "metadata": {},
   "outputs": [
    {
     "name": "stdout",
     "output_type": "stream",
     "text": [
      "A dynamic property, applied on URL3.CULTURE with value http://www.franceculture.fr\n"
     ]
    }
   ],
   "source": [
    "URL3.CULTURE.prop"
   ]
  },
  {
   "cell_type": "code",
   "execution_count": 20,
   "metadata": {},
   "outputs": [
    {
     "data": {
      "text/plain": [
       "<URL3.CULTURE: 'http://www.franceculture.fr'>"
      ]
     },
     "execution_count": 20,
     "metadata": {},
     "output_type": "execute_result"
    }
   ],
   "source": [
    "URL3.favorite_station()"
   ]
  },
  {
   "cell_type": "markdown",
   "metadata": {},
   "source": [
    "Some more complex subclass with programmatic access to attributes"
   ]
  },
  {
   "cell_type": "code",
   "execution_count": 21,
   "metadata": {},
   "outputs": [],
   "source": [
    "from urllib.parse import urlparse\n",
    "\n",
    "class URLEnum(str, Enum):\n",
    "    \"\"\"Enum where members are also (and must be) URL\"\"\"\n",
    "    def __init__(self, url):\n",
    "        \"scheme://netloc/path;parameters?query#fragment\"\n",
    "        for (attr, value) in zip(\"scheme netloc path parameters query fragment\".split(\" \"),\n",
    "                                 list(urlparse(url))):\n",
    "            setattr(self, attr, value)\n",
    "        assert self.scheme in ['http', 'https'], f\"URL {self} provides neither http nor https scheme\""
   ]
  },
  {
   "cell_type": "code",
   "execution_count": 22,
   "metadata": {},
   "outputs": [],
   "source": [
    "class URLEnum(str, Enum):\n",
    "    def __new__(cls, value):\n",
    "        obj = str.__new__(cls)\n",
    "        obj._value_ = urlparse(value)\n",
    "        return obj"
   ]
  },
  {
   "cell_type": "code",
   "execution_count": 23,
   "metadata": {},
   "outputs": [],
   "source": [
    "class URL5(URLEnum):\n",
    "    CULTURE = \"http://www.franceculture.fr\"\n",
    "    INTER = \"http://www.franceinter.fr\"\n",
    "    MUSIQUE = \"https://www.francemusique.fr\"\n",
    "    INFO = \"https://www.francetvinfo.fr\""
   ]
  },
  {
   "cell_type": "code",
   "execution_count": 24,
   "metadata": {},
   "outputs": [
    {
     "data": {
      "text/plain": [
       "'http'"
      ]
     },
     "execution_count": 24,
     "metadata": {},
     "output_type": "execute_result"
    }
   ],
   "source": [
    "URL5.CULTURE.value.scheme"
   ]
  },
  {
   "cell_type": "code",
   "execution_count": 25,
   "metadata": {},
   "outputs": [
    {
     "data": {
      "text/plain": [
       "False"
      ]
     },
     "execution_count": 25,
     "metadata": {},
     "output_type": "execute_result"
    }
   ],
   "source": [
    "URL5.CULTURE == \"http://www.franceculture.fr\""
   ]
  },
  {
   "cell_type": "markdown",
   "metadata": {},
   "source": [
    "## Flag"
   ]
  },
  {
   "cell_type": "markdown",
   "metadata": {},
   "source": [
    "Flag have `__bool__`, `__or__`, `__and__`,  `__xorr__`, `__invert__`methods"
   ]
  },
  {
   "cell_type": "code",
   "execution_count": 26,
   "metadata": {},
   "outputs": [],
   "source": [
    "class Color(Flag):\n",
    "    RED = auto()\n",
    "    BLUE = auto()\n",
    "    GREEN = auto()"
   ]
  },
  {
   "cell_type": "code",
   "execution_count": 27,
   "metadata": {},
   "outputs": [
    {
     "data": {
      "text/plain": [
       "<Color.RED: 1>"
      ]
     },
     "execution_count": 27,
     "metadata": {},
     "output_type": "execute_result"
    }
   ],
   "source": [
    "Color.RED"
   ]
  },
  {
   "cell_type": "code",
   "execution_count": 28,
   "metadata": {},
   "outputs": [
    {
     "data": {
      "text/plain": [
       "<Color.0: 0>"
      ]
     },
     "execution_count": 28,
     "metadata": {},
     "output_type": "execute_result"
    }
   ],
   "source": [
    "Color.RED & Color.GREEN"
   ]
  },
  {
   "cell_type": "code",
   "execution_count": 29,
   "metadata": {},
   "outputs": [
    {
     "data": {
      "text/plain": [
       "False"
      ]
     },
     "execution_count": 29,
     "metadata": {},
     "output_type": "execute_result"
    }
   ],
   "source": [
    "bool(Color.RED & Color.GREEN)"
   ]
  },
  {
   "cell_type": "markdown",
   "metadata": {},
   "source": [
    "## `IntFlag`"
   ]
  },
  {
   "cell_type": "markdown",
   "metadata": {},
   "source": [
    "`IntFlag` subclasses `Int`and `Flag`. Members can be combined using the bitwise operators (&, |, ^, ~) and the result is still an `IntFlag`"
   ]
  },
  {
   "cell_type": "code",
   "execution_count": 30,
   "metadata": {},
   "outputs": [],
   "source": [
    "class Perm(IntFlag):\n",
    "    R = 4\n",
    "    W = 2\n",
    "    X = 1"
   ]
  },
  {
   "cell_type": "code",
   "execution_count": 31,
   "metadata": {},
   "outputs": [
    {
     "data": {
      "text/plain": [
       "<Perm.R|W: 6>"
      ]
     },
     "execution_count": 31,
     "metadata": {},
     "output_type": "execute_result"
    }
   ],
   "source": [
    "Perm.R | Perm.W"
   ]
  },
  {
   "cell_type": "code",
   "execution_count": 32,
   "metadata": {},
   "outputs": [
    {
     "data": {
      "text/plain": [
       "6"
      ]
     },
     "execution_count": 32,
     "metadata": {},
     "output_type": "execute_result"
    }
   ],
   "source": [
    "Perm.R + Perm.W"
   ]
  },
  {
   "cell_type": "code",
   "execution_count": 33,
   "metadata": {},
   "outputs": [
    {
     "data": {
      "text/plain": [
       "True"
      ]
     },
     "execution_count": 33,
     "metadata": {},
     "output_type": "execute_result"
    }
   ],
   "source": [
    "RW = Perm.R | Perm.W\n",
    "Perm.R in RW"
   ]
  },
  {
   "cell_type": "markdown",
   "metadata": {},
   "source": [
    "## Functional API"
   ]
  },
  {
   "cell_type": "code",
   "execution_count": 34,
   "metadata": {},
   "outputs": [
    {
     "data": {
      "text/plain": [
       "\u001b[0;31mInit signature:\u001b[0m \u001b[0mEnum\u001b[0m\u001b[0;34m(\u001b[0m\u001b[0mvalue\u001b[0m\u001b[0;34m,\u001b[0m \u001b[0mnames\u001b[0m\u001b[0;34m=\u001b[0m\u001b[0;32mNone\u001b[0m\u001b[0;34m,\u001b[0m \u001b[0;34m*\u001b[0m\u001b[0;34m,\u001b[0m \u001b[0mmodule\u001b[0m\u001b[0;34m=\u001b[0m\u001b[0;32mNone\u001b[0m\u001b[0;34m,\u001b[0m \u001b[0mqualname\u001b[0m\u001b[0;34m=\u001b[0m\u001b[0;32mNone\u001b[0m\u001b[0;34m,\u001b[0m \u001b[0mtype\u001b[0m\u001b[0;34m=\u001b[0m\u001b[0;32mNone\u001b[0m\u001b[0;34m,\u001b[0m \u001b[0mstart\u001b[0m\u001b[0;34m=\u001b[0m\u001b[0;36m1\u001b[0m\u001b[0;34m)\u001b[0m\u001b[0;34m\u001b[0m\u001b[0;34m\u001b[0m\u001b[0m\n",
       "\u001b[0;31mDocstring:\u001b[0m     \n",
       "Generic enumeration.\n",
       "\n",
       "Derive from this class to define new enumerations.\n",
       "\u001b[0;31mFile:\u001b[0m           /opt/conda/lib/python3.7/enum.py\n",
       "\u001b[0;31mType:\u001b[0m           EnumMeta\n",
       "\u001b[0;31mSubclasses:\u001b[0m     IntEnum, Flag, Purpose, _SendfileMode, SelectionType, PasteMode, EditingMode, Priority, ColorDepth, MouseEventType, ...\n"
      ]
     },
     "metadata": {},
     "output_type": "display_data"
    }
   ],
   "source": [
    "Enum?"
   ]
  },
  {
   "cell_type": "code",
   "execution_count": 35,
   "metadata": {},
   "outputs": [],
   "source": [
    "URL6 = Enum('Radio', 'Culture Inter Musique Info', type=str, start=20)"
   ]
  },
  {
   "cell_type": "code",
   "execution_count": 36,
   "metadata": {},
   "outputs": [
    {
     "data": {
      "text/plain": [
       "<Radio.Inter: '21'>"
      ]
     },
     "execution_count": 36,
     "metadata": {},
     "output_type": "execute_result"
    }
   ],
   "source": [
    "URL6.Inter"
   ]
  },
  {
   "cell_type": "code",
   "execution_count": null,
   "metadata": {},
   "outputs": [],
   "source": []
  }
 ],
 "metadata": {
  "kernelspec": {
   "display_name": "Python 3",
   "language": "python",
   "name": "python3"
  },
  "language_info": {
   "codemirror_mode": {
    "name": "ipython",
    "version": 3
   },
   "file_extension": ".py",
   "mimetype": "text/x-python",
   "name": "python",
   "nbconvert_exporter": "python",
   "pygments_lexer": "ipython3",
   "version": "3.7.6"
  },
  "toc": {
   "colors": {
    "hover_highlight": "#DAA520",
    "navigate_num": "#000000",
    "navigate_text": "#333333",
    "running_highlight": "#FF0000",
    "selected_highlight": "#FFD700",
    "sidebar_border": "#EEEEEE",
    "wrapper_background": "#FFFFFF"
   },
   "moveMenuLeft": true,
   "nav_menu": {
    "height": "63px",
    "width": "252px"
   },
   "navigate_menu": true,
   "number_sections": true,
   "sideBar": true,
   "threshold": 4,
   "toc_cell": false,
   "toc_section_display": "block",
   "toc_window_display": true,
   "widenNotebook": false
  }
 },
 "nbformat": 4,
 "nbformat_minor": 4
}
