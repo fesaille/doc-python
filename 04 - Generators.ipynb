{
 "cells": [
  {
   "cell_type": "code",
   "execution_count": 25,
   "metadata": {},
   "outputs": [],
   "source": [
    "from itertools import dropwhile"
   ]
  },
  {
   "cell_type": "code",
   "execution_count": 26,
   "metadata": {},
   "outputs": [],
   "source": [
    "file = \"/Users/manu/Documents/Developpement/github/asampy/doc/Test_DCM2.dcm\""
   ]
  },
  {
   "cell_type": "code",
   "execution_count": 27,
   "metadata": {},
   "outputs": [],
   "source": [
    "TYPES = [\"FestKennfeld\", \"KennFeld\", \"FestKennlinie\",\n",
    "         \"Kennlinie\", \"FestWertBlock\", \"FestWert\", \"TextString\",\n",
    "         \"GruppenKennlinie\", \"GruppenKennfeld\", \"StuetzStellenVerteilung\"]\n",
    "\n",
    "def got(buffer):\n",
    "    l = next(buffer)\n",
    "    while not l.strip().startswith(\"END\"):\n",
    "        yield l\n",
    "        l = next(buffer)       "
   ]
  },
  {
   "cell_type": "code",
   "execution_count": 28,
   "metadata": {},
   "outputs": [
    {
     "name": "stdout",
     "output_type": "stream",
     "text": [
      "* DAMOS format\n",
      "* Created by ASCET\n",
      "* Creation date: 21.11.2012 17:06:25\n",
      "*\n",
      "* DamosDataFilePath: 'c:\\ETASData\\ASCET6.1\\Test_DCM2.dcm'\n",
      "* DamosExtensionForOutput: 'dcm'\n",
      "* DamosFormatVersion: '2'\n",
      "* DamosCaseSensitiveNames: true\n",
      "* DamosIncludeBooleans: true\n",
      "* DamosIncludeDependentParameter: true\n",
      "* DamosBooleanFormat: 'String'\n",
      "* DamosEnumerationFormat: 'String'\n",
      "* DamosShowInputLogFile: true\n",
      "* DamosInputLogFile: 'c:\\ETAS\\LogFiles\\ASCET\\filein.log'\n",
      "* DamosShowOutputLogFile: false\n",
      "* DamosOutputLogFile: 'c:\\ETAS\\LogFiles\\ASCET\\fileout.log'\n",
      "\n",
      "KONSERVIERUNG_FORMAT 2.0\n",
      "\n",
      "FESTWERTEBLOCK array 4\n",
      "LANGNAME \"sample temperatures\"\n",
      "EINHEIT_W \"° C\"\n",
      "WERT 0.75 -0.25 0.5 1.5\n"
     ]
    }
   ],
   "source": [
    "with open(file) as f:\n",
    "    for l in got(f): #dropwhile(lambda x : x.strip().startswith(\"*\"), f):\n",
    "        #got(f)\n",
    "        print(l.strip())"
   ]
  },
  {
   "cell_type": "code",
   "execution_count": null,
   "metadata": {},
   "outputs": [],
   "source": []
  }
 ],
 "metadata": {
  "kernelspec": {
   "display_name": "Python 3",
   "language": "python",
   "name": "python3"
  },
  "language_info": {
   "codemirror_mode": {
    "name": "ipython",
    "version": 3
   },
   "file_extension": ".py",
   "mimetype": "text/x-python",
   "name": "python",
   "nbconvert_exporter": "python",
   "pygments_lexer": "ipython3",
   "version": "3.9.0"
  },
  "toc": {
   "colors": {
    "hover_highlight": "#DAA520",
    "navigate_num": "#000000",
    "navigate_text": "#333333",
    "running_highlight": "#FF0000",
    "selected_highlight": "#FFD700",
    "sidebar_border": "#EEEEEE",
    "wrapper_background": "#FFFFFF"
   },
   "moveMenuLeft": true,
   "nav_menu": {
    "height": "12px",
    "width": "252px"
   },
   "navigate_menu": true,
   "number_sections": true,
   "sideBar": true,
   "threshold": 4,
   "toc_cell": false,
   "toc_section_display": "block",
   "toc_window_display": true,
   "widenNotebook": false
  }
 },
 "nbformat": 4,
 "nbformat_minor": 4
}
