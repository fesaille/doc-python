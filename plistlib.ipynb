{
 "cells": [
  {
   "cell_type": "markdown",
   "metadata": {},
   "source": [
    "<a href=\"https://developer.apple.com/library/mac/documentation/Darwin/Reference/ManPages/man5/plist.5.html\">PList manual page</a>\n"
   ]
  },
  {
   "cell_type": "raw",
   "metadata": {
    "collapsed": true
   },
   "source": [
    "%load_ext autoreload\n",
    "%autoreload 2"
   ]
  },
  {
   "cell_type": "code",
   "execution_count": 1,
   "metadata": {},
   "outputs": [
    {
     "name": "stdout",
     "output_type": "stream",
     "text": [
      "/Users/manu/Documents/Developpement/gist\n"
     ]
    }
   ],
   "source": [
    "cd ~/Documents/Developpement/gist/"
   ]
  },
  {
   "cell_type": "code",
   "execution_count": 2,
   "metadata": {
    "collapsed": true
   },
   "outputs": [],
   "source": [
    "import SafariBookmarkEditor\n",
    "from os.path import (expanduser, isfile)"
   ]
  },
  {
   "cell_type": "code",
   "execution_count": 3,
   "metadata": {
    "collapsed": true
   },
   "outputs": [],
   "source": [
    "_path = expanduser('/tmp/BookmarksCorrupt.plist')\n",
    "\n",
    "_path\n",
    "\n",
    "_path = expanduser('/tmp/Bookmarks.plist')\n",
    "if not isfile(_path):\n",
    "    print(\"Bookmarks.plist doesn't appear to exist.\"\n",
    "          \"Generating new Bookmarks.plist.\")"
   ]
  },
  {
   "cell_type": "code",
   "execution_count": 4,
   "metadata": {
    "collapsed": true
   },
   "outputs": [],
   "source": [
    "import plistlib\n",
    "from plistlib import InvalidFileException"
   ]
  },
  {
   "cell_type": "raw",
   "metadata": {
    "collapsed": true
   },
   "source": [
    "with open(_path, 'rb') as plist:\n",
    "    plist = plistlib.load(plist)\n",
    "\n",
    "plist['Children']"
   ]
  },
  {
   "cell_type": "code",
   "execution_count": 5,
   "metadata": {
    "collapsed": true
   },
   "outputs": [],
   "source": [
    "bmks = SafariBookmarkEditor.SafariBookmarks()"
   ]
  },
  {
   "cell_type": "code",
   "execution_count": 6,
   "metadata": {
    "collapsed": true
   },
   "outputs": [],
   "source": [
    "bmks.read()"
   ]
  },
  {
   "cell_type": "raw",
   "metadata": {},
   "source": [
    " bmks.add(\"myWebsite\", \"http://www.mywebsite.com\")"
   ]
  },
  {
   "cell_type": "code",
   "execution_count": 7,
   "metadata": {},
   "outputs": [
    {
     "data": {
      "text/plain": [
       "['p',\n",
       " 'MaDoc',\n",
       " 'Le Monde',\n",
       " 'Zeit',\n",
       " 'Arte',\n",
       " 'France Culture',\n",
       " 'Wetter Stuttgart',\n",
       " 'Léo\\xa0F-D',\n",
       " 'FRITZ!Box']"
      ]
     },
     "execution_count": 7,
     "metadata": {},
     "output_type": "execute_result"
    }
   ],
   "source": [
    "bmks.titles"
   ]
  },
  {
   "cell_type": "code",
   "execution_count": 8,
   "metadata": {
    "collapsed": true
   },
   "outputs": [],
   "source": [
    "import datetime\n",
    "import json\n",
    "\n",
    "def datetime_handler(x):\n",
    "    if isinstance(x, datetime.datetime):\n",
    "        return x.isoformat()\n",
    "    raise TypeError(\"Unknown type\")\n",
    "\n",
    "data = json.dumps(bmks.plist, default=datetime_handler)"
   ]
  },
  {
   "cell_type": "code",
   "execution_count": 25,
   "metadata": {},
   "outputs": [
    {
     "name": "stdout",
     "output_type": "stream",
     "text": [
      "SafariBookmarkEditor.py    SafariBookmarksViewer.html\r\n",
      "SafariBookmarks.json       \u001b[1m\u001b[33m__pycache__\u001b[m\u001b[m\r\n"
     ]
    }
   ],
   "source": [
    "!ls"
   ]
  },
  {
   "cell_type": "code",
   "execution_count": 27,
   "metadata": {},
   "outputs": [],
   "source": [
    "with open('SafariBookmarks.json', 'w') as outfile:\n",
    "    json.dump(bmks.plist, outfile, default=datetime_handler)"
   ]
  },
  {
   "cell_type": "code",
   "execution_count": 14,
   "metadata": {
    "collapsed": true
   },
   "outputs": [],
   "source": [
    "from IPython.display import Javascript"
   ]
  },
  {
   "cell_type": "code",
   "execution_count": 19,
   "metadata": {},
   "outputs": [
    {
     "data": {
      "application/javascript": [
       "require.config({\n",
       "    paths: {\n",
       "        d3: '//cdnjs.cloudflare.com/ajax/libs/d3/3.4.8/d3.min'\n",
       "    },\n",
       "});"
      ],
      "text/plain": [
       "<IPython.core.display.Javascript object>"
      ]
     },
     "metadata": {},
     "output_type": "display_data"
    }
   ],
   "source": [
    "%%javascript\n",
    "require.config({\n",
    "    paths: {\n",
    "        d3: '//cdnjs.cloudflare.com/ajax/libs/d3/3.4.8/d3.min'\n",
    "    },\n",
    "});"
   ]
  },
  {
   "cell_type": "code",
   "execution_count": 20,
   "metadata": {},
   "outputs": [
    {
     "data": {
      "application/javascript": [
       "require(['d3'], function(d3){\n",
       "  //a weird idempotency thing\n",
       "  $(\"#chart1\").remove();\n",
       "  //create canvas\n",
       "  element.append(\"<div id='chart1'></div>\");\n",
       "  $(\"#chart1\").width(\"660px\");\n",
       "  $(\"#chart1\").height(\"600px\");        \n",
       "  var margin = {top: 20, right: 20, bottom: 30, left: 40};\n",
       "  var width = 880 - margin.left - margin.right;\n",
       "  var height = 500 - margin.top - margin.bottom;\n",
       "  var svg = d3.select(\"#chart1\").append(\"svg\")\n",
       "    .style(\"position\", \"relative\")\n",
       "    .style(\"max-width\", \"960px\")\n",
       "    .attr(\"width\", width + \"px\")\n",
       "    .attr(\"height\", (height + 50) + \"px\")\n",
       "    .append(\"g\")\n",
       "    .attr(\"transform\", \"translate(\" + margin.left + \",\" + margin.top + \")\");\n",
       "  \n",
       "  //set data\n",
       "  var data = convertPlotData(window.headwayVsRidership);\n",
       "  var xVals = function(d){return d.purpleHeadway;};\n",
       "  var yVals = function(d){return d.purpleAverage;};\n",
       "  \n",
       "  var xScale = d3.scale.linear().range([0, width]);\n",
       "  var xAxis = d3.svg.axis().scale(xScale).orient(\"bottom\");\n",
       "  var xMap = function(d) { return xScale(xVals(d));};\n",
       "      \n",
       "  var yScale = d3.scale.linear().range([height, 0]);\n",
       "  var yAxis = d3.svg.axis().scale(yScale).orient(\"left\");\n",
       "  var yMap = function(d) { return yScale(yVals(d));};\n",
       "  xScale.domain([d3.min(data, xVals)-1, d3.max(data, xVals)+1]);\n",
       "  yScale.domain([d3.min(data, yVals)-1, d3.max(data, yVals)+1]);\n",
       "\n",
       "  \n",
       "  var cValue = function(d) { \n",
       "    if(d.day == \"Saturday\" || d.day == \"Sunday\"){\n",
       "        return \"Weekend\";\n",
       "    }\n",
       "    return \"Weekday\";\n",
       "  }\n",
       "  var color = d3.scale.category10(); \n",
       "  \n",
       "  // x-axis\n",
       "  svg.append(\"g\")\n",
       "      .attr(\"class\", \"x axis\")\n",
       "      .attr(\"transform\", \"translate(0,\" + height + \")\")\n",
       "      .call(xAxis)\n",
       "    .append(\"text\")\n",
       "      .attr(\"class\", \"label\")\n",
       "      .attr(\"x\", width - 80)\n",
       "      .attr(\"y\", -15)\n",
       "      .style(\"text-anchor\", \"end\")\n",
       "      .text(\"Average Headway\");\n",
       "\n",
       "  // y-axis\n",
       "  svg.append(\"g\")\n",
       "      .attr(\"class\", \"y axis\")\n",
       "      .call(yAxis)\n",
       "    .append(\"text\")\n",
       "      .attr(\"class\", \"label\")\n",
       "      .attr(\"transform\", \"rotate(-90)\")\n",
       "      .attr(\"y\", 0)\n",
       "      .attr(\"dy\", \"1em\")\n",
       "      .style(\"text-anchor\", \"end\")\n",
       "      .text(\"Average Riders\");\n",
       "\n",
       "  //NEW: TOOLTIP. \n",
       "  var tooltip = d3.select(\"body\").append(\"div\")\n",
       "    .attr(\"class\", \"tooltip\")\n",
       "    .style(\"opacity\", 0)\n",
       "    .style(\"background-color\", \"white\");\n",
       " \n",
       "  svg.selectAll(\".dot\")\n",
       "     .data(data)\n",
       "     .enter().append(\"circle\")\n",
       "     .attr(\"class\", \"dot\")\n",
       "     .attr(\"r\", 3.5)\n",
       "     .attr(\"cx\", xMap)\n",
       "     .attr(\"cy\", yMap)\n",
       "     .style(\"fill\", function(d) { return color(cValue(d));}) //D3 does the magic! \n",
       "     .on(\"mouseover\", function(d) { //much like jquery, an event listener\n",
       "         tooltip.transition()\n",
       "                .duration(200)\n",
       "                .style(\"opacity\", .9);\n",
       "         tooltip.html(d[\"day\"] + \" : \" + d['date'])\n",
       "               .style(\"left\", (d3.event.pageX + 5) + \"px\")\n",
       "               .style(\"top\", (d3.event.pageY - 28) + \"px\");\n",
       "      })\n",
       "      .on(\"mouseout\", function(d) {\n",
       "          tooltip.transition()\n",
       "               .duration(500)\n",
       "               .style(\"opacity\", 0);\n",
       "      });\n",
       "    \n",
       "  var legend = svg.selectAll(\".legend\")\n",
       "      .data(color.domain()) //stores the color <-> label mappings\n",
       "      .enter().append(\"g\")\n",
       "      .attr(\"class\", \"legend\")\n",
       "      .attr(\"transform\", function(d, i) { return \"translate(0,\" + i * 20 + \")\"; });\n",
       "\n",
       "  legend.append(\"rect\")\n",
       "      .attr(\"x\", width - 60)\n",
       "      .attr(\"width\", 18)\n",
       "      .attr(\"height\", 18)\n",
       "      .style(\"fill\", color);\n",
       "\n",
       "  legend.append(\"text\")\n",
       "      .attr(\"x\", width - 70)\n",
       "      .attr(\"y\", 9)\n",
       "      .attr(\"dy\", \".35em\")\n",
       "      .style(\"text-anchor\", \"end\")\n",
       "      .text(function(d) { return d;})\n",
       "\n",
       "});"
      ],
      "text/plain": [
       "<IPython.core.display.Javascript object>"
      ]
     },
     "metadata": {},
     "output_type": "display_data"
    }
   ],
   "source": [
    "%%javascript\n",
    "require(['d3'], function(d3){\n",
    "  //a weird idempotency thing\n",
    "  $(\"#chart1\").remove();\n",
    "  //create canvas\n",
    "  element.append(\"<div id='chart1'></div>\");\n",
    "  $(\"#chart1\").width(\"660px\");\n",
    "  $(\"#chart1\").height(\"600px\");        \n",
    "  var margin = {top: 20, right: 20, bottom: 30, left: 40};\n",
    "  var width = 880 - margin.left - margin.right;\n",
    "  var height = 500 - margin.top - margin.bottom;\n",
    "  var svg = d3.select(\"#chart1\").append(\"svg\")\n",
    "    .style(\"position\", \"relative\")\n",
    "    .style(\"max-width\", \"960px\")\n",
    "    .attr(\"width\", width + \"px\")\n",
    "    .attr(\"height\", (height + 50) + \"px\")\n",
    "    .append(\"g\")\n",
    "    .attr(\"transform\", \"translate(\" + margin.left + \",\" + margin.top + \")\");\n",
    "  \n",
    "  //set data\n",
    "  var data = convertPlotData(window.headwayVsRidership);\n",
    "  var xVals = function(d){return d.purpleHeadway;};\n",
    "  var yVals = function(d){return d.purpleAverage;};\n",
    "  \n",
    "  var xScale = d3.scale.linear().range([0, width]);\n",
    "  var xAxis = d3.svg.axis().scale(xScale).orient(\"bottom\");\n",
    "  var xMap = function(d) { return xScale(xVals(d));};\n",
    "      \n",
    "  var yScale = d3.scale.linear().range([height, 0]);\n",
    "  var yAxis = d3.svg.axis().scale(yScale).orient(\"left\");\n",
    "  var yMap = function(d) { return yScale(yVals(d));};\n",
    "  xScale.domain([d3.min(data, xVals)-1, d3.max(data, xVals)+1]);\n",
    "  yScale.domain([d3.min(data, yVals)-1, d3.max(data, yVals)+1]);\n",
    "\n",
    "  \n",
    "  var cValue = function(d) { \n",
    "    if(d.day == \"Saturday\" || d.day == \"Sunday\"){\n",
    "        return \"Weekend\";\n",
    "    }\n",
    "    return \"Weekday\";\n",
    "  }\n",
    "  var color = d3.scale.category10(); \n",
    "  \n",
    "  // x-axis\n",
    "  svg.append(\"g\")\n",
    "      .attr(\"class\", \"x axis\")\n",
    "      .attr(\"transform\", \"translate(0,\" + height + \")\")\n",
    "      .call(xAxis)\n",
    "    .append(\"text\")\n",
    "      .attr(\"class\", \"label\")\n",
    "      .attr(\"x\", width - 80)\n",
    "      .attr(\"y\", -15)\n",
    "      .style(\"text-anchor\", \"end\")\n",
    "      .text(\"Average Headway\");\n",
    "\n",
    "  // y-axis\n",
    "  svg.append(\"g\")\n",
    "      .attr(\"class\", \"y axis\")\n",
    "      .call(yAxis)\n",
    "    .append(\"text\")\n",
    "      .attr(\"class\", \"label\")\n",
    "      .attr(\"transform\", \"rotate(-90)\")\n",
    "      .attr(\"y\", 0)\n",
    "      .attr(\"dy\", \"1em\")\n",
    "      .style(\"text-anchor\", \"end\")\n",
    "      .text(\"Average Riders\");\n",
    "\n",
    "  //NEW: TOOLTIP. \n",
    "  var tooltip = d3.select(\"body\").append(\"div\")\n",
    "    .attr(\"class\", \"tooltip\")\n",
    "    .style(\"opacity\", 0)\n",
    "    .style(\"background-color\", \"white\");\n",
    " \n",
    "  svg.selectAll(\".dot\")\n",
    "     .data(data)\n",
    "     .enter().append(\"circle\")\n",
    "     .attr(\"class\", \"dot\")\n",
    "     .attr(\"r\", 3.5)\n",
    "     .attr(\"cx\", xMap)\n",
    "     .attr(\"cy\", yMap)\n",
    "     .style(\"fill\", function(d) { return color(cValue(d));}) //D3 does the magic! \n",
    "     .on(\"mouseover\", function(d) { //much like jquery, an event listener\n",
    "         tooltip.transition()\n",
    "                .duration(200)\n",
    "                .style(\"opacity\", .9);\n",
    "         tooltip.html(d[\"day\"] + \" : \" + d['date'])\n",
    "               .style(\"left\", (d3.event.pageX + 5) + \"px\")\n",
    "               .style(\"top\", (d3.event.pageY - 28) + \"px\");\n",
    "      })\n",
    "      .on(\"mouseout\", function(d) {\n",
    "          tooltip.transition()\n",
    "               .duration(500)\n",
    "               .style(\"opacity\", 0);\n",
    "      });\n",
    "    \n",
    "  var legend = svg.selectAll(\".legend\")\n",
    "      .data(color.domain()) //stores the color <-> label mappings\n",
    "      .enter().append(\"g\")\n",
    "      .attr(\"class\", \"legend\")\n",
    "      .attr(\"transform\", function(d, i) { return \"translate(0,\" + i * 20 + \")\"; });\n",
    "\n",
    "  legend.append(\"rect\")\n",
    "      .attr(\"x\", width - 60)\n",
    "      .attr(\"width\", 18)\n",
    "      .attr(\"height\", 18)\n",
    "      .style(\"fill\", color);\n",
    "\n",
    "  legend.append(\"text\")\n",
    "      .attr(\"x\", width - 70)\n",
    "      .attr(\"y\", 9)\n",
    "      .attr(\"dy\", \".35em\")\n",
    "      .style(\"text-anchor\", \"end\")\n",
    "      .text(function(d) { return d;})\n",
    "\n",
    "});"
   ]
  },
  {
   "cell_type": "code",
   "execution_count": 67,
   "metadata": {},
   "outputs": [
    {
     "name": "stdout",
     "output_type": "stream",
     "text": [
      "<class 'str'>\n",
      "<class 'list'>\n",
      "<class 'str'>\n",
      "<class 'str'>\n",
      "<class 'int'>\n"
     ]
    }
   ],
   "source": [
    "for k in bmks.plist.keys():\n",
    "    print(type(bmks.plist[k]))\n",
    "#    print(len(bmks.plist[k]))"
   ]
  },
  {
   "cell_type": "code",
   "execution_count": 45,
   "metadata": {
    "collapsed": true
   },
   "outputs": [],
   "source": [
    "from bs4 import BeautifulSoup\n",
    "from urllib.request import urlopen\n",
    "from os.path import (dirname, join)"
   ]
  },
  {
   "cell_type": "code",
   "execution_count": 42,
   "metadata": {
    "collapsed": true
   },
   "outputs": [],
   "source": [
    "root = \"https://docs.python.org/3/library/index.html\"\n",
    "doc = urlopen(root).read()\n",
    "soup = BeautifulSoup(doc, \"lxml\")\n"
   ]
  },
  {
   "cell_type": "code",
   "execution_count": 43,
   "metadata": {
    "collapsed": true
   },
   "outputs": [],
   "source": [
    "li = soup.find_all(\"li\", class_='toctree-l1')"
   ]
  },
  {
   "cell_type": "code",
   "execution_count": 50,
   "metadata": {},
   "outputs": [
    {
     "name": "stdout",
     "output_type": "stream",
     "text": [
      "0 https://docs.python.org/3/library/intro.html 1. Introduction\n",
      "1 https://docs.python.org/3/library/functions.html 2. Built-in Functions\n",
      "2 https://docs.python.org/3/library/constants.html 3. Built-in Constants\n",
      "     0 https://docs.python.org/3/library/constants.html#constants-added-by-the-site-module 3.1. Constants added by the \n",
      "3 https://docs.python.org/3/library/stdtypes.html 4. Built-in Types\n",
      "     0 https://docs.python.org/3/library/stdtypes.html#truth-value-testing 4.1. Truth Value Testing\n",
      "     1 https://docs.python.org/3/library/stdtypes.html#boolean-operations-and-or-not 4.2. Boolean Operations — \n",
      "     2 https://docs.python.org/3/library/stdtypes.html#comparisons 4.3. Comparisons\n",
      "     3 https://docs.python.org/3/library/stdtypes.html#numeric-types-int-float-complex 4.4. Numeric Types — \n",
      "     4 https://docs.python.org/3/library/stdtypes.html#iterator-types 4.5. Iterator Types\n",
      "     5 https://docs.python.org/3/library/stdtypes.html#sequence-types-list-tuple-range 4.6. Sequence Types — \n",
      "     6 https://docs.python.org/3/library/stdtypes.html#text-sequence-type-str 4.7. Text Sequence Type — \n",
      "     7 https://docs.python.org/3/library/stdtypes.html#binary-sequence-types-bytes-bytearray-memoryview 4.8. Binary Sequence Types — \n",
      "     8 https://docs.python.org/3/library/stdtypes.html#set-types-set-frozenset 4.9. Set Types — \n",
      "     9 https://docs.python.org/3/library/stdtypes.html#mapping-types-dict 4.10. Mapping Types — \n",
      "     10 https://docs.python.org/3/library/stdtypes.html#context-manager-types 4.11. Context Manager Types\n",
      "     11 https://docs.python.org/3/library/stdtypes.html#other-built-in-types 4.12. Other Built-in Types\n",
      "     12 https://docs.python.org/3/library/stdtypes.html#special-attributes 4.13. Special Attributes\n",
      "4 https://docs.python.org/3/library/exceptions.html 5. Built-in Exceptions\n",
      "     0 https://docs.python.org/3/library/exceptions.html#base-classes 5.1. Base classes\n",
      "     1 https://docs.python.org/3/library/exceptions.html#concrete-exceptions 5.2. Concrete exceptions\n",
      "     2 https://docs.python.org/3/library/exceptions.html#warnings 5.3. Warnings\n",
      "     3 https://docs.python.org/3/library/exceptions.html#exception-hierarchy 5.4. Exception hierarchy\n",
      "5 https://docs.python.org/3/library/text.html 6. Text Processing Services\n",
      "     0 https://docs.python.org/3/library/string.html 6.1. \n",
      "     1 https://docs.python.org/3/library/re.html 6.2. \n",
      "     2 https://docs.python.org/3/library/difflib.html 6.3. \n",
      "     3 https://docs.python.org/3/library/textwrap.html 6.4. \n",
      "     4 https://docs.python.org/3/library/unicodedata.html 6.5. \n",
      "     5 https://docs.python.org/3/library/stringprep.html 6.6. \n",
      "     6 https://docs.python.org/3/library/readline.html 6.7. \n",
      "     7 https://docs.python.org/3/library/rlcompleter.html 6.8. \n",
      "6 https://docs.python.org/3/library/binary.html 7. Binary Data Services\n",
      "     0 https://docs.python.org/3/library/struct.html 7.1. \n",
      "     1 https://docs.python.org/3/library/codecs.html 7.2. \n",
      "7 https://docs.python.org/3/library/datatypes.html 8. Data Types\n",
      "     0 https://docs.python.org/3/library/datetime.html 8.1. \n",
      "     1 https://docs.python.org/3/library/calendar.html 8.2. \n",
      "     2 https://docs.python.org/3/library/collections.html 8.3. \n",
      "     3 https://docs.python.org/3/library/collections.abc.html 8.4. \n",
      "     4 https://docs.python.org/3/library/heapq.html 8.5. \n",
      "     5 https://docs.python.org/3/library/bisect.html 8.6. \n",
      "     6 https://docs.python.org/3/library/array.html 8.7. \n",
      "     7 https://docs.python.org/3/library/weakref.html 8.8. \n",
      "     8 https://docs.python.org/3/library/types.html 8.9. \n",
      "     9 https://docs.python.org/3/library/copy.html 8.10. \n",
      "     10 https://docs.python.org/3/library/pprint.html 8.11. \n",
      "     11 https://docs.python.org/3/library/reprlib.html 8.12. \n",
      "     12 https://docs.python.org/3/library/enum.html 8.13. \n",
      "8 https://docs.python.org/3/library/numeric.html 9. Numeric and Mathematical Modules\n",
      "     0 https://docs.python.org/3/library/numbers.html 9.1. \n",
      "     1 https://docs.python.org/3/library/math.html 9.2. \n",
      "     2 https://docs.python.org/3/library/cmath.html 9.3. \n",
      "     3 https://docs.python.org/3/library/decimal.html 9.4. \n",
      "     4 https://docs.python.org/3/library/fractions.html 9.5. \n",
      "     5 https://docs.python.org/3/library/random.html 9.6. \n",
      "     6 https://docs.python.org/3/library/statistics.html 9.7. \n",
      "9 https://docs.python.org/3/library/functional.html 10. Functional Programming Modules\n",
      "     0 https://docs.python.org/3/library/itertools.html 10.1. \n",
      "     1 https://docs.python.org/3/library/functools.html 10.2. \n",
      "     2 https://docs.python.org/3/library/operator.html 10.3. \n",
      "10 https://docs.python.org/3/library/filesys.html 11. File and Directory Access\n",
      "     0 https://docs.python.org/3/library/pathlib.html 11.1. \n",
      "     1 https://docs.python.org/3/library/os.path.html 11.2. \n",
      "     2 https://docs.python.org/3/library/fileinput.html 11.3. \n",
      "     3 https://docs.python.org/3/library/stat.html 11.4. \n",
      "     4 https://docs.python.org/3/library/filecmp.html 11.5. \n",
      "     5 https://docs.python.org/3/library/tempfile.html 11.6. \n",
      "     6 https://docs.python.org/3/library/glob.html 11.7. \n",
      "     7 https://docs.python.org/3/library/fnmatch.html 11.8. \n",
      "     8 https://docs.python.org/3/library/linecache.html 11.9. \n",
      "     9 https://docs.python.org/3/library/shutil.html 11.10. \n",
      "     10 https://docs.python.org/3/library/macpath.html 11.11. \n",
      "11 https://docs.python.org/3/library/persistence.html 12. Data Persistence\n",
      "     0 https://docs.python.org/3/library/pickle.html 12.1. \n",
      "     1 https://docs.python.org/3/library/copyreg.html 12.2. \n",
      "     2 https://docs.python.org/3/library/shelve.html 12.3. \n",
      "     3 https://docs.python.org/3/library/marshal.html 12.4. \n",
      "     4 https://docs.python.org/3/library/dbm.html 12.5. \n",
      "     5 https://docs.python.org/3/library/sqlite3.html 12.6. \n",
      "12 https://docs.python.org/3/library/archiving.html 13. Data Compression and Archiving\n",
      "     0 https://docs.python.org/3/library/zlib.html 13.1. \n",
      "     1 https://docs.python.org/3/library/gzip.html 13.2. \n",
      "     2 https://docs.python.org/3/library/bz2.html 13.3. \n",
      "     3 https://docs.python.org/3/library/lzma.html 13.4. \n",
      "     4 https://docs.python.org/3/library/zipfile.html 13.5. \n",
      "     5 https://docs.python.org/3/library/tarfile.html 13.6. \n",
      "13 https://docs.python.org/3/library/fileformats.html 14. File Formats\n",
      "     0 https://docs.python.org/3/library/csv.html 14.1. \n",
      "     1 https://docs.python.org/3/library/configparser.html 14.2. \n",
      "     2 https://docs.python.org/3/library/netrc.html 14.3. \n",
      "     3 https://docs.python.org/3/library/xdrlib.html 14.4. \n",
      "     4 https://docs.python.org/3/library/plistlib.html 14.5. \n",
      "14 https://docs.python.org/3/library/crypto.html 15. Cryptographic Services\n",
      "     0 https://docs.python.org/3/library/hashlib.html 15.1. \n",
      "     1 https://docs.python.org/3/library/hmac.html 15.2. \n",
      "     2 https://docs.python.org/3/library/secrets.html 15.3. \n",
      "15 https://docs.python.org/3/library/allos.html 16. Generic Operating System Services\n",
      "     0 https://docs.python.org/3/library/os.html 16.1. \n",
      "     1 https://docs.python.org/3/library/io.html 16.2. \n",
      "     2 https://docs.python.org/3/library/time.html 16.3. \n",
      "     3 https://docs.python.org/3/library/argparse.html 16.4. \n",
      "     4 https://docs.python.org/3/library/getopt.html 16.5. \n",
      "     5 https://docs.python.org/3/library/logging.html 16.6. \n",
      "     6 https://docs.python.org/3/library/logging.config.html 16.7. \n",
      "     7 https://docs.python.org/3/library/logging.handlers.html 16.8. \n",
      "     8 https://docs.python.org/3/library/getpass.html 16.9. \n",
      "     9 https://docs.python.org/3/library/curses.html 16.10. \n",
      "     10 https://docs.python.org/3/library/curses.html#module-curses.textpad 16.11. \n",
      "     11 https://docs.python.org/3/library/curses.ascii.html 16.12. \n",
      "     12 https://docs.python.org/3/library/curses.panel.html 16.13. \n",
      "     13 https://docs.python.org/3/library/platform.html 16.14. \n",
      "     14 https://docs.python.org/3/library/errno.html 16.15. \n",
      "     15 https://docs.python.org/3/library/ctypes.html 16.16. \n",
      "16 https://docs.python.org/3/library/concurrency.html 17. Concurrent Execution\n",
      "     0 https://docs.python.org/3/library/threading.html 17.1. \n",
      "     1 https://docs.python.org/3/library/multiprocessing.html 17.2. \n",
      "     2 https://docs.python.org/3/library/concurrent.html 17.3. The \n",
      "     3 https://docs.python.org/3/library/concurrent.futures.html 17.4. \n",
      "     4 https://docs.python.org/3/library/subprocess.html 17.5. \n",
      "     5 https://docs.python.org/3/library/sched.html 17.6. \n",
      "     6 https://docs.python.org/3/library/queue.html 17.7. \n",
      "     7 https://docs.python.org/3/library/dummy_threading.html 17.8. \n",
      "     8 https://docs.python.org/3/library/_thread.html 17.9. \n",
      "     9 https://docs.python.org/3/library/_dummy_thread.html 17.10. \n",
      "17 https://docs.python.org/3/library/ipc.html 18. Interprocess Communication and Networking\n",
      "     0 https://docs.python.org/3/library/socket.html 18.1. \n",
      "     1 https://docs.python.org/3/library/ssl.html 18.2. \n",
      "     2 https://docs.python.org/3/library/select.html 18.3. \n",
      "     3 https://docs.python.org/3/library/selectors.html 18.4. \n",
      "     4 https://docs.python.org/3/library/asyncio.html 18.5. \n",
      "     5 https://docs.python.org/3/library/asyncore.html 18.6. \n",
      "     6 https://docs.python.org/3/library/asynchat.html 18.7. \n",
      "     7 https://docs.python.org/3/library/signal.html 18.8. \n",
      "     8 https://docs.python.org/3/library/mmap.html 18.9. \n",
      "18 https://docs.python.org/3/library/netdata.html 19. Internet Data Handling\n",
      "     0 https://docs.python.org/3/library/email.html 19.1. \n",
      "     1 https://docs.python.org/3/library/json.html 19.2. \n",
      "     2 https://docs.python.org/3/library/mailcap.html 19.3. \n",
      "     3 https://docs.python.org/3/library/mailbox.html 19.4. \n",
      "     4 https://docs.python.org/3/library/mimetypes.html 19.5. \n",
      "     5 https://docs.python.org/3/library/base64.html 19.6. \n",
      "     6 https://docs.python.org/3/library/binhex.html 19.7. \n",
      "     7 https://docs.python.org/3/library/binascii.html 19.8. \n",
      "     8 https://docs.python.org/3/library/quopri.html 19.9. \n",
      "     9 https://docs.python.org/3/library/uu.html 19.10. \n",
      "19 https://docs.python.org/3/library/markup.html 20. Structured Markup Processing Tools\n",
      "     0 https://docs.python.org/3/library/html.html 20.1. \n",
      "     1 https://docs.python.org/3/library/html.parser.html 20.2. \n",
      "     2 https://docs.python.org/3/library/html.entities.html 20.3. \n",
      "     3 https://docs.python.org/3/library/xml.html 20.4. XML Processing Modules\n",
      "     4 https://docs.python.org/3/library/xml.etree.elementtree.html 20.5. \n",
      "     5 https://docs.python.org/3/library/xml.dom.html 20.6. \n",
      "     6 https://docs.python.org/3/library/xml.dom.minidom.html 20.7. \n",
      "     7 https://docs.python.org/3/library/xml.dom.pulldom.html 20.8. \n",
      "     8 https://docs.python.org/3/library/xml.sax.html 20.9. \n",
      "     9 https://docs.python.org/3/library/xml.sax.handler.html 20.10. \n",
      "     10 https://docs.python.org/3/library/xml.sax.utils.html 20.11. \n",
      "     11 https://docs.python.org/3/library/xml.sax.reader.html 20.12. \n",
      "     12 https://docs.python.org/3/library/pyexpat.html 20.13. \n",
      "20 https://docs.python.org/3/library/internet.html 21. Internet Protocols and Support\n",
      "     0 https://docs.python.org/3/library/webbrowser.html 21.1. \n",
      "     1 https://docs.python.org/3/library/cgi.html 21.2. \n",
      "     2 https://docs.python.org/3/library/cgitb.html 21.3. \n",
      "     3 https://docs.python.org/3/library/wsgiref.html 21.4. \n",
      "     4 https://docs.python.org/3/library/urllib.html 21.5. \n",
      "     5 https://docs.python.org/3/library/urllib.request.html 21.6. \n",
      "     6 https://docs.python.org/3/library/urllib.request.html#module-urllib.response 21.7. \n",
      "     7 https://docs.python.org/3/library/urllib.parse.html 21.8. \n",
      "     8 https://docs.python.org/3/library/urllib.error.html 21.9. \n",
      "     9 https://docs.python.org/3/library/urllib.robotparser.html 21.10. \n",
      "     10 https://docs.python.org/3/library/http.html 21.11. \n",
      "     11 https://docs.python.org/3/library/http.client.html 21.12. \n",
      "     12 https://docs.python.org/3/library/ftplib.html 21.13. \n",
      "     13 https://docs.python.org/3/library/poplib.html 21.14. \n",
      "     14 https://docs.python.org/3/library/imaplib.html 21.15. \n",
      "     15 https://docs.python.org/3/library/nntplib.html 21.16. \n",
      "     16 https://docs.python.org/3/library/smtplib.html 21.17. \n",
      "     17 https://docs.python.org/3/library/smtpd.html 21.18. \n",
      "     18 https://docs.python.org/3/library/telnetlib.html 21.19. \n",
      "     19 https://docs.python.org/3/library/uuid.html 21.20. \n",
      "     20 https://docs.python.org/3/library/socketserver.html 21.21. \n",
      "     21 https://docs.python.org/3/library/http.server.html 21.22. \n",
      "     22 https://docs.python.org/3/library/http.cookies.html 21.23. \n",
      "     23 https://docs.python.org/3/library/http.cookiejar.html 21.24. \n",
      "     24 https://docs.python.org/3/library/xmlrpc.html 21.25. \n",
      "     25 https://docs.python.org/3/library/xmlrpc.client.html 21.26. \n",
      "     26 https://docs.python.org/3/library/xmlrpc.server.html 21.27. \n",
      "     27 https://docs.python.org/3/library/ipaddress.html 21.28. \n",
      "21 https://docs.python.org/3/library/mm.html 22. Multimedia Services\n",
      "     0 https://docs.python.org/3/library/audioop.html 22.1. \n",
      "     1 https://docs.python.org/3/library/aifc.html 22.2. \n",
      "     2 https://docs.python.org/3/library/sunau.html 22.3. \n",
      "     3 https://docs.python.org/3/library/wave.html 22.4. \n",
      "     4 https://docs.python.org/3/library/chunk.html 22.5. \n",
      "     5 https://docs.python.org/3/library/colorsys.html 22.6. \n",
      "     6 https://docs.python.org/3/library/imghdr.html 22.7. \n",
      "     7 https://docs.python.org/3/library/sndhdr.html 22.8. \n",
      "     8 https://docs.python.org/3/library/ossaudiodev.html 22.9. \n",
      "22 https://docs.python.org/3/library/i18n.html 23. Internationalization\n",
      "     0 https://docs.python.org/3/library/gettext.html 23.1. \n",
      "     1 https://docs.python.org/3/library/locale.html 23.2. \n",
      "23 https://docs.python.org/3/library/frameworks.html 24. Program Frameworks\n",
      "     0 https://docs.python.org/3/library/turtle.html 24.1. \n",
      "     1 https://docs.python.org/3/library/cmd.html 24.2. \n",
      "     2 https://docs.python.org/3/library/shlex.html 24.3. \n",
      "24 https://docs.python.org/3/library/tk.html 25. Graphical User Interfaces with Tk\n",
      "     0 https://docs.python.org/3/library/tkinter.html 25.1. \n",
      "     1 https://docs.python.org/3/library/tkinter.ttk.html 25.2. \n",
      "     2 https://docs.python.org/3/library/tkinter.tix.html 25.3. \n",
      "     3 https://docs.python.org/3/library/tkinter.scrolledtext.html 25.4. \n",
      "     4 https://docs.python.org/3/library/idle.html 25.5. IDLE\n",
      "     5 https://docs.python.org/3/library/othergui.html 25.6. Other Graphical User Interface Packages\n",
      "25 https://docs.python.org/3/library/development.html 26. Development Tools\n",
      "     0 https://docs.python.org/3/library/typing.html 26.1. \n",
      "     1 https://docs.python.org/3/library/pydoc.html 26.2. \n",
      "     2 https://docs.python.org/3/library/doctest.html 26.3. \n",
      "     3 https://docs.python.org/3/library/unittest.html 26.4. \n",
      "     4 https://docs.python.org/3/library/unittest.mock.html 26.5. \n",
      "     5 https://docs.python.org/3/library/unittest.mock-examples.html 26.6. \n",
      "     6 https://docs.python.org/3/library/2to3.html 26.7. 2to3 - Automated Python 2 to 3 code translation\n",
      "     7 https://docs.python.org/3/library/test.html 26.8. \n",
      "     8 https://docs.python.org/3/library/test.html#module-test.support 26.9. \n",
      "26 https://docs.python.org/3/library/debug.html 27. Debugging and Profiling\n",
      "     0 https://docs.python.org/3/library/bdb.html 27.1. \n",
      "     1 https://docs.python.org/3/library/faulthandler.html 27.2. \n",
      "     2 https://docs.python.org/3/library/pdb.html 27.3. \n",
      "     3 https://docs.python.org/3/library/profile.html 27.4. The Python Profilers\n",
      "     4 https://docs.python.org/3/library/timeit.html 27.5. \n",
      "     5 https://docs.python.org/3/library/trace.html 27.6. \n",
      "     6 https://docs.python.org/3/library/tracemalloc.html 27.7. \n",
      "27 https://docs.python.org/3/library/distribution.html 28. Software Packaging and Distribution\n",
      "     0 https://docs.python.org/3/library/distutils.html 28.1. \n",
      "     1 https://docs.python.org/3/library/ensurepip.html 28.2. \n",
      "     2 https://docs.python.org/3/library/venv.html 28.3. \n",
      "     3 https://docs.python.org/3/library/zipapp.html 28.4. \n",
      "28 https://docs.python.org/3/library/python.html 29. Python Runtime Services\n",
      "     0 https://docs.python.org/3/library/sys.html 29.1. \n",
      "     1 https://docs.python.org/3/library/sysconfig.html 29.2. \n",
      "     2 https://docs.python.org/3/library/builtins.html 29.3. \n",
      "     3 https://docs.python.org/3/library/__main__.html 29.4. \n",
      "     4 https://docs.python.org/3/library/warnings.html 29.5. \n",
      "     5 https://docs.python.org/3/library/contextlib.html 29.6. \n",
      "     6 https://docs.python.org/3/library/abc.html 29.7. \n",
      "     7 https://docs.python.org/3/library/atexit.html 29.8. \n",
      "     8 https://docs.python.org/3/library/traceback.html 29.9. \n",
      "     9 https://docs.python.org/3/library/__future__.html 29.10. \n",
      "     10 https://docs.python.org/3/library/gc.html 29.11. \n",
      "     11 https://docs.python.org/3/library/inspect.html 29.12. \n",
      "     12 https://docs.python.org/3/library/site.html 29.13. \n",
      "     13 https://docs.python.org/3/library/fpectl.html 29.14. \n",
      "29 https://docs.python.org/3/library/custominterp.html 30. Custom Python Interpreters\n",
      "     0 https://docs.python.org/3/library/code.html 30.1. \n",
      "     1 https://docs.python.org/3/library/codeop.html 30.2. \n",
      "30 https://docs.python.org/3/library/modules.html 31. Importing Modules\n",
      "     0 https://docs.python.org/3/library/zipimport.html 31.1. \n",
      "     1 https://docs.python.org/3/library/pkgutil.html 31.2. \n",
      "     2 https://docs.python.org/3/library/modulefinder.html 31.3. \n",
      "     3 https://docs.python.org/3/library/runpy.html 31.4. \n",
      "     4 https://docs.python.org/3/library/importlib.html 31.5. \n",
      "31 https://docs.python.org/3/library/language.html 32. Python Language Services\n",
      "     0 https://docs.python.org/3/library/parser.html 32.1. \n",
      "     1 https://docs.python.org/3/library/ast.html 32.2. \n",
      "     2 https://docs.python.org/3/library/symtable.html 32.3. \n",
      "     3 https://docs.python.org/3/library/symbol.html 32.4. \n",
      "     4 https://docs.python.org/3/library/token.html 32.5. \n",
      "     5 https://docs.python.org/3/library/keyword.html 32.6. \n",
      "     6 https://docs.python.org/3/library/tokenize.html 32.7. \n",
      "     7 https://docs.python.org/3/library/tabnanny.html 32.8. \n",
      "     8 https://docs.python.org/3/library/pyclbr.html 32.9. \n",
      "     9 https://docs.python.org/3/library/py_compile.html 32.10. \n",
      "     10 https://docs.python.org/3/library/compileall.html 32.11. \n",
      "     11 https://docs.python.org/3/library/dis.html 32.12. \n",
      "     12 https://docs.python.org/3/library/pickletools.html 32.13. \n",
      "32 https://docs.python.org/3/library/misc.html 33. Miscellaneous Services\n",
      "     0 https://docs.python.org/3/library/formatter.html 33.1. \n",
      "33 https://docs.python.org/3/library/windows.html 34. MS Windows Specific Services\n",
      "     0 https://docs.python.org/3/library/msilib.html 34.1. \n",
      "     1 https://docs.python.org/3/library/msvcrt.html 34.2. \n",
      "     2 https://docs.python.org/3/library/winreg.html 34.3. \n",
      "     3 https://docs.python.org/3/library/winsound.html 34.4. \n",
      "34 https://docs.python.org/3/library/unix.html 35. Unix Specific Services\n",
      "     0 https://docs.python.org/3/library/posix.html 35.1. \n",
      "     1 https://docs.python.org/3/library/pwd.html 35.2. \n",
      "     2 https://docs.python.org/3/library/spwd.html 35.3. \n",
      "     3 https://docs.python.org/3/library/grp.html 35.4. \n",
      "     4 https://docs.python.org/3/library/crypt.html 35.5. \n",
      "     5 https://docs.python.org/3/library/termios.html 35.6. \n",
      "     6 https://docs.python.org/3/library/tty.html 35.7. \n",
      "     7 https://docs.python.org/3/library/pty.html 35.8. \n",
      "     8 https://docs.python.org/3/library/fcntl.html 35.9. \n",
      "     9 https://docs.python.org/3/library/pipes.html 35.10. \n",
      "     10 https://docs.python.org/3/library/resource.html 35.11. \n",
      "     11 https://docs.python.org/3/library/nis.html 35.12. \n",
      "     12 https://docs.python.org/3/library/syslog.html 35.13. \n",
      "35 https://docs.python.org/3/library/superseded.html 36. Superseded Modules\n",
      "     0 https://docs.python.org/3/library/optparse.html 36.1. \n",
      "     1 https://docs.python.org/3/library/imp.html 36.2. \n",
      "36 https://docs.python.org/3/library/undoc.html 37. Undocumented Modules\n",
      "     0 https://docs.python.org/3/library/undoc.html#platform-specific-modules 37.1. Platform specific modules\n"
     ]
    }
   ],
   "source": [
    "for i, l1 in enumerate(li):\n",
    "    a = l1.find_next(\"a\")\n",
    "    print(i, join(dirname(root),a.attrs['href']), a.contents[0])\n",
    "    \n",
    "    for j, l2 in enumerate(l1.find_all(\"li\", class_='toctree-l2')):\n",
    "        a2 = l2.find_next(\"a\")\n",
    "        print(\"    \", j, join(dirname(root),a2.attrs['href']), a2.contents[0])\n",
    "  "
   ]
  },
  {
   "cell_type": "code",
   "execution_count": 33,
   "metadata": {},
   "outputs": [
    {
     "data": {
      "text/plain": [
       "'37. Undocumented Modules'"
      ]
     },
     "execution_count": 33,
     "metadata": {},
     "output_type": "execute_result"
    }
   ],
   "source": []
  },
  {
   "cell_type": "markdown",
   "metadata": {},
   "source": []
  }
 ],
 "metadata": {
  "kernelspec": {
   "display_name": "Python 3",
   "language": "python",
   "name": "python3"
  },
  "language_info": {
   "codemirror_mode": {
    "name": "ipython",
    "version": 3
   },
   "file_extension": ".py",
   "mimetype": "text/x-python",
   "name": "python",
   "nbconvert_exporter": "python",
   "pygments_lexer": "ipython3",
   "version": "3.6.2"
  },
  "toc": {
   "colors": {
    "hover_highlight": "#DAA520",
    "navigate_num": "#000000",
    "navigate_text": "#333333",
    "running_highlight": "#FF0000",
    "selected_highlight": "#FFD700",
    "sidebar_border": "#EEEEEE",
    "wrapper_background": "#FFFFFF"
   },
   "moveMenuLeft": true,
   "nav_menu": {
    "height": "12px",
    "width": "252px"
   },
   "navigate_menu": true,
   "number_sections": true,
   "sideBar": true,
   "threshold": 4,
   "toc_cell": false,
   "toc_section_display": "block",
   "toc_window_display": true,
   "widenNotebook": false
  }
 },
 "nbformat": 4,
 "nbformat_minor": 2
}
