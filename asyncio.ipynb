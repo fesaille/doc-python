{
 "cells": [
  {
   "cell_type": "markdown",
   "metadata": {},
   "source": [
    "## Objects\n",
    "\n",
    "Awaitable objects - [`Coroutines`](#coroutines), [ `Tasks` ](#tasks-and-futures), and [ `Futures` ](#tasks-and-futures) - can be used in an await expression."
   ]
  },
  {
   "cell_type": "markdown",
   "metadata": {},
   "source": [
    "### Coroutines\n",
    "\n",
    "> Computer program components that generalize subroutines for\n",
    "> non-preemptive multitasking, by allowing execution to be suspended and\n",
    "> resumed (*Wikipedia*)\n",
    "\n",
    "\n",
    "??? abstract \"Coroutines vs threads\"\n",
    "\n",
    "    Coroutines are very similar to threads. However, coroutines are\n",
    "    cooperatively multitasked, whereas threads are typically preemptively\n",
    "    multitasked. This means that coroutines provide concurrency but not\n",
    "    parallelism. [...] There is no need for synchronisation primitives such as\n",
    "    mutexes, semaphores, etc. in order to guard critical sections, and there is\n",
    "    no need for support from the operating system.\n",
    "\n",
    "    Source: Wikipedia\n",
    "\n",
    "Python [`Coroutines`](https://docs.python.org/3/library/asyncio-task.html#coroutines) run in an [event loop](https://docs.python.org/3/library/asyncio-task.html#coroutines). Coroutines are a backbone of asyncio and third party async frameworks like [Curio](https://github.com/dabeaz/curio) or [trio](https://github.com/python-trio/trio)"
   ]
  },
  {
   "cell_type": "markdown",
   "metadata": {},
   "source": [
    "### Tasks (and Futures)\n",
    "\n",
    " `Futures` represent a placeholder for an action that return a result (or not).\n",
    " `Tasks` are a subclass of\n",
    " [`Futures`](https://docs.python.org/3/library/asyncio-future.html).\n",
    "\n",
    "`Tasks` wraps `Coroutines` and are used to schedule coroutines concurrently.\n",
    "They are created with `asyncio.create_task()` or by wrapping a `Future` object\n",
    "with `asyncio.ensure_future()`\n",
    "\n",
    "!!! danger\n",
    "\n",
    "     Future doesn't necessarily wrap a coroutine.\n",
    "     \n",
    "     e.g.: [`loop.create_future()`](https://docs.python.org/3/library/asyncio-eventloop.html#asyncio.loop.create_future)\n",
    "     creates a Future, [`future.set_result(result)`](https://docs.python.org/3/library/asyncio-future.html#asyncio.Future.set_result) sets its results. Such\n",
    "     a future can be awaited by a coroutine, or even run using\n",
    "     [`loop.run_until_complete(future)`](https://docs.python.org/3/library/asyncio-eventloop.html#asyncio.loop.run_until_complete), but there is no coroutine behind it. \n",
    "\n",
    "     Source: [http://disq.us/p/1r7l8th](http://disq.us/p/1r7l8th)\n",
    "\n",
    "Event loops use cooperative scheduling: an event loop runs one Task at a time. If a coroutine awaits on a Future, the Task suspends the execution of the\n",
    "coroutine and waits for the completion of the Future, the event loop runs\n",
    "meanwhile other Tasks, callbacks, or performs IO operations. When the Future is\n",
    "done, the execution of the wrapped coroutine resumes.\n",
    "\n",
    "Both are not thread-safe."
   ]
  },
  {
   "cell_type": "markdown",
   "metadata": {},
   "source": [
    "## Execution"
   ]
  },
  {
   "cell_type": "markdown",
   "metadata": {},
   "source": [
    "### Event loop"
   ]
  },
  {
   "cell_type": "code",
   "execution_count": null,
   "metadata": {},
   "outputs": [],
   "source": []
  }
 ],
 "metadata": {
  "kernelspec": {
   "display_name": "Python 3",
   "language": "python",
   "name": "python3"
  },
  "language_info": {
   "codemirror_mode": {
    "name": "ipython",
    "version": 3
   },
   "file_extension": ".py",
   "mimetype": "text/x-python",
   "name": "python",
   "nbconvert_exporter": "python",
   "pygments_lexer": "ipython3",
   "version": "3.9.0"
  }
 },
 "nbformat": 4,
 "nbformat_minor": 4
}
