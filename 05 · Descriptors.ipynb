{
 "cells": [
  {
   "cell_type": "code",
   "execution_count": 4,
   "metadata": {},
   "outputs": [
    {
     "name": "stdout",
     "output_type": "stream",
     "text": [
      "The autoreload extension is already loaded. To reload it, use:\n",
      "  %reload_ext autoreload\n",
      "last updated: 2020-02-15 \n",
      "\n",
      "compiler   : GCC 7.3.0\n",
      "system     : Linux\n",
      "release    : 5.3.0-29-generic\n",
      "machine    : x86_64\n",
      "processor  : x86_64\n",
      "CPU cores  : 8\n",
      "interpreter: 64bit\n"
     ]
    }
   ],
   "source": [
    "%load_ext autoreload\n",
    "%load_ext watermark\n",
    "%autoreload 2\n",
    "\n",
    "# from asampy import cdf\n",
    "%watermark -mdu"
   ]
  },
  {
   "cell_type": "markdown",
   "metadata": {},
   "source": [
    "[Documentation](https://docs.python.org/3/reference/datamodel.html#invoking-descriptors)  \n",
    "[How-to](https://docs.python.org/3.7/howto/descriptor.html) from Raymond Hettinger\n",
    "\n",
    "In general, a descriptor is an object attribute with “binding behavior”, one whose attribute access has been overridden by methods in the descriptor protocol. Those methods are `__get__()`, `__set__()`, and `__delete__()`. If any of those methods are defined for an object, it is said to be a descriptor."
   ]
  },
  {
   "cell_type": "markdown",
   "metadata": {},
   "source": [
    "# Descriptors"
   ]
  },
  {
   "cell_type": "code",
   "execution_count": 7,
   "metadata": {},
   "outputs": [
    {
     "name": "stdout",
     "output_type": "stream",
     "text": [
      "Retrieving var \"x\"\n",
      "Updating var \"x\"\n",
      "Retrieving var \"x\"\n"
     ]
    },
    {
     "data": {
      "text/plain": [
       "5"
      ]
     },
     "execution_count": 7,
     "metadata": {},
     "output_type": "execute_result"
    }
   ],
   "source": [
    "# Example from how-to:\n",
    "\n",
    "class RevealAccess(object):\n",
    "    \"\"\"A data descriptor that sets and returns values\n",
    "       normally and prints a message logging their access.\n",
    "    \"\"\"\n",
    "\n",
    "    def __init__(self, initval=None, name='var'):\n",
    "        self.val = initval\n",
    "        self.name = name\n",
    "\n",
    "    def __get__(self, obj, objtype):\n",
    "        print('Retrieving', self.name)\n",
    "        return self.val\n",
    "\n",
    "    def __set__(self, obj, val):\n",
    "        print('Updating', self.name)\n",
    "        self.val = val\n",
    "\n",
    "class MyClass(object):\n",
    "    x = RevealAccess(10, 'var \"x\"')\n",
    "    y = 5\n",
    "\n",
    "m = MyClass()\n",
    "m.x\n",
    "m.x = 20\n",
    "m.x\n",
    "m.y"
   ]
  },
  {
   "cell_type": "code",
   "execution_count": 12,
   "metadata": {},
   "outputs": [
    {
     "name": "stdout",
     "output_type": "stream",
     "text": [
      "6 not in range [4;5]\n"
     ]
    }
   ],
   "source": [
    "class Trait:\n",
    "    def __init__(self, minimum, maximum):\n",
    "        self.minimum = minimum\n",
    "        self.maximum = maximum\n",
    "\n",
    "    def __get__(self, instance, owner):\n",
    "        return instance.__dict__[self.key]\n",
    "\n",
    "    def __set__(self, instance, value):\n",
    "        if self.minimum < value < self.maximum:\n",
    "            instance.__dict__[self.key] = value\n",
    "        else:\n",
    "            raise ValueError(f\"{value} not in range [{self.minimum};{self.maximum}]\")\n",
    "\n",
    "    def __set_name__(self, owner, name):\n",
    "        self.key = name\n",
    "        \n",
    "class ValidatedContainer:\n",
    "    att01 = Trait(0, 10)\n",
    "    att02 = Trait(4, 5)\n",
    "    \n",
    "    \n",
    "# \n",
    "c = ValidatedContainer()\n",
    "c.att01 = 4\n",
    "try:\n",
    "    c.att02 = 6\n",
    "except ValueError as e:\n",
    "    print(e)"
   ]
  },
  {
   "cell_type": "markdown",
   "metadata": {},
   "source": [
    "## Example (from D. Beazley cookbook, 8-12)"
   ]
  },
  {
   "cell_type": "code",
   "execution_count": 6,
   "metadata": {},
   "outputs": [],
   "source": [
    "# %load https://github.com/dabeaz/python-cookbook/blob/master/src/8/implementing_a_data_model_or_type_system/example_clsdec.py?raw=True\n",
    "\n",
    "# Base class. Uses a descriptor to set a value\n",
    "class Descriptor:\n",
    "    def __init__(self, name=None, **opts):\n",
    "        self.name = name\n",
    "        self.__dict__.update(opts)\n",
    "\n",
    "    def __set__(self, instance, value):\n",
    "        instance.__dict__[self.name] = value\n",
    "\n",
    "# Types definition:\n",
    "def Typed(expected_type, cls=None):\n",
    "    if cls is None:\n",
    "        return lambda cls: Typed(expected_type, cls)\n",
    "\n",
    "    super_set = cls.__set__\n",
    "    def __set__(self, instance, value):\n",
    "        if not isinstance(value, expected_type):\n",
    "            raise TypeError('expected ' + str(expected_type))\n",
    "        super_set(self, instance, value)\n",
    "    cls.__set__ = __set__\n",
    "    return cls\n",
    "\n",
    "def Unsigned(cls):\n",
    "    super_set = cls.__set__\n",
    "    def __set__(self, instance, value):\n",
    "        if value < 0:\n",
    "            raise ValueError('Expected >= 0')\n",
    "        super_set(self, instance, value)\n",
    "    cls.__set__ = __set__\n",
    "    return cls\n",
    "\n",
    "def MaxSized(cls):\n",
    "    super_init = cls.__init__\n",
    "    def __init__(self, name=None, **opts):\n",
    "        if 'size' not in opts:\n",
    "            raise TypeError('missing size option')\n",
    "        self.size = opts['size']\n",
    "        super_init(self, name, **opts)\n",
    "    cls.__init__ = __init__\n",
    "\n",
    "    super_set = cls.__set__\n",
    "    def __set__(self, instance, value):\n",
    "        if len(value) >= self.size:\n",
    "            raise ValueError('size must be < ' + str(self.size))\n",
    "        super_set(self, instance, value)\n",
    "    cls.__set__ = __set__\n",
    "    return cls"
   ]
  },
  {
   "cell_type": "code",
   "execution_count": 116,
   "metadata": {},
   "outputs": [],
   "source": [
    "@Typed(int)\n",
    "class Integer(Descriptor):\n",
    "    pass\n",
    "\n",
    "@Unsigned\n",
    "class UnsignedInteger(Integer):\n",
    "    pass\n",
    "\n",
    "@Typed(float)\n",
    "class Float(Descriptor):\n",
    "    pass\n",
    "\n",
    "@Unsigned\n",
    "class UnsignedFloat(Float):\n",
    "    pass\n",
    "\n",
    "@Typed(str)\n",
    "class String(Descriptor):\n",
    "    pass\n",
    "\n",
    "@MaxSized\n",
    "class SizedString(String):\n",
    "    pass"
   ]
  },
  {
   "cell_type": "code",
   "execution_count": 117,
   "metadata": {},
   "outputs": [
    {
     "data": {
      "text/plain": [
       "<__main__.Float at 0x31332d0f0>"
      ]
     },
     "execution_count": 117,
     "metadata": {},
     "output_type": "execute_result"
    }
   ],
   "source": [
    "Float(1.2)"
   ]
  },
  {
   "cell_type": "code",
   "execution_count": 35,
   "metadata": {},
   "outputs": [],
   "source": [
    "# Testing code\n",
    "def test(s):\n",
    "    print(s.name)\n",
    "    s.shares = 75\n",
    "    print(s.shares)\n",
    "    try:\n",
    "        s.shares = -10\n",
    "    except ValueError as e:\n",
    "        print(e)\n",
    "        \n",
    "    try:\n",
    "        s.price = 'a lot'\n",
    "    except TypeError as e:\n",
    "        print(e)\n",
    "\n",
    "    try:\n",
    "        s.name = 'ABRACADABRA'\n",
    "    except ValueError as e:\n",
    "        print(e)"
   ]
  },
  {
   "cell_type": "markdown",
   "metadata": {},
   "source": [
    "### Test with descriptor"
   ]
  },
  {
   "cell_type": "code",
   "execution_count": 32,
   "metadata": {},
   "outputs": [],
   "source": [
    "print(\"# --- Class with descriptors\")\n",
    "class Stock:\n",
    "    # Specify constraints\n",
    "    name = SizedString('name', size=8)\n",
    "    shares = UnsignedInteger('shares')\n",
    "    price = UnsignedFloat('price')\n",
    "    def __init__(self, name, shares, price):\n",
    "        self.name = name\n",
    "        self.shares = shares\n",
    "        self.price = price\n",
    "\n",
    "s = Stock('ACME',50,91.1)\n",
    "test(s)"
   ]
  },
  {
   "cell_type": "markdown",
   "metadata": {},
   "source": [
    "### Test with class decorator"
   ]
  },
  {
   "cell_type": "code",
   "execution_count": 32,
   "metadata": {},
   "outputs": [],
   "source": [
    "# Class decorator to apply constraints\n",
    "def check_attributes(**kwargs):\n",
    "    def decorate(cls):\n",
    "        for key, value in kwargs.items():\n",
    "            if isinstance(value, Descriptor):\n",
    "                value.name = key\n",
    "                setattr(cls, key, value)\n",
    "            else:\n",
    "                setattr(cls, key, value(key))\n",
    "        return cls\n",
    "    return decorate\n",
    "\n",
    "@check_attributes(name=SizedString(size=8), \n",
    "                  shares=UnsignedInteger,\n",
    "                  price=UnsignedFloat)\n",
    "class Stock:\n",
    "    def __init__(self, name, shares, price):\n",
    "        self.name = name\n",
    "        self.shares = shares\n",
    "        self.price = price\n",
    "\n",
    "s = Stock('ACME',50,91.1)\n",
    "test(s)"
   ]
  },
  {
   "cell_type": "markdown",
   "metadata": {},
   "source": [
    "### Test with metaclass"
   ]
  },
  {
   "cell_type": "code",
   "execution_count": 71,
   "metadata": {},
   "outputs": [
    {
     "name": "stdout",
     "output_type": "stream",
     "text": [
      "ACAZE\n",
      "75\n",
      "Expected >= 0\n",
      "'<' not supported between instances of 'str' and 'int'\n",
      "size must be < 8\n"
     ]
    }
   ],
   "source": [
    "# A metaclass that applies checking\n",
    "class checkedmeta(type):\n",
    "    def __new__(cls, clsname, bases, methods):\n",
    "        # Attach attribute names to the descriptors\n",
    "        for key, value in methods.items():\n",
    "            if isinstance(value, Descriptor):\n",
    "                value.name = key\n",
    "        return type.__new__(cls, clsname, bases, methods)\n",
    "\n",
    "\n",
    "class Stock(metaclass=checkedmeta):\n",
    "    name   = SizedString(size=8)\n",
    "    shares = UnsignedInteger()\n",
    "    price  = UnsignedFloat()\n",
    "    def __init__(self, name, shares, price):\n",
    "        self.name = name\n",
    "        self.shares = shares\n",
    "        self.price = price\n",
    "\n",
    "s = Stock('ACAZE', 5, 91.1)\n",
    "test(s)"
   ]
  },
  {
   "cell_type": "markdown",
   "metadata": {},
   "source": [
    "## Usage in a custom container"
   ]
  },
  {
   "cell_type": "code",
   "execution_count": 1,
   "metadata": {},
   "outputs": [],
   "source": [
    "import xml.etree.ElementTree as ET\n",
    "import requests\n",
    "from collections import Sequence\n",
    "from typing import Dict\n",
    "import re"
   ]
  },
  {
   "cell_type": "code",
   "execution_count": 2,
   "metadata": {},
   "outputs": [],
   "source": [
    "# Fetch some data from asam.net and work on a cdfx container \n",
    "url = \"https://www.asam.net/index.php?eID=dumpFile&t=f&f=203&token=0f5b670d38f303b5e18f13b7e58791b630bac3a4\"\n",
    "f = requests.get(url)\n",
    "cdfx = f.text"
   ]
  },
  {
   "cell_type": "code",
   "execution_count": 186,
   "metadata": {},
   "outputs": [],
   "source": [
    "def minus2underscore(name):\n",
    "    s1 = re.sub('(.)([A-Z][a-z]+)', r'\\1_\\2', name)\n",
    "    return re.sub('([a-z0-9])([A-Z])', r'\\1_\\2', s1).lower().replace('-', \"_\")\n",
    "\n",
    "\n",
    "class SwSystem:\n",
    "    def __init__(self):\n",
    "        print(\"Ajout d'un élément\")\n",
    "\n",
    "\n",
    "# Types definition:\n",
    "def TypedContainer(expected_type, cls=None):\n",
    "    if cls is None:\n",
    "        return lambda cls: TypedContainer(expected_type, cls)\n",
    "\n",
    "    super_append = cls.append\n",
    "    def append(self, elt):\n",
    "        if not isinstance(elt, expected_type):\n",
    "            raise TypeError('expected ' + str(expected_type))\n",
    "        super_append(self, elt)\n",
    "    cls.append = append\n",
    "    return cls\n",
    "\n",
    "\n",
    "@TypedContainer(SwSystem)\n",
    "class SwSystems(Sequence):\n",
    "    def __init__(self):\n",
    "        self._items = []\n",
    "    def __getitem__(self, index):\n",
    "        return self._items[index]\n",
    "    def append(self, elt):\n",
    "        self._items.append(elt)\n",
    "    def __len__(self):\n",
    "        return len(self._items)\n",
    "\n",
    "    \n",
    "class MSRSW(metaclass=checkedmeta):\n",
    "    \"\"\"\n",
    "    <MSRSW> is the root element, which may contains a short name (<SHORT-NAME>)\n",
    "    and a category (<CATEGORY>). The category value indicates the standard and\n",
    "    version number, e.g. the value \"CDF20\" denotes ASAM CDF V2.0.\n",
    "    \"\"\"\n",
    "    short_name = String()\n",
    "    category = String()\n",
    "    sw_systems: Dict[str, SwSystem] = SwSystems()\n",
    "\n",
    "    def __init__(self, elt):\n",
    "        for node in elt:\n",
    "            if len(node) == 0:\n",
    "                setattr(self, minus2underscore(node.tag), node.text)\n",
    "        for swsystem in elt.iter(\"SW-SYSTEM\"):\n",
    "            self.sw_systems.append(SwSystem())"
   ]
  },
  {
   "cell_type": "code",
   "execution_count": 187,
   "metadata": {},
   "outputs": [
    {
     "name": "stdout",
     "output_type": "stream",
     "text": [
      "Ajout d'un élément\n"
     ]
    }
   ],
   "source": [
    "root = ET.fromstring(cdfx)\n",
    "msrsw = MSRSW(root)"
   ]
  },
  {
   "cell_type": "code",
   "execution_count": 178,
   "metadata": {},
   "outputs": [],
   "source": [
    "elt = msrsw.sw_systems[0]"
   ]
  },
  {
   "cell_type": "code",
   "execution_count": 4,
   "metadata": {},
   "outputs": [
    {
     "ename": "TypeError",
     "evalue": "non-default argument 'sw_axis_conts' follows default argument",
     "output_type": "error",
     "traceback": [
      "\u001b[0;31m---------------------------------------------------------------------------\u001b[0m",
      "\u001b[0;31mTypeError\u001b[0m                                 Traceback (most recent call last)",
      "\u001b[0;32m<ipython-input-4-529dcc34db6c>\u001b[0m in \u001b[0;36m<module>\u001b[0;34m()\u001b[0m\n\u001b[0;32m----> 1\u001b[0;31m \u001b[0;32mfrom\u001b[0m \u001b[0masampy\u001b[0m \u001b[0;32mimport\u001b[0m \u001b[0mcdf\u001b[0m\u001b[0;34m\u001b[0m\u001b[0m\n\u001b[0m",
      "\u001b[0;32m/opt/anaconda/miniconda3/lib/python3.6/site-packages/asampy/cdf.py\u001b[0m in \u001b[0;36m<module>\u001b[0;34m()\u001b[0m\n\u001b[1;32m     49\u001b[0m \u001b[0;34m\u001b[0m\u001b[0m\n\u001b[1;32m     50\u001b[0m \u001b[0;34m@\u001b[0m\u001b[0mdataclass\u001b[0m\u001b[0;34m\u001b[0m\u001b[0m\n\u001b[0;32m---> 51\u001b[0;31m \u001b[0;32mclass\u001b[0m \u001b[0mCalib\u001b[0m\u001b[0;34m(\u001b[0m\u001b[0mobject\u001b[0m\u001b[0;34m)\u001b[0m\u001b[0;34m:\u001b[0m\u001b[0;34m\u001b[0m\u001b[0m\n\u001b[0m\u001b[1;32m     52\u001b[0m     \u001b[0mname\u001b[0m\u001b[0;34m:\u001b[0m \u001b[0mstr\u001b[0m \u001b[0;34m=\u001b[0m \u001b[0mString\u001b[0m\u001b[0;34m(\u001b[0m\u001b[0;34m)\u001b[0m\u001b[0;34m\u001b[0m\u001b[0m\n\u001b[1;32m     53\u001b[0m     \u001b[0mcategory\u001b[0m\u001b[0;34m:\u001b[0m \u001b[0mstr\u001b[0m \u001b[0;34m=\u001b[0m \u001b[0mString\u001b[0m\u001b[0;34m(\u001b[0m\u001b[0;34m)\u001b[0m\u001b[0;34m\u001b[0m\u001b[0m\n",
      "\u001b[0;32m/opt/anaconda/miniconda3/lib/python3.6/site-packages/dataclasses.py\u001b[0m in \u001b[0;36mdataclass\u001b[0;34m(_cls, init, repr, eq, order, unsafe_hash, frozen)\u001b[0m\n\u001b[1;32m    956\u001b[0m \u001b[0;34m\u001b[0m\u001b[0m\n\u001b[1;32m    957\u001b[0m     \u001b[0;31m# We're called as @dataclass without parens.\u001b[0m\u001b[0;34m\u001b[0m\u001b[0;34m\u001b[0m\u001b[0m\n\u001b[0;32m--> 958\u001b[0;31m     \u001b[0;32mreturn\u001b[0m \u001b[0mwrap\u001b[0m\u001b[0;34m(\u001b[0m\u001b[0m_cls\u001b[0m\u001b[0;34m)\u001b[0m\u001b[0;34m\u001b[0m\u001b[0m\n\u001b[0m\u001b[1;32m    959\u001b[0m \u001b[0;34m\u001b[0m\u001b[0m\n\u001b[1;32m    960\u001b[0m \u001b[0;34m\u001b[0m\u001b[0m\n",
      "\u001b[0;32m/opt/anaconda/miniconda3/lib/python3.6/site-packages/dataclasses.py\u001b[0m in \u001b[0;36mwrap\u001b[0;34m(cls)\u001b[0m\n\u001b[1;32m    948\u001b[0m \u001b[0;34m\u001b[0m\u001b[0m\n\u001b[1;32m    949\u001b[0m     \u001b[0;32mdef\u001b[0m \u001b[0mwrap\u001b[0m\u001b[0;34m(\u001b[0m\u001b[0mcls\u001b[0m\u001b[0;34m)\u001b[0m\u001b[0;34m:\u001b[0m\u001b[0;34m\u001b[0m\u001b[0m\n\u001b[0;32m--> 950\u001b[0;31m         \u001b[0;32mreturn\u001b[0m \u001b[0m_process_class\u001b[0m\u001b[0;34m(\u001b[0m\u001b[0mcls\u001b[0m\u001b[0;34m,\u001b[0m \u001b[0minit\u001b[0m\u001b[0;34m,\u001b[0m \u001b[0mrepr\u001b[0m\u001b[0;34m,\u001b[0m \u001b[0meq\u001b[0m\u001b[0;34m,\u001b[0m \u001b[0morder\u001b[0m\u001b[0;34m,\u001b[0m \u001b[0munsafe_hash\u001b[0m\u001b[0;34m,\u001b[0m \u001b[0mfrozen\u001b[0m\u001b[0;34m)\u001b[0m\u001b[0;34m\u001b[0m\u001b[0m\n\u001b[0m\u001b[1;32m    951\u001b[0m \u001b[0;34m\u001b[0m\u001b[0m\n\u001b[1;32m    952\u001b[0m     \u001b[0;31m# See if we're being called as @dataclass or @dataclass().\u001b[0m\u001b[0;34m\u001b[0m\u001b[0;34m\u001b[0m\u001b[0m\n",
      "\u001b[0;32m/opt/anaconda/miniconda3/lib/python3.6/site-packages/dataclasses.py\u001b[0m in \u001b[0;36m_process_class\u001b[0;34m(cls, init, repr, eq, order, unsafe_hash, frozen)\u001b[0m\n\u001b[1;32m    869\u001b[0m                                     \u001b[0;31m# if possible.\u001b[0m\u001b[0;34m\u001b[0m\u001b[0;34m\u001b[0m\u001b[0m\n\u001b[1;32m    870\u001b[0m                                     \u001b[0;34m'__dataclass_self__'\u001b[0m \u001b[0;32mif\u001b[0m \u001b[0;34m'self'\u001b[0m \u001b[0;32min\u001b[0m \u001b[0mfields\u001b[0m\u001b[0;34m\u001b[0m\u001b[0m\n\u001b[0;32m--> 871\u001b[0;31m                                             \u001b[0;32melse\u001b[0m \u001b[0;34m'self'\u001b[0m\u001b[0;34m,\u001b[0m\u001b[0;34m\u001b[0m\u001b[0m\n\u001b[0m\u001b[1;32m    872\u001b[0m                           ))\n\u001b[1;32m    873\u001b[0m \u001b[0;34m\u001b[0m\u001b[0m\n",
      "\u001b[0;32m/opt/anaconda/miniconda3/lib/python3.6/site-packages/dataclasses.py\u001b[0m in \u001b[0;36m_init_fn\u001b[0;34m(fields, frozen, has_post_init, self_name)\u001b[0m\n\u001b[1;32m    458\u001b[0m                 \u001b[0mseen_default\u001b[0m \u001b[0;34m=\u001b[0m \u001b[0;32mTrue\u001b[0m\u001b[0;34m\u001b[0m\u001b[0m\n\u001b[1;32m    459\u001b[0m             \u001b[0;32melif\u001b[0m \u001b[0mseen_default\u001b[0m\u001b[0;34m:\u001b[0m\u001b[0;34m\u001b[0m\u001b[0m\n\u001b[0;32m--> 460\u001b[0;31m                 raise TypeError(f'non-default argument {f.name!r} '\n\u001b[0m\u001b[1;32m    461\u001b[0m                                 'follows default argument')\n\u001b[1;32m    462\u001b[0m \u001b[0;34m\u001b[0m\u001b[0m\n",
      "\u001b[0;31mTypeError\u001b[0m: non-default argument 'sw_axis_conts' follows default argument"
     ]
    }
   ],
   "source": [
    "from asampy import cdf"
   ]
  },
  {
   "cell_type": "code",
   "execution_count": 5,
   "metadata": {},
   "outputs": [
    {
     "ename": "NameError",
     "evalue": "name 'cdf' is not defined",
     "output_type": "error",
     "traceback": [
      "\u001b[0;31m---------------------------------------------------------------------------\u001b[0m",
      "\u001b[0;31mNameError\u001b[0m                                 Traceback (most recent call last)",
      "\u001b[0;32m<ipython-input-5-7b043f8e7231>\u001b[0m in \u001b[0;36m<module>\u001b[0;34m()\u001b[0m\n\u001b[0;32m----> 1\u001b[0;31m \u001b[0mcdfx\u001b[0m \u001b[0;34m=\u001b[0m \u001b[0mcdf\u001b[0m\u001b[0;34m.\u001b[0m\u001b[0mcdfx\u001b[0m\u001b[0;34m(\u001b[0m\u001b[0mroot\u001b[0m\u001b[0;34m)\u001b[0m\u001b[0;34m\u001b[0m\u001b[0m\n\u001b[0m",
      "\u001b[0;31mNameError\u001b[0m: name 'cdf' is not defined"
     ]
    }
   ],
   "source": [
    "cdfx = cdf.cdfx(root)"
   ]
  },
  {
   "cell_type": "code",
   "execution_count": 196,
   "metadata": {},
   "outputs": [],
   "source": [
    "swsystem = cdfx.msrsw.sw_systems[0]"
   ]
  },
  {
   "cell_type": "code",
   "execution_count": 208,
   "metadata": {},
   "outputs": [],
   "source": [
    "swinstance = swsystem.sw_instance_spec.sw_instance_tree.sw_instance"
   ]
  },
  {
   "cell_type": "code",
   "execution_count": 219,
   "metadata": {},
   "outputs": [
    {
     "data": {
      "text/plain": [
       "<xarray.DataArray (dim_0: 6)>\n",
       "array([-10., -11., -12., -10.,  -9., -11.])\n",
       "Coordinates:\n",
       "  * dim_0    (dim_0) float64 1.0 2.0 3.0 4.0 5.0 6.0"
      ]
     },
     "execution_count": 219,
     "metadata": {},
     "output_type": "execute_result"
    }
   ],
   "source": [
    "cdfx['ASAM.C.CURVE.FIX_AXIS.PAR_DIST']"
   ]
  },
  {
   "cell_type": "code",
   "execution_count": 181,
   "metadata": {},
   "outputs": [
    {
     "name": "stdout",
     "output_type": "stream",
     "text": [
      "Ajout d'un élément\n"
     ]
    }
   ],
   "source": [
    "\n",
    "msrsw.sw_systems.append(SwSystem())"
   ]
  },
  {
   "cell_type": "code",
   "execution_count": 214,
   "metadata": {},
   "outputs": [
    {
     "data": {
      "text/plain": [
       "{'ASAM.C.CURVE.FIX_AXIS.PAR': <xarray.DataArray (dim_0: 6)>\n",
       " array([9., 8., 7., 8., 9., 5.])\n",
       " Coordinates:\n",
       "   * dim_0    (dim_0) float64 0.0 4.0 8.0 12.0 16.0 20.0,\n",
       " 'ASAM.C.CURVE.FIX_AXIS.PAR_DIST': <xarray.DataArray (dim_0: 6)>\n",
       " array([-10., -11., -12., -10.,  -9., -11.])\n",
       " Coordinates:\n",
       "   * dim_0    (dim_0) float64 1.0 2.0 3.0 4.0 5.0 6.0,\n",
       " 'ASAM.C.CURVE.FIX_AXIS.PAR_LIST': <xarray.DataArray (dim_0: 6)>\n",
       " array([2., 3., 4., 2., 4., 3.])\n",
       " Coordinates:\n",
       "   * dim_0    (dim_0) float64 -1.0 4.0 6.0 8.0 9.0 10.0,\n",
       " 'ASAM.C.CURVE.STD_AXIS': <xarray.DataArray (dim_0: 8)>\n",
       " array([-3., -1.,  6.,  5.,  9.,  9., 13.,  9.])\n",
       " Coordinates:\n",
       "   * dim_0    (dim_0) float64 -5.0 -1.0 2.0 4.0 5.0 8.0 14.0 22.0,\n",
       " 'ASAM.C.CURVE.STD_AXIS.MONOTONY_STRICT_DECREASE': <xarray.DataArray (dim_0: 8)>\n",
       " array([2708.,  759.,  690., 2141.,  690., 1657., 1312.,  -56.])\n",
       " Coordinates:\n",
       "   * dim_0    (dim_0) float64 5.0 3.0 1.0 -1.0 -3.0 -5.0 -7.0 -9.0,\n",
       " 'ASAM.C.CURVE.STD_AXIS.MONOTONY_STRICT_INCREASE': <xarray.DataArray (dim_0: 8)>\n",
       " array([-10.,  12.,  22.,  22.,  64.,  46.,  66., 133.])\n",
       " Coordinates:\n",
       "   * dim_0    (dim_0) float64 1.0 4.0 7.0 10.0 13.0 16.0 19.0 22.0,\n",
       " 'ASAM.C.CURVE_AXIS': <xarray.DataArray (dim_0: 8)>\n",
       " array([0., 1., 2., 3., 4., 5., 6., 7.])\n",
       " Coordinates:\n",
       "   * dim_0    (dim_0) float64 -1.0 0.0 2.0 3.0 4.0 5.0 7.0 8.0,\n",
       " 'ASAM.C.DEPENDENT.REF_1.SWORD': <xarray.DataArray ()>\n",
       " array(13.),\n",
       " 'ASAM.C.DEPENDENT.REF_2.UWORD': <xarray.DataArray ()>\n",
       " array(57.),\n",
       " 'ASAM.C.DEPENDENT.REF_3.SWORD': <xarray.DataArray ()>\n",
       " array(70.),\n",
       " 'ASAM.C.DEPENDENT.REF_4.FLOAT64_IEEE': <xarray.DataArray ()>\n",
       " array(9.55),\n",
       " 'ASAM.C.DEPENDENT.REF_5.FLOAT64_IEEE': <xarray.DataArray ()>\n",
       " array(57.1),\n",
       " 'ASAM.C.SCALAR.FLOAT32_IEEE.IDENTICAL': <xarray.DataArray ()>\n",
       " array(0.),\n",
       " 'ASAM.C.SCALAR.FLOAT64_IEEE.IDENTICAL': <xarray.DataArray ()>\n",
       " array(-3.),\n",
       " 'ASAM.C.SCALAR.SBYTE.IDENTICAL': <xarray.DataArray ()>\n",
       " array(8.),\n",
       " 'ASAM.C.SCALAR.SLONG.IDENTICAL': <xarray.DataArray ()>\n",
       " array(86.),\n",
       " 'ASAM.C.SCALAR.SWORD.FORM_X_PLUS_4': <xarray.DataArray ()>\n",
       " array(6.),\n",
       " 'ASAM.C.SCALAR.SWORD.IDENTICAL': <xarray.DataArray ()>\n",
       " array(2.),\n",
       " 'ASAM.C.SCALAR.SWORD.LINEAR_MUL_2': <xarray.DataArray ()>\n",
       " array(4.),\n",
       " 'ASAM.C.SCALAR.SWORD.RAT_FUNC_DIV_10': <xarray.DataArray ()>\n",
       " array(0.2),\n",
       " 'ASAM.C.SCALAR.SWORD.RAT_FUNC_DIV_81_9175': <xarray.DataArray ()>\n",
       " array(0.024415),\n",
       " 'ASAM.C.SCALAR.SWORD.TAB_INTP_DEFAULT_VALUE': <xarray.DataArray ()>\n",
       " array(102.),\n",
       " 'ASAM.C.SCALAR.SWORD.TAB_INTP_NO_DEFAULT_VALUE': <xarray.DataArray ()>\n",
       " array(102.),\n",
       " 'ASAM.C.SCALAR.SWORD.TAB_NOINTP_DEFAULT_VALUE': <xarray.DataArray ()>\n",
       " array(102.),\n",
       " 'ASAM.C.SCALAR.SWORD.TAB_NOINTP_NO_DEFAULT_VALUE': <xarray.DataArray ()>\n",
       " array(102.),\n",
       " 'ASAM.C.SCALAR.UBYTE.IDENTICAL': <xarray.DataArray ()>\n",
       " array(32.),\n",
       " 'ASAM.C.SCALAR.ULONG.IDENTICAL': <xarray.DataArray ()>\n",
       " array(17.),\n",
       " 'ASAM.C.SCALAR.UWORD.IDENTICAL': <xarray.DataArray ()>\n",
       " array(15.),\n",
       " 'ASAM.C.SCALAR.UWORD.IDENTICAL.BITMASK_0FF0': <xarray.DataArray ()>\n",
       " array(0.),\n",
       " 'ASAM.C.VIRTUAL.REF_1.SWORD': <xarray.DataArray ()>\n",
       " array(0.),\n",
       " 'ASAM.C.VIRTUAL.REF_2.UWORD': <xarray.DataArray ()>\n",
       " array(51.),\n",
       " 'ASAM.C.VIRTUAL.REF_3.SWORD': <xarray.DataArray ()>\n",
       " array(51.),\n",
       " 'ASAM.C.VIRTUAL.SYSTEM_CONSTANT_1': <xarray.DataArray ()>\n",
       " array(28.55)}"
      ]
     },
     "execution_count": 214,
     "metadata": {},
     "output_type": "execute_result"
    }
   ],
   "source": [
    "cdfx.res"
   ]
  },
  {
   "cell_type": "code",
   "execution_count": 216,
   "metadata": {},
   "outputs": [
    {
     "data": {
      "text/plain": [
       "[<matplotlib.lines.Line2D at 0x3134ef7f0>]"
      ]
     },
     "execution_count": 216,
     "metadata": {},
     "output_type": "execute_result"
    },
    {
     "data": {
      "image/png": "[encoded data removed]",
      "text/plain": [
       "<Figure size 432x288 with 1 Axes>"
      ]
     },
     "metadata": {},
     "output_type": "display_data"
    }
   ],
   "source": [
    "cdfx.res['ASAM.C.CURVE.STD_AXIS.MONOTONY_STRICT_INCREASE'].plot()"
   ]
  },
  {
   "cell_type": "code",
   "execution_count": 183,
   "metadata": {},
   "outputs": [
    {
     "data": {
      "text/plain": [
       "<__main__.SwSystem at 0x313312da0>"
      ]
     },
     "execution_count": 183,
     "metadata": {},
     "output_type": "execute_result"
    }
   ],
   "source": [
    "msrsw.sw_systems[1]"
   ]
  },
  {
   "cell_type": "code",
   "execution_count": 141,
   "metadata": {},
   "outputs": [],
   "source": [
    "# Base class. Uses a descriptor to set a value\n",
    "class Descriptor:\n",
    "    def __init__(self, name=None, **opts):\n",
    "        self.name = name\n",
    "        self.__dict__.update(opts)\n",
    "\n",
    "    def __set__(self, instance, value):\n",
    "        instance.__dict__[self.name] = value\n",
    "\n"
   ]
  },
  {
   "cell_type": "code",
   "execution_count": null,
   "metadata": {},
   "outputs": [],
   "source": []
  }
 ],
 "metadata": {
  "kernelspec": {
   "display_name": "Python 3",
   "language": "python",
   "name": "python3"
  },
  "language_info": {
   "codemirror_mode": {
    "name": "ipython",
    "version": 3
   },
   "file_extension": ".py",
   "mimetype": "text/x-python",
   "name": "python",
   "nbconvert_exporter": "python",
   "pygments_lexer": "ipython3",
   "version": "3.7.6"
  }
 },
 "nbformat": 4,
 "nbformat_minor": 4
}
