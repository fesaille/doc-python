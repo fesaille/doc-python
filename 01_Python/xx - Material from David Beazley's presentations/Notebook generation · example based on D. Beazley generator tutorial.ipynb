{
 "cells": [
  {
   "cell_type": "markdown",
   "metadata": {},
   "source": [
    "The idea behind this notebook is to get the material of <a href=\"http://www.dabeaz.com\"> David Beazley</a> tutorials and create a notebook in jupyter structure, linking the content to a tmp file. "
   ]
  },
  {
   "cell_type": "code",
   "execution_count": null,
   "metadata": {},
   "outputs": [],
   "source": [
    "from glob import glob\n",
    "from io import BytesIO\n",
    "from itertools import filterfalse\n",
    "from jupyter_core import paths\n",
    "from lib2to3.main import main as py2to3\n",
    "from lxml import (html, etree)\n",
    "import nbformat as nbf\n",
    "from os.path import (join as pjoin, dirname)\n",
    "import pathlib\n",
    "import tempfile\n",
    "import urllib.request\n",
    "import zipfile"
   ]
  },
  {
   "cell_type": "code",
   "execution_count": null,
   "metadata": {},
   "outputs": [],
   "source": [
    "def get_notebook_conf(opt):\n",
    "    \"\"\"\n",
    "    Return the \"opt\" key found in configuration file\n",
    "    \"\"\"\n",
    "    res = []\n",
    "    for f in glob(pjoin(paths.jupyter_config_dir(), \"*.py\")):\n",
    "        with open(f, 'r') as buf:\n",
    "            # drop if line is not empty, not commented and do not contains opt\n",
    "            for line in filterfalse(lambda x : x.strip().startswith(\"#\") or x.strip() == '' or not opt in x, buf):\n",
    "                res.append(line.split(\"=\")[-1].strip().strip(\"'\"))\n",
    "\n",
    "    assert len(res) == 1, \"notebook_dir not found or more than once\"\n",
    "    return res[0]"
   ]
  },
  {
   "cell_type": "code",
   "execution_count": 77,
   "metadata": {},
   "outputs": [],
   "source": [
    "def get_online_content(href, notebook_dir):\n",
    "\n",
    "    nb = nbf.v4.new_notebook()\n",
    "\n",
    "    nb['cells'] = []\n",
    "\n",
    "    TMP = tempfile.gettempdir()\n",
    "\n",
    "    dirName = pathlib.Path(href).parts[-2]\n",
    "    localPath = pjoin(TMP, dirName)\n",
    "\n",
    "    # Create a parser\n",
    "    parser = etree.HTMLParser()\n",
    "\n",
    "    # and feed it with urllib response\n",
    "    with urllib.request.urlopen(href) as f:\n",
    "        page = html.parse(f, parser)\n",
    "\n",
    "        \n",
    "    _l = page.xpath(\"//a[contains(@href,'.zip')]\")[0].attrib['href']\n",
    "    _href = f\"{pjoin(dirname(href), _l)}\"\n",
    "    _zip = urllib.request.urlopen(_href).read()\n",
    "    \n",
    "    # Info : extract content of archive in directory\n",
    "    # zipfile.ZipFile(BytesIO(_zip.content)).extractall(f\"{TMP}\")\n",
    "    #\n",
    "    # Info: open a specific file\n",
    "    # with myzip.open('generators-uk/apachelog.py') as myfile:\n",
    "    #     _f = myfile.read().decode()\n",
    "        \n",
    "    myzip = zipfile.ZipFile(BytesIO(_zip))\n",
    "\n",
    "    myzip.extractall(f\"{TMP}\")\n",
    "\n",
    "    # Set TMP dir to archive folder\n",
    "    TMP = pjoin(TMP,myzip.namelist()[0])\n",
    "    nb['cells'].append(nbf.v4.new_code_cell(f\"# Move do tmp file\\nfrom os import chdir\\nchdir(\\\"{TMP}\\\")\"))\n",
    "\n",
    "\n",
    "    for h4 in page.xpath('//h4'):\n",
    "        ul = h4.getnext()  # Get element sibbling\n",
    "\n",
    "        title = h4.text.split(':')[-1].strip()\n",
    "        nb['cells'].append(nbf.v4.new_markdown_cell(f\"\"\"# {title}\"\"\"))\n",
    "\n",
    "        for li in filter(lambda x: len(x) > 0, ul.iterchildren()):\n",
    "            if li.tag != \"li\":\n",
    "                print(f\"Got: {li.tag}\")\n",
    "            \n",
    "            # Write comment of the source code\n",
    "            comment = etree.tostring(list(li.iter())[-1]).decode()\n",
    "            nb['cells'].append(nbf.v4.new_markdown_cell(f\"\"\"{comment}.\"\"\"))\n",
    "            for anchor in filter(lambda x: x.attrib['href'].endswith('.py'), li.findall(\"a\")):\n",
    "                # Get path to python source code\n",
    "                filePath = pjoin(TMP, anchor.attrib['href'])\n",
    "                # Convert python 2 source code python 3\n",
    "                py2to3(\"lib2to3.fixes\", ['-w', '--no-diffs', filePath])\n",
    "\n",
    "                # Read python source code and write to new code cell \n",
    "                with open(filePath, 'r') as myfile:\n",
    "                    source = myfile.read().strip()\n",
    "                    nb['cells'].append(nbf.v4.new_code_cell(source))\n",
    "\n",
    "    fname = f\"David_Beazley_{dirName}.ipynb\"\n",
    "\n",
    "    output = pjoin(notebook_dir, \"10_Github\", \"Iterables, iterators, generators, coroutines\", fname)\n",
    "    with open(output, 'w') as f:\n",
    "        nbf.write(nb, f)"
   ]
  },
  {
   "cell_type": "markdown",
   "metadata": {},
   "source": [
    "# Get <code>generators-uk</code> tutorials"
   ]
  },
  {
   "cell_type": "code",
   "execution_count": 78,
   "metadata": {},
   "outputs": [],
   "source": [
    "notebook_dir = get_notebook_conf('notebook_dir')\n",
    "\n",
    "href = \"http://www.dabeaz.com/generators-uk/index.html\"\n",
    "\n",
    "get_online_content(href, notebook_dir)"
   ]
  },
  {
   "cell_type": "markdown",
   "metadata": {},
   "source": [
    "# Fetching all tutorials"
   ]
  },
  {
   "cell_type": "code",
   "execution_count": 1,
   "metadata": {},
   "outputs": [],
   "source": [
    "tutorials = \"http://www.dabeaz.com/tutorials.html\""
   ]
  },
  {
   "cell_type": "code",
   "execution_count": 82,
   "metadata": {},
   "outputs": [],
   "source": [
    "parser = etree.HTMLParser()\n",
    "\n",
    "with urllib.request.urlopen(tutorials) as f:\n",
    "    tutorialspage = html.parse(f, parser)"
   ]
  },
  {
   "cell_type": "code",
   "execution_count": 92,
   "metadata": {},
   "outputs": [
    {
     "name": "stdout",
     "output_type": "stream",
     "text": [
      "Fectching http://www.dabeaz.com/modulepackage/index.html\n",
      "Fectching http://www.dabeaz.com/finalgenerator/index.html\n",
      "Fectching http://www.dabeaz.com/py3meta/index.html\n",
      "Fectching http://www.dabeaz.com/pydata/index.html\n",
      "Fectching http://www.dabeaz.com/python3io/index.html\n",
      "Fectching http://www.dabeaz.com/usenix2009/pythonprog/index.html\n",
      "Fectching http://www.dabeaz.com/usenix2009/concurrent/index.html\n",
      "Fectching http://www.dabeaz.com/usenix2009/generators/index.html\n",
      "Fectching http://www.dabeaz.com/coroutines/index.html\n",
      "Fectching http://www.dabeaz.com/generators-uk/index.html\n",
      "Fectching http://www.dabeaz.com/SwigMaster/index.html\n"
     ]
    }
   ],
   "source": [
    "for tuto in tutorialspage.xpath(\"//a[text()='materials']\"):\n",
    "    url = pjoin(\"http://www.dabeaz.com/\", tuto.attrib[\"href\"])\n",
    "    print(f\"Fetching {url}\")\n",
    "    get_online_content(url, notebook_dir)"
   ]
  }
 ],
 "metadata": {
  "kernelspec": {
   "display_name": "Python 3",
   "language": "python",
   "name": "python3"
  },
  "language_info": {
   "codemirror_mode": {
    "name": "ipython",
    "version": 3
   },
   "file_extension": ".py",
   "mimetype": "text/x-python",
   "name": "python",
   "nbconvert_exporter": "python",
   "pygments_lexer": "ipython3",
   "version": "3.7.6"
  },
  "toc": {
   "colors": {
    "hover_highlight": "#DAA520",
    "navigate_num": "#000000",
    "navigate_text": "#333333",
    "running_highlight": "#FF0000",
    "selected_highlight": "#FFD700",
    "sidebar_border": "#EEEEEE",
    "wrapper_background": "#FFFFFF"
   },
   "moveMenuLeft": true,
   "nav_menu": {
    "height": "12px",
    "width": "252px"
   },
   "navigate_menu": true,
   "number_sections": true,
   "sideBar": true,
   "threshold": 4,
   "toc_cell": false,
   "toc_section_display": "block",
   "toc_window_display": true,
   "widenNotebook": false
  }
 },
 "nbformat": 4,
 "nbformat_minor": 4
}
