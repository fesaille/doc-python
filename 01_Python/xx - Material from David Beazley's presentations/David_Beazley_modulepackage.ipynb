{
 "cells": [
  {
   "cell_type": "code",
   "execution_count": null,
   "metadata": {},
   "outputs": [],
   "source": [
    "# Move do tmp file\n",
    "from os import chdir\n",
    "chdir(\"/var/folders/qg/pwxx_zfd07x_rpw143q33c840000gn/T/modulepackage/\")"
   ]
  }
 ],
 "metadata": {},
 "nbformat": 4,
 "nbformat_minor": 2
}
