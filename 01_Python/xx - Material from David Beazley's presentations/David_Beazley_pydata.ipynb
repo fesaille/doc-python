{
 "cells": [
  {
   "cell_type": "code",
   "execution_count": 1,
   "metadata": {},
   "outputs": [],
   "source": [
    "# Move do tmp file\n",
    "from os import chdir\n",
    "chdir(\"/var/folders/qg/pwxx_zfd07x_rpw143q33c840000gn/T/LearnPyData/\")"
   ]
  },
  {
   "cell_type": "code",
   "execution_count": 3,
   "metadata": {},
   "outputs": [
    {
     "name": "stdout",
     "output_type": "stream",
     "text": [
      "#!/usr/bin/env python\r\n",
      "# bussim.py\r\n",
      "#\r\n",
      "# Simulated access to CTA website for the \"Learn Python through Public Data Hacking\"\r\n",
      "# tutorial.  Run this script if you have no internet access or connectivity\r\n",
      "# is very poor.\r\n",
      "\r\n",
      "from datetime import datetime\r\n",
      "import os\r\n",
      "import gzip\r\n",
      "import re\r\n",
      "import time\r\n",
      "\r\n",
      "try:\r\n",
      "    from BaseHTTPServer import BaseHTTPRequestHandler, HTTPServer\r\n",
      "except ImportError:\r\n",
      "    from http.server import BaseHTTPRequestHandler, HTTPServer\r\n",
      "\r\n",
      "dirname = os.path.join(os.path.dirname(__file__),'data','buses')\r\n",
      "basetime = datetime.today()\r\n",
      "files = sorted([name for name in os.listdir(dirname)\r\n",
      "                if name.endswith('.xml.gz')])\r\n",
      "\r\n",
      "class BusRequestHandler(BaseHTTPRequestHandler):\r\n",
      "    def do_GET(self):\r\n",
      "        elapsed = datetime.today() - basetime\r\n",
      "        minutes = (elapsed.seconds // 60)\r\n",
      "        filename = files[minutes]\r\n",
      "        fullname = os.path.join(dirname, filename)\r\n",
      "        f = gzip.open(fullname, 'rb')\r\n",
      "        data = f.read()\r\n",
      "        f.close()\r\n",
      "        data = re.sub(br'<time>(.*?)</time>',\r\n",
      "                          lambda m: b'<time>' + time.ctime().encode('ascii') + b'</time>', data)\r\n",
      "        self.send_response(200, 'OK')\r\n",
      "        self.send_header('content-type', 'application/xml')\r\n",
      "        self.end_headers()\r\n",
      "        self.wfile.write(data)\r\n",
      "\r\n",
      "from functools import partial\r\n",
      "serv = HTTPServer(('', 8800), BusRequestHandler)\r\n",
      "print('''\r\n",
      "Simulated bus-system API server running at http://localhost:8800.\r\n",
      "In your code, change all URLs from http://ctabustracker.com/\r\n",
      "to http://localhost:8800/.   Note: this server only knows about\r\n",
      "a single bus route (#22) as described in the tutorial.\r\n",
      "''')\r\n",
      "serv.serve_forever()\r\n"
     ]
    }
   ],
   "source": [
    "cat bussim.py"
   ]
  },
  {
   "cell_type": "code",
   "execution_count": null,
   "metadata": {},
   "outputs": [],
   "source": []
  }
 ],
 "metadata": {
  "kernelspec": {
   "display_name": "Python 3",
   "language": "python",
   "name": "python3"
  },
  "language_info": {
   "codemirror_mode": {
    "name": "ipython",
    "version": 3
   },
   "file_extension": ".py",
   "mimetype": "text/x-python",
   "name": "python",
   "nbconvert_exporter": "python",
   "pygments_lexer": "ipython3",
   "version": "3.6.3"
  },
  "toc": {
   "colors": {
    "hover_highlight": "#DAA520",
    "navigate_num": "#000000",
    "navigate_text": "#333333",
    "running_highlight": "#FF0000",
    "selected_highlight": "#FFD700",
    "sidebar_border": "#EEEEEE",
    "wrapper_background": "#FFFFFF"
   },
   "moveMenuLeft": true,
   "nav_menu": {
    "height": "12px",
    "width": "252px"
   },
   "navigate_menu": true,
   "number_sections": true,
   "sideBar": true,
   "threshold": 4,
   "toc_cell": false,
   "toc_section_display": "block",
   "toc_window_display": false,
   "widenNotebook": false
  }
 },
 "nbformat": 4,
 "nbformat_minor": 2
}
