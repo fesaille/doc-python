{
 "cells": [
  {
   "cell_type": "code",
   "execution_count": null,
   "metadata": {},
   "outputs": [],
   "source": [
    "# Move do tmp file\n",
    "from os import chdir\n",
    "chdir(\"/var/folders/qg/pwxx_zfd07x_rpw143q33c840000gn/T/py3meta/\")"
   ]
  }
 ],
 "metadata": {},
 "nbformat": 4,
 "nbformat_minor": 2
}
