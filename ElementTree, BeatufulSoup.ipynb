{
 "cells": [
  {
   "cell_type": "code",
   "execution_count": 3,
   "metadata": {},
   "outputs": [
    {
     "name": "stdout",
     "output_type": "stream",
     "text": [
      "2017-10-12 19:55:23 \n",
      "\n",
      "CPython 3.6.2\n",
      "IPython 6.1.0\n",
      "\n",
      "numpy 1.13.1\n",
      "matplotlib 2.0.2\n",
      "pandas 0.20.3\n",
      "bs4 4.6.0\n"
     ]
    }
   ],
   "source": [
    "import bs4\n",
    "from IPython.display import HTML\n",
    "\n",
    "%watermark -dtv -p numpy,matplotlib,pandas,bs4"
   ]
  },
  {
   "cell_type": "code",
   "execution_count": 4,
   "metadata": {
    "collapsed": true
   },
   "outputs": [],
   "source": [
    "myMesh = mesh1d(np.arange(20) * 10)"
   ]
  },
  {
   "cell_type": "markdown",
   "metadata": {},
   "source": [
    "# ElementTree"
   ]
  },
  {
   "cell_type": "code",
   "execution_count": 5,
   "metadata": {},
   "outputs": [],
   "source": [
    "def bench_ET():\n",
    "    import xml.etree.ElementTree as ET\n",
    "    from itertools import islice\n",
    "    from lerp.core.config import get_option\n",
    "\n",
    "    \n",
    "    max_rows = get_option(\"display.max_rows\")\n",
    "    _html_style = {\n",
    "        'table': 'border: 0px none;',\n",
    "        'th': 'color:LightGrey;border:0px none;'\n",
    "              'text-align:center;background:none;',\n",
    "        'tr': 'border:0px none; border-bottom:1px solid #C0C0C0;'\n",
    "              'background:none;',\n",
    "        'none': 'border:0px none;background:none;',\n",
    "    }\n",
    "\n",
    "    def _StyledSubElement(parent, child):\n",
    "        return ET.SubElement(parent, child,\n",
    "                             {'style': _html_style[child]})\n",
    "\n",
    "    ET.StyledSubElement = _StyledSubElement\n",
    "\n",
    "    root = ET.Element('div')\n",
    "    pre = ET.SubElement(root, 'p')\n",
    "    ET.SubElement(pre, 'code').text = myMesh.__class__.__name__\n",
    "    ET.SubElement(pre, 'span').text = \": \"\n",
    "    ET.SubElement(pre, 'b').text = myMesh.label or \"Label\"\n",
    "    ET.SubElement(pre, 'span').text = \" [{}]\".format(myMesh.unit or \"unit\")\n",
    "    ET.SubElement(pre, 'br')\n",
    "\n",
    "    res = ET.SubElement(pre, 'p')\n",
    "    if myMesh.size == 1:\n",
    "        res.text = str(myMesh)\n",
    "    else:\n",
    "        table = ET.StyledSubElement(res, 'table')\n",
    "        tbody = ET.SubElement(table, 'tbody')\n",
    "        for _i in range(2):\n",
    "            if not _i:\n",
    "                tr = ET.StyledSubElement(tbody, 'tr')\n",
    "                for _node in islice(np.arange(len(myMesh)), max_rows - 1):\n",
    "                    ET.StyledSubElement(tr, 'th').text = str(_node)\n",
    "                if len(myMesh) > max_rows:\n",
    "                    ET.StyledSubElement(tr, 'th').text = \"...\"\n",
    "                    ET.StyledSubElement(tr, 'th').text = str(len(myMesh) - 1)\n",
    "                elif len(myMesh) > max_rows - 1:\n",
    "                    ET.StyledSubElement(tr, 'th').text = str(len(myMesh) - 1)\n",
    "            else:\n",
    "                tr = ET.SubElement(tbody, 'tr',\n",
    "                                   {'style': 'border: 0px solid'})\n",
    "                for _node in islice(myMesh, max_rows - 1):\n",
    "                    ET.SubElement(tr, 'td').text = str(_node)\n",
    "                if len(myMesh) > max_rows:\n",
    "                    ET.SubElement(tr, 'td').text = \"...\"\n",
    "                    ET.SubElement(tr, 'td').text = str(myMesh[-1])\n",
    "                elif len(myMesh) > max_rows - 1:\n",
    "                    ET.SubElement(tr, 'td').text = str(myMesh[-1])\n",
    "\n",
    "    return str(ET.tostring(root, encoding='utf-8'), 'utf-8')"
   ]
  },
  {
   "cell_type": "code",
   "execution_count": 6,
   "metadata": {},
   "outputs": [
    {
     "name": "stdout",
     "output_type": "stream",
     "text": [
      "747 µs ± 16.6 µs per loop (mean ± std. dev. of 7 runs, 1000 loops each)\n"
     ]
    }
   ],
   "source": [
    "%timeit bench_ET()"
   ]
  },
  {
   "cell_type": "code",
   "execution_count": 7,
   "metadata": {},
   "outputs": [
    {
     "data": {
      "text/html": [
       "<div><p><code>BreakPoints</code><span>: </span><b>Label</b><span> [unit]</span><br /><p><table style=\"border: 0px none;\"><tbody><tr style=\"border:0px none; border-bottom:1px solid #C0C0C0;background:none;\"><th style=\"color:LightGrey;border:0px none;text-align:center;background:none;\">0</th><th style=\"color:LightGrey;border:0px none;text-align:center;background:none;\">1</th><th style=\"color:LightGrey;border:0px none;text-align:center;background:none;\">2</th><th style=\"color:LightGrey;border:0px none;text-align:center;background:none;\">3</th><th style=\"color:LightGrey;border:0px none;text-align:center;background:none;\">4</th><th style=\"color:LightGrey;border:0px none;text-align:center;background:none;\">5</th><th style=\"color:LightGrey;border:0px none;text-align:center;background:none;\">6</th><th style=\"color:LightGrey;border:0px none;text-align:center;background:none;\">7</th><th style=\"color:LightGrey;border:0px none;text-align:center;background:none;\">8</th><th style=\"color:LightGrey;border:0px none;text-align:center;background:none;\">9</th><th style=\"color:LightGrey;border:0px none;text-align:center;background:none;\">10</th><th style=\"color:LightGrey;border:0px none;text-align:center;background:none;\">11</th><th style=\"color:LightGrey;border:0px none;text-align:center;background:none;\">12</th><th style=\"color:LightGrey;border:0px none;text-align:center;background:none;\">13</th><th style=\"color:LightGrey;border:0px none;text-align:center;background:none;\">...</th><th style=\"color:LightGrey;border:0px none;text-align:center;background:none;\">19</th></tr><tr style=\"border: 0px solid\"><td>0</td><td>10</td><td>20</td><td>30</td><td>40</td><td>50</td><td>60</td><td>70</td><td>80</td><td>90</td><td>100</td><td>110</td><td>120</td><td>130</td><td>...</td><td>190</td></tr></tbody></table></p></p></div>"
      ],
      "text/plain": [
       "<IPython.core.display.HTML object>"
      ]
     },
     "execution_count": 7,
     "metadata": {},
     "output_type": "execute_result"
    }
   ],
   "source": [
    "HTML(bench_ET())"
   ]
  },
  {
   "cell_type": "code",
   "execution_count": 26,
   "metadata": {},
   "outputs": [
    {
     "data": {
      "text/plain": [
       "<span>: </span>"
      ]
     },
     "execution_count": 26,
     "metadata": {},
     "output_type": "execute_result"
    }
   ],
   "source": [
    "soup = bs4.BeautifulSoup('<div/>', 'html.parser')\n",
    "soup.div.append(soup.new_tag(name='p'))\n",
    "soup.div.p.append(soup.new_tag(name='code'))\n",
    "soup.div.p.code.string = myMesh.__class__.__name__\n",
    "soup.div.p.append(soup.new_tag(name='span'))\n",
    "soup.div.span.string = \": \"\n",
    "soup.div.p.append(soup.new_tag(name='b'))\n",
    "soup.div.b.string = myMesh.label or \"Label\"\n",
    "soup.div.p.append(soup.new_tag(name='span'))\n",
    "soup.div.span #1].string = \" [{}]\".format(myMesh.unit or \"unit\")\n",
    "\n",
    "\n",
    "\n",
    "#soup\n"
   ]
  },
  {
   "cell_type": "code",
   "execution_count": 1,
   "metadata": {},
   "outputs": [
    {
     "ename": "NameError",
     "evalue": "name 'ET' is not defined",
     "output_type": "error",
     "traceback": [
      "\u001b[0;31m---------------------------------------------------------------------------\u001b[0m",
      "\u001b[0;31mNameError\u001b[0m                                 Traceback (most recent call last)",
      "\u001b[0;32m<ipython-input-1-5d0c173f600c>\u001b[0m in \u001b[0;36m<module>\u001b[0;34m()\u001b[0m\n\u001b[0;32m----> 1\u001b[0;31m \u001b[0mget_ipython\u001b[0m\u001b[0;34m(\u001b[0m\u001b[0;34m)\u001b[0m\u001b[0;34m.\u001b[0m\u001b[0mrun_cell_magic\u001b[0m\u001b[0;34m(\u001b[0m\u001b[0;34m'timeit'\u001b[0m\u001b[0;34m,\u001b[0m \u001b[0;34m''\u001b[0m\u001b[0;34m,\u001b[0m \u001b[0;34m'pre = ET.SubElement(root, \\'p\\')\\ncode = ET.SubElement(pre, \\'code\\')\\ncode.text = myMesh.__class__.__name__\\nspan = ET.SubElement(pre, \\'span\\').text = \": \"\\nb = ET.SubElement(pre, \\'b\\')\\nb.text = myMesh.label or \"Label\"\\nspan = ET.SubElement(pre, \\'span\\')\\nspan.text = \" [{}]\".format(myMesh.unit or \"unit\")\\nET.SubElement(pre, \\'br\\')'\u001b[0m\u001b[0;34m)\u001b[0m\u001b[0;34m\u001b[0m\u001b[0m\n\u001b[0m",
      "\u001b[0;32m~/Documents/Developpement/python/anaconda/anaconda3-5.0.0/lib/python3.6/site-packages/IPython/core/interactiveshell.py\u001b[0m in \u001b[0;36mrun_cell_magic\u001b[0;34m(self, magic_name, line, cell)\u001b[0m\n\u001b[1;32m   2101\u001b[0m             \u001b[0mmagic_arg_s\u001b[0m \u001b[0;34m=\u001b[0m \u001b[0mself\u001b[0m\u001b[0;34m.\u001b[0m\u001b[0mvar_expand\u001b[0m\u001b[0;34m(\u001b[0m\u001b[0mline\u001b[0m\u001b[0;34m,\u001b[0m \u001b[0mstack_depth\u001b[0m\u001b[0;34m)\u001b[0m\u001b[0;34m\u001b[0m\u001b[0m\n\u001b[1;32m   2102\u001b[0m             \u001b[0;32mwith\u001b[0m \u001b[0mself\u001b[0m\u001b[0;34m.\u001b[0m\u001b[0mbuiltin_trap\u001b[0m\u001b[0;34m:\u001b[0m\u001b[0;34m\u001b[0m\u001b[0m\n\u001b[0;32m-> 2103\u001b[0;31m                 \u001b[0mresult\u001b[0m \u001b[0;34m=\u001b[0m \u001b[0mfn\u001b[0m\u001b[0;34m(\u001b[0m\u001b[0mmagic_arg_s\u001b[0m\u001b[0;34m,\u001b[0m \u001b[0mcell\u001b[0m\u001b[0;34m)\u001b[0m\u001b[0;34m\u001b[0m\u001b[0m\n\u001b[0m\u001b[1;32m   2104\u001b[0m             \u001b[0;32mreturn\u001b[0m \u001b[0mresult\u001b[0m\u001b[0;34m\u001b[0m\u001b[0m\n\u001b[1;32m   2105\u001b[0m \u001b[0;34m\u001b[0m\u001b[0m\n",
      "\u001b[0;32m<decorator-gen-61>\u001b[0m in \u001b[0;36mtimeit\u001b[0;34m(self, line, cell)\u001b[0m\n",
      "\u001b[0;32m~/Documents/Developpement/python/anaconda/anaconda3-5.0.0/lib/python3.6/site-packages/IPython/core/magic.py\u001b[0m in \u001b[0;36m<lambda>\u001b[0;34m(f, *a, **k)\u001b[0m\n\u001b[1;32m    185\u001b[0m     \u001b[0;31m# but it's overkill for just that one bit of state.\u001b[0m\u001b[0;34m\u001b[0m\u001b[0;34m\u001b[0m\u001b[0m\n\u001b[1;32m    186\u001b[0m     \u001b[0;32mdef\u001b[0m \u001b[0mmagic_deco\u001b[0m\u001b[0;34m(\u001b[0m\u001b[0marg\u001b[0m\u001b[0;34m)\u001b[0m\u001b[0;34m:\u001b[0m\u001b[0;34m\u001b[0m\u001b[0m\n\u001b[0;32m--> 187\u001b[0;31m         \u001b[0mcall\u001b[0m \u001b[0;34m=\u001b[0m \u001b[0;32mlambda\u001b[0m \u001b[0mf\u001b[0m\u001b[0;34m,\u001b[0m \u001b[0;34m*\u001b[0m\u001b[0ma\u001b[0m\u001b[0;34m,\u001b[0m \u001b[0;34m**\u001b[0m\u001b[0mk\u001b[0m\u001b[0;34m:\u001b[0m \u001b[0mf\u001b[0m\u001b[0;34m(\u001b[0m\u001b[0;34m*\u001b[0m\u001b[0ma\u001b[0m\u001b[0;34m,\u001b[0m \u001b[0;34m**\u001b[0m\u001b[0mk\u001b[0m\u001b[0;34m)\u001b[0m\u001b[0;34m\u001b[0m\u001b[0m\n\u001b[0m\u001b[1;32m    188\u001b[0m \u001b[0;34m\u001b[0m\u001b[0m\n\u001b[1;32m    189\u001b[0m         \u001b[0;32mif\u001b[0m \u001b[0mcallable\u001b[0m\u001b[0;34m(\u001b[0m\u001b[0marg\u001b[0m\u001b[0;34m)\u001b[0m\u001b[0;34m:\u001b[0m\u001b[0;34m\u001b[0m\u001b[0m\n",
      "\u001b[0;32m~/Documents/Developpement/python/anaconda/anaconda3-5.0.0/lib/python3.6/site-packages/IPython/core/magics/execution.py\u001b[0m in \u001b[0;36mtimeit\u001b[0;34m(self, line, cell)\u001b[0m\n\u001b[1;32m   1078\u001b[0m             \u001b[0;32mfor\u001b[0m \u001b[0mindex\u001b[0m \u001b[0;32min\u001b[0m \u001b[0mrange\u001b[0m\u001b[0;34m(\u001b[0m\u001b[0;36m0\u001b[0m\u001b[0;34m,\u001b[0m \u001b[0;36m10\u001b[0m\u001b[0;34m)\u001b[0m\u001b[0;34m:\u001b[0m\u001b[0;34m\u001b[0m\u001b[0m\n\u001b[1;32m   1079\u001b[0m                 \u001b[0mnumber\u001b[0m \u001b[0;34m=\u001b[0m \u001b[0;36m10\u001b[0m \u001b[0;34m**\u001b[0m \u001b[0mindex\u001b[0m\u001b[0;34m\u001b[0m\u001b[0m\n\u001b[0;32m-> 1080\u001b[0;31m                 \u001b[0mtime_number\u001b[0m \u001b[0;34m=\u001b[0m \u001b[0mtimer\u001b[0m\u001b[0;34m.\u001b[0m\u001b[0mtimeit\u001b[0m\u001b[0;34m(\u001b[0m\u001b[0mnumber\u001b[0m\u001b[0;34m)\u001b[0m\u001b[0;34m\u001b[0m\u001b[0m\n\u001b[0m\u001b[1;32m   1081\u001b[0m                 \u001b[0;32mif\u001b[0m \u001b[0mtime_number\u001b[0m \u001b[0;34m>=\u001b[0m \u001b[0;36m0.2\u001b[0m\u001b[0;34m:\u001b[0m\u001b[0;34m\u001b[0m\u001b[0m\n\u001b[1;32m   1082\u001b[0m                     \u001b[0;32mbreak\u001b[0m\u001b[0;34m\u001b[0m\u001b[0m\n",
      "\u001b[0;32m~/Documents/Developpement/python/anaconda/anaconda3-5.0.0/lib/python3.6/site-packages/IPython/core/magics/execution.py\u001b[0m in \u001b[0;36mtimeit\u001b[0;34m(self, number)\u001b[0m\n\u001b[1;32m    158\u001b[0m         \u001b[0mgc\u001b[0m\u001b[0;34m.\u001b[0m\u001b[0mdisable\u001b[0m\u001b[0;34m(\u001b[0m\u001b[0;34m)\u001b[0m\u001b[0;34m\u001b[0m\u001b[0m\n\u001b[1;32m    159\u001b[0m         \u001b[0;32mtry\u001b[0m\u001b[0;34m:\u001b[0m\u001b[0;34m\u001b[0m\u001b[0m\n\u001b[0;32m--> 160\u001b[0;31m             \u001b[0mtiming\u001b[0m \u001b[0;34m=\u001b[0m \u001b[0mself\u001b[0m\u001b[0;34m.\u001b[0m\u001b[0minner\u001b[0m\u001b[0;34m(\u001b[0m\u001b[0mit\u001b[0m\u001b[0;34m,\u001b[0m \u001b[0mself\u001b[0m\u001b[0;34m.\u001b[0m\u001b[0mtimer\u001b[0m\u001b[0;34m)\u001b[0m\u001b[0;34m\u001b[0m\u001b[0m\n\u001b[0m\u001b[1;32m    161\u001b[0m         \u001b[0;32mfinally\u001b[0m\u001b[0;34m:\u001b[0m\u001b[0;34m\u001b[0m\u001b[0m\n\u001b[1;32m    162\u001b[0m             \u001b[0;32mif\u001b[0m \u001b[0mgcold\u001b[0m\u001b[0;34m:\u001b[0m\u001b[0;34m\u001b[0m\u001b[0m\n",
      "\u001b[0;32m<magic-timeit>\u001b[0m in \u001b[0;36minner\u001b[0;34m(_it, _timer)\u001b[0m\n",
      "\u001b[0;31mNameError\u001b[0m: name 'ET' is not defined"
     ]
    }
   ],
   "source": [
    "span = ET.SubElement(pre, 'span')\n",
    "span.text = \" [{}]\".format(myMesh.unit or \"unit\")\n",
    "ET.SubElement(pre, 'br')"
   ]
  },
  {
   "cell_type": "code",
   "execution_count": 65,
   "metadata": {},
   "outputs": [],
   "source": [
    "div.append(soup.new_tag(name='table'))"
   ]
  },
  {
   "cell_type": "code",
   "execution_count": 66,
   "metadata": {},
   "outputs": [
    {
     "data": {
      "text/plain": [
       "<div><table></table></div>"
      ]
     },
     "execution_count": 66,
     "metadata": {},
     "output_type": "execute_result"
    }
   ],
   "source": [
    "soup"
   ]
  },
  {
   "cell_type": "code",
   "execution_count": null,
   "metadata": {
    "collapsed": true
   },
   "outputs": [],
   "source": []
  }
 ],
 "metadata": {
  "kernelspec": {
   "display_name": "Python 3",
   "language": "python",
   "name": "python3"
  },
  "language_info": {
   "codemirror_mode": {
    "name": "ipython",
    "version": 3
   },
   "file_extension": ".py",
   "mimetype": "text/x-python",
   "name": "python",
   "nbconvert_exporter": "python",
   "pygments_lexer": "ipython3",
   "version": "3.6.2"
  },
  "toc": {
   "colors": {
    "hover_highlight": "#DAA520",
    "navigate_num": "#000000",
    "navigate_text": "#333333",
    "running_highlight": "#FF0000",
    "selected_highlight": "#FFD700",
    "sidebar_border": "#EEEEEE",
    "wrapper_background": "#FFFFFF"
   },
   "moveMenuLeft": true,
   "nav_menu": {
    "height": "30px",
    "width": "252px"
   },
   "navigate_menu": true,
   "number_sections": true,
   "sideBar": true,
   "threshold": 4,
   "toc_cell": false,
   "toc_section_display": "block",
   "toc_window_display": true,
   "widenNotebook": false
  }
 },
 "nbformat": 4,
 "nbformat_minor": 2
}
