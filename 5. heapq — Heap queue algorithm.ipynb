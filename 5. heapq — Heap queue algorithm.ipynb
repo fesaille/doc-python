{
 "cells": [
  {
   "cell_type": "code",
   "execution_count": 1,
   "metadata": {},
   "outputs": [
    {
     "data": {
      "text/html": [
       "In computer science, a heap is a specialized tree-based data structure that satisfies the heap property: if P is a parent node of C, then the key (the value) of P is either greater than or equal to (in a max heap) or less than or equal to (in a min heap) the key of C. The node at the \"top\" of the heap (with no parents) is called the root node."
      ],
      "text/plain": [
       "<IPython.core.display.HTML object>"
      ]
     },
     "execution_count": 1,
     "metadata": {},
     "output_type": "execute_result"
    }
   ],
   "source": [
    "import wikipedia\n",
    "from IPython.display import (HTML, Pretty)\n",
    "\n",
    "HTML(wikipedia.summary('Heap_(data_structure)', sentences=1))"
   ]
  },
  {
   "cell_type": "markdown",
   "metadata": {},
   "source": [
    "<a href=\"https://docs.python.org/3/library/heapq.html#module-heapq\">heapq</a> module documentation"
   ]
  },
  {
   "cell_type": "code",
   "execution_count": null,
   "metadata": {},
   "outputs": [],
   "source": []
  },
  {
   "cell_type": "code",
   "execution_count": 2,
   "metadata": {},
   "outputs": [],
   "source": [
    "from heapq import heappush, heappop\n",
    "import itertools\n",
    "\n",
    "pq = []                         # list of entries arranged in a heap\n",
    "entry_finder = {}               # mapping of tasks to entries\n",
    "REMOVED = '<removed-task>'      # placeholder for a removed task\n",
    "counter = itertools.count()     # unique sequence count\n",
    "\n",
    "def add_task(task, priority=0):\n",
    "    'Add a new task or update the priority of an existing task'\n",
    "    if task in entry_finder:\n",
    "        remove_task(task)\n",
    "    count = next(counter)\n",
    "    entry = [priority, count, task]\n",
    "    entry_finder[task] = entry\n",
    "    heappush(pq, entry)\n",
    "\n",
    "def remove_task(task):\n",
    "    'Mark an existing task as REMOVED.  Raise KeyError if not found.'\n",
    "    entry = entry_finder.pop(task)\n",
    "    entry[-1] = REMOVED\n",
    "\n",
    "def pop_task():\n",
    "    'Remove and return the lowest priority task. Raise KeyError if empty.'\n",
    "    while pq:\n",
    "        priority, count, task = heappop(pq)\n",
    "        if task is not REMOVED:\n",
    "            del entry_finder[task]\n",
    "            return task\n",
    "    raise KeyError('pop from an empty priority queue')"
   ]
  },
  {
   "cell_type": "code",
   "execution_count": 3,
   "metadata": {},
   "outputs": [],
   "source": [
    "add_task(\"Tache 1\", priority=4)\n",
    "add_task(\"Tache 2\", priority=20)\n",
    "add_task(\"Tache 3\", priority=3)"
   ]
  },
  {
   "cell_type": "code",
   "execution_count": 4,
   "metadata": {},
   "outputs": [
    {
     "data": {
      "text/plain": [
       "'Tache 3'"
      ]
     },
     "execution_count": 4,
     "metadata": {},
     "output_type": "execute_result"
    }
   ],
   "source": [
    "pop_task()"
   ]
  },
  {
   "cell_type": "code",
   "execution_count": 5,
   "metadata": {},
   "outputs": [],
   "source": [
    "from dataclasses import dataclass, field\n",
    "from typing import Any\n",
    "\n",
    "@dataclass(order=True)\n",
    "class PrioritizedItem:\n",
    "    priority: int\n",
    "    item: Any=field(compare=False)\n",
    "\n",
    "h = []\n",
    "heappush(h, PrioritizedItem(5, 'write code'))\n",
    "heappush(h, PrioritizedItem(7, 'release product'))\n",
    "heappush(h, PrioritizedItem(1, 'write spec'))\n",
    "heappush(h, PrioritizedItem(3, 'create tests'))"
   ]
  },
  {
   "cell_type": "code",
   "execution_count": 6,
   "metadata": {},
   "outputs": [
    {
     "name": "stdout",
     "output_type": "stream",
     "text": [
      "PrioritizedItem(priority=1, item='write spec')\n",
      "PrioritizedItem(priority=3, item='create tests')\n",
      "PrioritizedItem(priority=5, item='write code')\n",
      "PrioritizedItem(priority=7, item='release product')\n"
     ]
    }
   ],
   "source": [
    "while h:\n",
    "    print(heappop(h))"
   ]
  },
  {
   "cell_type": "code",
   "execution_count": 7,
   "metadata": {},
   "outputs": [
    {
     "name": "stdout",
     "output_type": "stream",
     "text": [
      "Overwriting add.cpp\n"
     ]
    }
   ],
   "source": [
    "%%file add.cpp\n",
    "\n",
    "#include <iostream>\n",
    "using std::cout;\n",
    "using std::endl;\n",
    "\n",
    "double add(double a, double b) {\n",
    "    return a + b;\n",
    "}\n",
    "\n",
    "int main() {\n",
    "    double a = 1.0, b= 2.0;\n",
    "\n",
    "    double c = add(a, b);\n",
    "\n",
    "    cout << a << \" + \" << b << \" = \" << c << endl;\n",
    "}"
   ]
  },
  {
   "cell_type": "code",
   "execution_count": null,
   "metadata": {},
   "outputs": [],
   "source": []
  }
 ],
 "metadata": {
  "kernelspec": {
   "display_name": "Python 3.7",
   "language": "python",
   "name": "python3"
  },
  "language_info": {
   "codemirror_mode": {
    "name": "ipython",
    "version": 3
   },
   "file_extension": ".py",
   "mimetype": "text/x-python",
   "name": "python",
   "nbconvert_exporter": "python",
   "pygments_lexer": "ipython3",
   "version": "3.7.1"
  },
  "toc": {
   "colors": {
    "hover_highlight": "#DAA520",
    "navigate_num": "#000000",
    "navigate_text": "#333333",
    "running_highlight": "#FF0000",
    "selected_highlight": "#FFD700",
    "sidebar_border": "#EEEEEE",
    "wrapper_background": "#FFFFFF"
   },
   "moveMenuLeft": true,
   "nav_menu": {
    "height": "12px",
    "width": "252px"
   },
   "navigate_menu": true,
   "number_sections": true,
   "sideBar": true,
   "threshold": 4,
   "toc_cell": false,
   "toc_section_display": "block",
   "toc_window_display": false,
   "widenNotebook": false
  }
 },
 "nbformat": 4,
 "nbformat_minor": 2
}
